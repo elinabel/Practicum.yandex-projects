{
 "cells": [
  {
   "cell_type": "markdown",
   "id": "9d6840d7",
   "metadata": {},
   "source": [
    "Привет, Элина!\n",
    "\n",
    "Меня зовут Вячеслав Погорелый, и я буду проводить ревью твоего проекта. \n",
    "\n",
    "Предлагаю перейти на \"ты\", если не против)\n",
    "\n",
    "Но если это не удобно - дай знать, и мы перейдем на \"вы\". Моя главная задача — не находить сделанные тобою ошибки, а передать свой опыт и помочь тебе стать аналитиком данных.\n",
    "\n",
    "Я отметил комментарии и замечания разным цветом далее по тексту markdown:\n",
    "\n",
    "---    \n",
    "<div class=\"alert alert-block alert-danger\">\n",
    "    \n",
    "### Ошибка\n",
    "    \n",
    "Критическое замечание, которые следует исправить.\n",
    "</div> \n",
    "    \n",
    "---\n",
    "    \n",
    "<div class=\"alert alert-block alert-warning\">\n",
    "    \n",
    "### Совет\n",
    "    \n",
    "Замечание\\совет на будущее.\n",
    "</div>\n",
    "    \n",
    "---\n",
    "    \n",
    "<div class=\"alert alert-block alert-success\">\n",
    "    \n",
    "### Успех\n",
    "    \n",
    "Когда всё сделано правильно.\n",
    "</div>\n",
    "    \n",
    "    \n",
    "    \n",
    "Будет здорово, если для ответов ты выберешь любой **<font color=\"maroon\">читабельный и заметный цвет</font>**, так мне будет проще все проверить.\n",
    "\n",
    "\n",
    "При доработке проекта попрошу тебя сохранить и не видоизменять заметки ревьюера, это осложняет повторную проверку."
   ]
  },
  {
   "cell_type": "markdown",
   "id": "9c7d9f55",
   "metadata": {},
   "source": [
    "<div class=\"alert alert-block alert-success\">\n",
    " \n",
    "# Итоговый Комментарий ревьюера ver.2\n",
    "    \n",
    "#### Успех\n",
    "    \n",
    "Спасибо тебе за исправления замечаний. Вот теперь проект я принимаю и желаю тебе успехов в дальнешей учебе. Ты точно справишься, я уверен в этом. \n"
   ]
  },
  {
   "cell_type": "markdown",
   "id": "8996836e",
   "metadata": {},
   "source": [
    "**<font color=\"purple\">Вячеслав ,спасибо за комментарии! Я постараюсь все скорректировать</font>**"
   ]
  },
  {
   "cell_type": "markdown",
   "id": "4c3d3439",
   "metadata": {},
   "source": [
    "Приступаем к работе над проектом ,целью которого является анализ данных интернет-магазина компьютерных игр «Стримчик».Необходимо выявить закономерности ,определяющие успешность игры . Это позволит выявить потенциально популярный продукт и спланировать рекламные кампании.Мы имеем данные о продажах игр, оценки пользователей и экспертов, жанры и платформы."
   ]
  },
  {
   "cell_type": "code",
   "execution_count": 72,
   "id": "ff44e251",
   "metadata": {},
   "outputs": [
    {
     "data": {
      "text/html": [
       "<div>\n",
       "<style scoped>\n",
       "    .dataframe tbody tr th:only-of-type {\n",
       "        vertical-align: middle;\n",
       "    }\n",
       "\n",
       "    .dataframe tbody tr th {\n",
       "        vertical-align: top;\n",
       "    }\n",
       "\n",
       "    .dataframe thead th {\n",
       "        text-align: right;\n",
       "    }\n",
       "</style>\n",
       "<table border=\"1\" class=\"dataframe\">\n",
       "  <thead>\n",
       "    <tr style=\"text-align: right;\">\n",
       "      <th></th>\n",
       "      <th>Name</th>\n",
       "      <th>Platform</th>\n",
       "      <th>Year_of_Release</th>\n",
       "      <th>Genre</th>\n",
       "      <th>NA_sales</th>\n",
       "      <th>EU_sales</th>\n",
       "      <th>JP_sales</th>\n",
       "      <th>Other_sales</th>\n",
       "      <th>Critic_Score</th>\n",
       "      <th>User_Score</th>\n",
       "      <th>Rating</th>\n",
       "    </tr>\n",
       "  </thead>\n",
       "  <tbody>\n",
       "    <tr>\n",
       "      <th>0</th>\n",
       "      <td>Wii Sports</td>\n",
       "      <td>Wii</td>\n",
       "      <td>2006.0</td>\n",
       "      <td>Sports</td>\n",
       "      <td>41.36</td>\n",
       "      <td>28.96</td>\n",
       "      <td>3.77</td>\n",
       "      <td>8.45</td>\n",
       "      <td>76.0</td>\n",
       "      <td>8</td>\n",
       "      <td>E</td>\n",
       "    </tr>\n",
       "    <tr>\n",
       "      <th>1</th>\n",
       "      <td>Super Mario Bros.</td>\n",
       "      <td>NES</td>\n",
       "      <td>1985.0</td>\n",
       "      <td>Platform</td>\n",
       "      <td>29.08</td>\n",
       "      <td>3.58</td>\n",
       "      <td>6.81</td>\n",
       "      <td>0.77</td>\n",
       "      <td>NaN</td>\n",
       "      <td>NaN</td>\n",
       "      <td>NaN</td>\n",
       "    </tr>\n",
       "    <tr>\n",
       "      <th>2</th>\n",
       "      <td>Mario Kart Wii</td>\n",
       "      <td>Wii</td>\n",
       "      <td>2008.0</td>\n",
       "      <td>Racing</td>\n",
       "      <td>15.68</td>\n",
       "      <td>12.76</td>\n",
       "      <td>3.79</td>\n",
       "      <td>3.29</td>\n",
       "      <td>82.0</td>\n",
       "      <td>8.3</td>\n",
       "      <td>E</td>\n",
       "    </tr>\n",
       "    <tr>\n",
       "      <th>3</th>\n",
       "      <td>Wii Sports Resort</td>\n",
       "      <td>Wii</td>\n",
       "      <td>2009.0</td>\n",
       "      <td>Sports</td>\n",
       "      <td>15.61</td>\n",
       "      <td>10.93</td>\n",
       "      <td>3.28</td>\n",
       "      <td>2.95</td>\n",
       "      <td>80.0</td>\n",
       "      <td>8</td>\n",
       "      <td>E</td>\n",
       "    </tr>\n",
       "    <tr>\n",
       "      <th>4</th>\n",
       "      <td>Pokemon Red/Pokemon Blue</td>\n",
       "      <td>GB</td>\n",
       "      <td>1996.0</td>\n",
       "      <td>Role-Playing</td>\n",
       "      <td>11.27</td>\n",
       "      <td>8.89</td>\n",
       "      <td>10.22</td>\n",
       "      <td>1.00</td>\n",
       "      <td>NaN</td>\n",
       "      <td>NaN</td>\n",
       "      <td>NaN</td>\n",
       "    </tr>\n",
       "    <tr>\n",
       "      <th>5</th>\n",
       "      <td>Tetris</td>\n",
       "      <td>GB</td>\n",
       "      <td>1989.0</td>\n",
       "      <td>Puzzle</td>\n",
       "      <td>23.20</td>\n",
       "      <td>2.26</td>\n",
       "      <td>4.22</td>\n",
       "      <td>0.58</td>\n",
       "      <td>NaN</td>\n",
       "      <td>NaN</td>\n",
       "      <td>NaN</td>\n",
       "    </tr>\n",
       "    <tr>\n",
       "      <th>6</th>\n",
       "      <td>New Super Mario Bros.</td>\n",
       "      <td>DS</td>\n",
       "      <td>2006.0</td>\n",
       "      <td>Platform</td>\n",
       "      <td>11.28</td>\n",
       "      <td>9.14</td>\n",
       "      <td>6.50</td>\n",
       "      <td>2.88</td>\n",
       "      <td>89.0</td>\n",
       "      <td>8.5</td>\n",
       "      <td>E</td>\n",
       "    </tr>\n",
       "    <tr>\n",
       "      <th>7</th>\n",
       "      <td>Wii Play</td>\n",
       "      <td>Wii</td>\n",
       "      <td>2006.0</td>\n",
       "      <td>Misc</td>\n",
       "      <td>13.96</td>\n",
       "      <td>9.18</td>\n",
       "      <td>2.93</td>\n",
       "      <td>2.84</td>\n",
       "      <td>58.0</td>\n",
       "      <td>6.6</td>\n",
       "      <td>E</td>\n",
       "    </tr>\n",
       "    <tr>\n",
       "      <th>8</th>\n",
       "      <td>New Super Mario Bros. Wii</td>\n",
       "      <td>Wii</td>\n",
       "      <td>2009.0</td>\n",
       "      <td>Platform</td>\n",
       "      <td>14.44</td>\n",
       "      <td>6.94</td>\n",
       "      <td>4.70</td>\n",
       "      <td>2.24</td>\n",
       "      <td>87.0</td>\n",
       "      <td>8.4</td>\n",
       "      <td>E</td>\n",
       "    </tr>\n",
       "    <tr>\n",
       "      <th>9</th>\n",
       "      <td>Duck Hunt</td>\n",
       "      <td>NES</td>\n",
       "      <td>1984.0</td>\n",
       "      <td>Shooter</td>\n",
       "      <td>26.93</td>\n",
       "      <td>0.63</td>\n",
       "      <td>0.28</td>\n",
       "      <td>0.47</td>\n",
       "      <td>NaN</td>\n",
       "      <td>NaN</td>\n",
       "      <td>NaN</td>\n",
       "    </tr>\n",
       "  </tbody>\n",
       "</table>\n",
       "</div>"
      ],
      "text/plain": [
       "                        Name Platform  Year_of_Release         Genre  \\\n",
       "0                 Wii Sports      Wii           2006.0        Sports   \n",
       "1          Super Mario Bros.      NES           1985.0      Platform   \n",
       "2             Mario Kart Wii      Wii           2008.0        Racing   \n",
       "3          Wii Sports Resort      Wii           2009.0        Sports   \n",
       "4   Pokemon Red/Pokemon Blue       GB           1996.0  Role-Playing   \n",
       "5                     Tetris       GB           1989.0        Puzzle   \n",
       "6      New Super Mario Bros.       DS           2006.0      Platform   \n",
       "7                   Wii Play      Wii           2006.0          Misc   \n",
       "8  New Super Mario Bros. Wii      Wii           2009.0      Platform   \n",
       "9                  Duck Hunt      NES           1984.0       Shooter   \n",
       "\n",
       "   NA_sales  EU_sales  JP_sales  Other_sales  Critic_Score User_Score Rating  \n",
       "0     41.36     28.96      3.77         8.45          76.0          8      E  \n",
       "1     29.08      3.58      6.81         0.77           NaN        NaN    NaN  \n",
       "2     15.68     12.76      3.79         3.29          82.0        8.3      E  \n",
       "3     15.61     10.93      3.28         2.95          80.0          8      E  \n",
       "4     11.27      8.89     10.22         1.00           NaN        NaN    NaN  \n",
       "5     23.20      2.26      4.22         0.58           NaN        NaN    NaN  \n",
       "6     11.28      9.14      6.50         2.88          89.0        8.5      E  \n",
       "7     13.96      9.18      2.93         2.84          58.0        6.6      E  \n",
       "8     14.44      6.94      4.70         2.24          87.0        8.4      E  \n",
       "9     26.93      0.63      0.28         0.47           NaN        NaN    NaN  "
      ]
     },
     "execution_count": 72,
     "metadata": {},
     "output_type": "execute_result"
    }
   ],
   "source": [
    "import pandas as pd\n",
    "import numpy as np \n",
    "import matplotlib.pyplot as plt\n",
    "import seaborn as sns\n",
    "import scipy.stats as st\n",
    "data = pd.read_csv('/datasets/games.csv')\n",
    "data.head(10)"
   ]
  },
  {
   "cell_type": "markdown",
   "id": "5898a925",
   "metadata": {},
   "source": [
    "<div class=\"alert alert-block alert-danger\">\n",
    " \n",
    "### Комментарий ревьюера\n",
    "    \n",
    "#### Ошбика\n",
    "    \n",
    "У тебя здесь две ошибки есть. Первая при вызове библиотеки. Надо испортировать из scipy.stats.\n",
    "\n",
    "Вторая ошибка, если у тебя функция идет по режиму except, то у тебя data нигде не сохраняется и print() не сработает. \n",
    "</div "
   ]
  },
  {
   "cell_type": "markdown",
   "id": "4a13a190",
   "metadata": {},
   "source": [
    "**<font color=\"purple\">Исправила название библиотеки.Убрала метод try</font>**"
   ]
  },
  {
   "cell_type": "code",
   "execution_count": 73,
   "id": "bc2bc099",
   "metadata": {},
   "outputs": [
    {
     "name": "stdout",
     "output_type": "stream",
     "text": [
      "<class 'pandas.core.frame.DataFrame'>\n",
      "RangeIndex: 16715 entries, 0 to 16714\n",
      "Data columns (total 11 columns):\n",
      " #   Column           Non-Null Count  Dtype  \n",
      "---  ------           --------------  -----  \n",
      " 0   Name             16713 non-null  object \n",
      " 1   Platform         16715 non-null  object \n",
      " 2   Year_of_Release  16446 non-null  float64\n",
      " 3   Genre            16713 non-null  object \n",
      " 4   NA_sales         16715 non-null  float64\n",
      " 5   EU_sales         16715 non-null  float64\n",
      " 6   JP_sales         16715 non-null  float64\n",
      " 7   Other_sales      16715 non-null  float64\n",
      " 8   Critic_Score     8137 non-null   float64\n",
      " 9   User_Score       10014 non-null  object \n",
      " 10  Rating           9949 non-null   object \n",
      "dtypes: float64(6), object(5)\n",
      "memory usage: 1.4+ MB\n"
     ]
    }
   ],
   "source": [
    "data.info()#Посмотрим общую информацию о таблице"
   ]
  },
  {
   "cell_type": "markdown",
   "id": "84d9e2c6",
   "metadata": {},
   "source": [
    "Приведем название столбцов к нижнему регистру так как они не соответсвуют общепринятому правилу"
   ]
  },
  {
   "cell_type": "code",
   "execution_count": 74,
   "id": "ecfbc849",
   "metadata": {},
   "outputs": [],
   "source": [
    "data = data.rename(columns=str.lower)"
   ]
  },
  {
   "cell_type": "markdown",
   "id": "8579ba48",
   "metadata": {},
   "source": [
    "<div class=\"alert alert-block alert-success\">\n",
    " \n",
    "### Комментарий ревьюера\n",
    "    \n",
    "#### Успех\n",
    "    \n",
    "Достатчоно хороший метод. \n",
    "</div "
   ]
  },
  {
   "cell_type": "code",
   "execution_count": 75,
   "id": "b384c1d9",
   "metadata": {},
   "outputs": [
    {
     "data": {
      "text/plain": [
       "Index(['name', 'platform', 'year_of_release', 'genre', 'na_sales', 'eu_sales',\n",
       "       'jp_sales', 'other_sales', 'critic_score', 'user_score', 'rating'],\n",
       "      dtype='object')"
      ]
     },
     "execution_count": 75,
     "metadata": {},
     "output_type": "execute_result"
    }
   ],
   "source": [
    "data.columns"
   ]
  },
  {
   "cell_type": "markdown",
   "id": "2c08075e",
   "metadata": {},
   "source": [
    "# Преобразуем типы данных"
   ]
  },
  {
   "cell_type": "code",
   "execution_count": 76,
   "id": "d89eccd1",
   "metadata": {},
   "outputs": [],
   "source": [
    "\n",
    "data['year_of_release'] = data['year_of_release'].astype('Int32')# преобразуем год в int\n"
   ]
  },
  {
   "cell_type": "markdown",
   "id": "c96531fd",
   "metadata": {},
   "source": [
    "<div class=\"alert alert-block alert-warning\">\n",
    " \n",
    "### Комментарий ревьюера\n",
    "    \n",
    "#### Совет\n",
    "    \n",
    "Для экономии вычислительной памяти лучше всего перевести в int32 \n",
    "</div "
   ]
  },
  {
   "cell_type": "markdown",
   "id": "ca702035",
   "metadata": {},
   "source": [
    "**<font color=\"purple\">Спасибо за совет,поправила</font>**"
   ]
  },
  {
   "cell_type": "markdown",
   "id": "78e61927",
   "metadata": {},
   "source": [
    "<div class=\"alert alert-block alert-success\">\n",
    " \n",
    "# Комментарий ревьюера ver.2\n",
    "    \n",
    "#### Успех\n",
    "    \n",
    "Вот а теперь другое дело. \n",
    "</div "
   ]
  },
  {
   "cell_type": "code",
   "execution_count": 77,
   "id": "c947c0f2",
   "metadata": {},
   "outputs": [
    {
     "data": {
      "text/plain": [
       "array(['8', nan, '8.3', '8.5', '6.6', '8.4', '8.6', '7.7', '6.3', '7.4',\n",
       "       '8.2', '9', '7.9', '8.1', '8.7', '7.1', '3.4', '5.3', '4.8', '3.2',\n",
       "       '8.9', '6.4', '7.8', '7.5', '2.6', '7.2', '9.2', '7', '7.3', '4.3',\n",
       "       '7.6', '5.7', '5', '9.1', '6.5', 'tbd', '8.8', '6.9', '9.4', '6.8',\n",
       "       '6.1', '6.7', '5.4', '4', '4.9', '4.5', '9.3', '6.2', '4.2', '6',\n",
       "       '3.7', '4.1', '5.8', '5.6', '5.5', '4.4', '4.6', '5.9', '3.9',\n",
       "       '3.1', '2.9', '5.2', '3.3', '4.7', '5.1', '3.5', '2.5', '1.9', '3',\n",
       "       '2.7', '2.2', '2', '9.5', '2.1', '3.6', '2.8', '1.8', '3.8', '0',\n",
       "       '1.6', '9.6', '2.4', '1.7', '1.1', '0.3', '1.5', '0.7', '1.2',\n",
       "       '2.3', '0.5', '1.3', '0.2', '0.6', '1.4', '0.9', '1', '9.7'],\n",
       "      dtype=object)"
      ]
     },
     "execution_count": 77,
     "metadata": {},
     "output_type": "execute_result"
    }
   ],
   "source": [
    "data['user_score'].unique()#посмотрим уникальные значения столбца user_score"
   ]
  },
  {
   "cell_type": "markdown",
   "id": "8f09119f",
   "metadata": {},
   "source": [
    "Среди значений есть 'tbd'-данная аббревиатура означает To Be Determined (будет определено). Используется, если какая-то информация еще не определена или решение по вопросу не принято.Фактически это значит что информации нет.Как мы видим 'user_score' имеет тип данных object ,который необходимо поменять на float.Но для начала необходимо преобразовать 'tbd' в nan.\n"
   ]
  },
  {
   "cell_type": "code",
   "execution_count": 78,
   "id": "281cb325",
   "metadata": {},
   "outputs": [],
   "source": [
    "data['user_score'] = data['user_score'].replace('tbd', np.NaN)"
   ]
  },
  {
   "cell_type": "code",
   "execution_count": 79,
   "id": "f222f7a6",
   "metadata": {},
   "outputs": [
    {
     "data": {
      "text/plain": [
       "array(['8', nan, '8.3', '8.5', '6.6', '8.4', '8.6', '7.7', '6.3', '7.4',\n",
       "       '8.2', '9', '7.9', '8.1', '8.7', '7.1', '3.4', '5.3', '4.8', '3.2',\n",
       "       '8.9', '6.4', '7.8', '7.5', '2.6', '7.2', '9.2', '7', '7.3', '4.3',\n",
       "       '7.6', '5.7', '5', '9.1', '6.5', '8.8', '6.9', '9.4', '6.8', '6.1',\n",
       "       '6.7', '5.4', '4', '4.9', '4.5', '9.3', '6.2', '4.2', '6', '3.7',\n",
       "       '4.1', '5.8', '5.6', '5.5', '4.4', '4.6', '5.9', '3.9', '3.1',\n",
       "       '2.9', '5.2', '3.3', '4.7', '5.1', '3.5', '2.5', '1.9', '3', '2.7',\n",
       "       '2.2', '2', '9.5', '2.1', '3.6', '2.8', '1.8', '3.8', '0', '1.6',\n",
       "       '9.6', '2.4', '1.7', '1.1', '0.3', '1.5', '0.7', '1.2', '2.3',\n",
       "       '0.5', '1.3', '0.2', '0.6', '1.4', '0.9', '1', '9.7'], dtype=object)"
      ]
     },
     "execution_count": 79,
     "metadata": {},
     "output_type": "execute_result"
    }
   ],
   "source": [
    "data['user_score'].unique()"
   ]
  },
  {
   "cell_type": "code",
   "execution_count": 80,
   "id": "5552e528",
   "metadata": {},
   "outputs": [],
   "source": [
    "data['user_score'] = pd.to_numeric(data['user_score'])#object преобразуем в float64 для дальнейшей корректной\n",
    "#работы с данными "
   ]
  },
  {
   "cell_type": "markdown",
   "id": "a21740f1",
   "metadata": {},
   "source": [
    "<div class=\"alert alert-block alert-success\">\n",
    " \n",
    "### Комментарий ревьюера\n",
    "    \n",
    "#### Успех\n",
    "    \n",
    "Для удобства, почему бы и нет. \n",
    "</div "
   ]
  },
  {
   "cell_type": "code",
   "execution_count": 81,
   "id": "c9d2285b",
   "metadata": {},
   "outputs": [
    {
     "name": "stdout",
     "output_type": "stream",
     "text": [
      "<class 'pandas.core.frame.DataFrame'>\n",
      "RangeIndex: 16715 entries, 0 to 16714\n",
      "Data columns (total 11 columns):\n",
      " #   Column           Non-Null Count  Dtype  \n",
      "---  ------           --------------  -----  \n",
      " 0   name             16713 non-null  object \n",
      " 1   platform         16715 non-null  object \n",
      " 2   year_of_release  16446 non-null  Int32  \n",
      " 3   genre            16713 non-null  object \n",
      " 4   na_sales         16715 non-null  float64\n",
      " 5   eu_sales         16715 non-null  float64\n",
      " 6   jp_sales         16715 non-null  float64\n",
      " 7   other_sales      16715 non-null  float64\n",
      " 8   critic_score     8137 non-null   float64\n",
      " 9   user_score       7590 non-null   float64\n",
      " 10  rating           9949 non-null   object \n",
      "dtypes: Int32(1), float64(6), object(4)\n",
      "memory usage: 1.4+ MB\n"
     ]
    }
   ],
   "source": [
    "data.info()"
   ]
  },
  {
   "cell_type": "markdown",
   "id": "d5d5ad11",
   "metadata": {},
   "source": [
    "# Поработаем с пустыми значениями "
   ]
  },
  {
   "cell_type": "markdown",
   "id": "b1fd7b83",
   "metadata": {},
   "source": [
    "1.'name'  - удалим строки полностью с пропущенным названием ,так как заменить на другое значение невозможно,не зная точного названия.Название игры важный параметр без которого анализ не будет достоверным.Возможно данные не внесены ошибочно.\n",
    "2.'year_of_release' -определить или заменить данные пропуски невозможно если не знать точно год выпуска ,удалим строки с пустыми значениями.Возможно у некоторых игр неизвестна точная дата выпуска поэтому данные не внесены.\n",
    "3.'critic_score'-пропуски свидетельсвуют о возможном отсутсвии оценок от критиков,заменять данные значения например средним значением нецелесообразно и это может привести к некорректному анализу,заменим пустые значения 0\n",
    "4.'user_score' - пропуски свидетельсвуют о возможном отсутсвии оценок от пользователей,заменять данные значения например средним значением нецелесообразно и это может привести к некорректному анализу,заменим пустые значения 0\n",
    "5.'rating' -заменить данные о возрастных ограничениях нет возможности, удалить строки полностью считаю нецелесообразно ,так как остальные данные могут быть полезны для анализа, поэтому заменим значения на unknown"
   ]
  },
  {
   "cell_type": "code",
   "execution_count": 82,
   "id": "a3c6295a",
   "metadata": {},
   "outputs": [
    {
     "name": "stdout",
     "output_type": "stream",
     "text": [
      "      name platform  year_of_release genre  na_sales  eu_sales  jp_sales  \\\n",
      "659    NaN      GEN             1993   NaN      1.78      0.53      0.00   \n",
      "14244  NaN      GEN             1993   NaN      0.00      0.00      0.03   \n",
      "\n",
      "       other_sales  critic_score  user_score rating  \n",
      "659           0.08           NaN         NaN    NaN  \n",
      "14244         0.00           NaN         NaN    NaN  \n"
     ]
    }
   ],
   "source": [
    "print(data.loc[data['name'].isnull()])#посмотрим строки где пропущенны названия ,их всего 2 и в них также пропущенны значения жанра\n",
    "#можем удалить строки полностью"
   ]
  },
  {
   "cell_type": "markdown",
   "id": "48603403",
   "metadata": {},
   "source": [
    "<div class=\"alert alert-block alert-warning\">\n",
    " \n",
    "### Комментарий ревьюера\n",
    "    \n",
    "#### Совет\n",
    "    \n",
    "Тут согласен с твоим решением. Смотри, для вывода результата необязательно использовать команду print(). Поскольку это последняя и единственная строчка кода, то результат сработает и так. \n",
    "</div "
   ]
  },
  {
   "cell_type": "code",
   "execution_count": 83,
   "id": "1fb3f2f2",
   "metadata": {},
   "outputs": [],
   "source": [
    "data = data.dropna(subset=['name','year_of_release'])"
   ]
  },
  {
   "cell_type": "code",
   "execution_count": 84,
   "id": "2931dd49",
   "metadata": {},
   "outputs": [
    {
     "name": "stdout",
     "output_type": "stream",
     "text": [
      "<class 'pandas.core.frame.DataFrame'>\n",
      "Int64Index: 16444 entries, 0 to 16714\n",
      "Data columns (total 11 columns):\n",
      " #   Column           Non-Null Count  Dtype  \n",
      "---  ------           --------------  -----  \n",
      " 0   name             16444 non-null  object \n",
      " 1   platform         16444 non-null  object \n",
      " 2   year_of_release  16444 non-null  Int32  \n",
      " 3   genre            16444 non-null  object \n",
      " 4   na_sales         16444 non-null  float64\n",
      " 5   eu_sales         16444 non-null  float64\n",
      " 6   jp_sales         16444 non-null  float64\n",
      " 7   other_sales      16444 non-null  float64\n",
      " 8   critic_score     7983 non-null   float64\n",
      " 9   user_score       7463 non-null   float64\n",
      " 10  rating           9768 non-null   object \n",
      "dtypes: Int32(1), float64(6), object(4)\n",
      "memory usage: 1.5+ MB\n"
     ]
    }
   ],
   "source": [
    "data.info()"
   ]
  },
  {
   "cell_type": "code",
   "execution_count": 85,
   "id": "8a1fcb96",
   "metadata": {},
   "outputs": [],
   "source": [
    "data['rating'] = data['rating'].fillna('unknown')"
   ]
  },
  {
   "cell_type": "code",
   "execution_count": 86,
   "id": "a0648530",
   "metadata": {},
   "outputs": [],
   "source": [
    "#Заменим пропуски 0 \n",
    "data['critic_score'] = data['critic_score'].fillna(0)\n",
    "data['user_score'] = data['user_score'].fillna(0)"
   ]
  },
  {
   "cell_type": "markdown",
   "id": "352c5e7a",
   "metadata": {},
   "source": [
    "<div class=\"alert alert-block alert-success\">\n",
    " \n",
    "### Комментарий ревьюера\n",
    "    \n",
    "#### Успех\n",
    "    \n",
    "Здесь согласен с тобой. Оптимально не сделаешь замену для пропусков здесь, а вот значения-заглушки хорошее решение. \n",
    "</div "
   ]
  },
  {
   "cell_type": "code",
   "execution_count": 87,
   "id": "bdaff607",
   "metadata": {},
   "outputs": [
    {
     "data": {
      "text/html": [
       "<div>\n",
       "<style scoped>\n",
       "    .dataframe tbody tr th:only-of-type {\n",
       "        vertical-align: middle;\n",
       "    }\n",
       "\n",
       "    .dataframe tbody tr th {\n",
       "        vertical-align: top;\n",
       "    }\n",
       "\n",
       "    .dataframe thead th {\n",
       "        text-align: right;\n",
       "    }\n",
       "</style>\n",
       "<table border=\"1\" class=\"dataframe\">\n",
       "  <thead>\n",
       "    <tr style=\"text-align: right;\">\n",
       "      <th></th>\n",
       "      <th>name</th>\n",
       "      <th>platform</th>\n",
       "      <th>year_of_release</th>\n",
       "      <th>genre</th>\n",
       "      <th>na_sales</th>\n",
       "      <th>eu_sales</th>\n",
       "      <th>jp_sales</th>\n",
       "      <th>other_sales</th>\n",
       "      <th>critic_score</th>\n",
       "      <th>user_score</th>\n",
       "      <th>rating</th>\n",
       "    </tr>\n",
       "  </thead>\n",
       "  <tbody>\n",
       "    <tr>\n",
       "      <th>0</th>\n",
       "      <td>Wii Sports</td>\n",
       "      <td>Wii</td>\n",
       "      <td>2006</td>\n",
       "      <td>Sports</td>\n",
       "      <td>41.36</td>\n",
       "      <td>28.96</td>\n",
       "      <td>3.77</td>\n",
       "      <td>8.45</td>\n",
       "      <td>76.0</td>\n",
       "      <td>8.0</td>\n",
       "      <td>E</td>\n",
       "    </tr>\n",
       "    <tr>\n",
       "      <th>1</th>\n",
       "      <td>Super Mario Bros.</td>\n",
       "      <td>NES</td>\n",
       "      <td>1985</td>\n",
       "      <td>Platform</td>\n",
       "      <td>29.08</td>\n",
       "      <td>3.58</td>\n",
       "      <td>6.81</td>\n",
       "      <td>0.77</td>\n",
       "      <td>0.0</td>\n",
       "      <td>0.0</td>\n",
       "      <td>unknown</td>\n",
       "    </tr>\n",
       "    <tr>\n",
       "      <th>2</th>\n",
       "      <td>Mario Kart Wii</td>\n",
       "      <td>Wii</td>\n",
       "      <td>2008</td>\n",
       "      <td>Racing</td>\n",
       "      <td>15.68</td>\n",
       "      <td>12.76</td>\n",
       "      <td>3.79</td>\n",
       "      <td>3.29</td>\n",
       "      <td>82.0</td>\n",
       "      <td>8.3</td>\n",
       "      <td>E</td>\n",
       "    </tr>\n",
       "    <tr>\n",
       "      <th>3</th>\n",
       "      <td>Wii Sports Resort</td>\n",
       "      <td>Wii</td>\n",
       "      <td>2009</td>\n",
       "      <td>Sports</td>\n",
       "      <td>15.61</td>\n",
       "      <td>10.93</td>\n",
       "      <td>3.28</td>\n",
       "      <td>2.95</td>\n",
       "      <td>80.0</td>\n",
       "      <td>8.0</td>\n",
       "      <td>E</td>\n",
       "    </tr>\n",
       "    <tr>\n",
       "      <th>4</th>\n",
       "      <td>Pokemon Red/Pokemon Blue</td>\n",
       "      <td>GB</td>\n",
       "      <td>1996</td>\n",
       "      <td>Role-Playing</td>\n",
       "      <td>11.27</td>\n",
       "      <td>8.89</td>\n",
       "      <td>10.22</td>\n",
       "      <td>1.00</td>\n",
       "      <td>0.0</td>\n",
       "      <td>0.0</td>\n",
       "      <td>unknown</td>\n",
       "    </tr>\n",
       "    <tr>\n",
       "      <th>5</th>\n",
       "      <td>Tetris</td>\n",
       "      <td>GB</td>\n",
       "      <td>1989</td>\n",
       "      <td>Puzzle</td>\n",
       "      <td>23.20</td>\n",
       "      <td>2.26</td>\n",
       "      <td>4.22</td>\n",
       "      <td>0.58</td>\n",
       "      <td>0.0</td>\n",
       "      <td>0.0</td>\n",
       "      <td>unknown</td>\n",
       "    </tr>\n",
       "    <tr>\n",
       "      <th>6</th>\n",
       "      <td>New Super Mario Bros.</td>\n",
       "      <td>DS</td>\n",
       "      <td>2006</td>\n",
       "      <td>Platform</td>\n",
       "      <td>11.28</td>\n",
       "      <td>9.14</td>\n",
       "      <td>6.50</td>\n",
       "      <td>2.88</td>\n",
       "      <td>89.0</td>\n",
       "      <td>8.5</td>\n",
       "      <td>E</td>\n",
       "    </tr>\n",
       "    <tr>\n",
       "      <th>7</th>\n",
       "      <td>Wii Play</td>\n",
       "      <td>Wii</td>\n",
       "      <td>2006</td>\n",
       "      <td>Misc</td>\n",
       "      <td>13.96</td>\n",
       "      <td>9.18</td>\n",
       "      <td>2.93</td>\n",
       "      <td>2.84</td>\n",
       "      <td>58.0</td>\n",
       "      <td>6.6</td>\n",
       "      <td>E</td>\n",
       "    </tr>\n",
       "    <tr>\n",
       "      <th>8</th>\n",
       "      <td>New Super Mario Bros. Wii</td>\n",
       "      <td>Wii</td>\n",
       "      <td>2009</td>\n",
       "      <td>Platform</td>\n",
       "      <td>14.44</td>\n",
       "      <td>6.94</td>\n",
       "      <td>4.70</td>\n",
       "      <td>2.24</td>\n",
       "      <td>87.0</td>\n",
       "      <td>8.4</td>\n",
       "      <td>E</td>\n",
       "    </tr>\n",
       "    <tr>\n",
       "      <th>9</th>\n",
       "      <td>Duck Hunt</td>\n",
       "      <td>NES</td>\n",
       "      <td>1984</td>\n",
       "      <td>Shooter</td>\n",
       "      <td>26.93</td>\n",
       "      <td>0.63</td>\n",
       "      <td>0.28</td>\n",
       "      <td>0.47</td>\n",
       "      <td>0.0</td>\n",
       "      <td>0.0</td>\n",
       "      <td>unknown</td>\n",
       "    </tr>\n",
       "  </tbody>\n",
       "</table>\n",
       "</div>"
      ],
      "text/plain": [
       "                        name platform  year_of_release         genre  \\\n",
       "0                 Wii Sports      Wii             2006        Sports   \n",
       "1          Super Mario Bros.      NES             1985      Platform   \n",
       "2             Mario Kart Wii      Wii             2008        Racing   \n",
       "3          Wii Sports Resort      Wii             2009        Sports   \n",
       "4   Pokemon Red/Pokemon Blue       GB             1996  Role-Playing   \n",
       "5                     Tetris       GB             1989        Puzzle   \n",
       "6      New Super Mario Bros.       DS             2006      Platform   \n",
       "7                   Wii Play      Wii             2006          Misc   \n",
       "8  New Super Mario Bros. Wii      Wii             2009      Platform   \n",
       "9                  Duck Hunt      NES             1984       Shooter   \n",
       "\n",
       "   na_sales  eu_sales  jp_sales  other_sales  critic_score  user_score  \\\n",
       "0     41.36     28.96      3.77         8.45          76.0         8.0   \n",
       "1     29.08      3.58      6.81         0.77           0.0         0.0   \n",
       "2     15.68     12.76      3.79         3.29          82.0         8.3   \n",
       "3     15.61     10.93      3.28         2.95          80.0         8.0   \n",
       "4     11.27      8.89     10.22         1.00           0.0         0.0   \n",
       "5     23.20      2.26      4.22         0.58           0.0         0.0   \n",
       "6     11.28      9.14      6.50         2.88          89.0         8.5   \n",
       "7     13.96      9.18      2.93         2.84          58.0         6.6   \n",
       "8     14.44      6.94      4.70         2.24          87.0         8.4   \n",
       "9     26.93      0.63      0.28         0.47           0.0         0.0   \n",
       "\n",
       "    rating  \n",
       "0        E  \n",
       "1  unknown  \n",
       "2        E  \n",
       "3        E  \n",
       "4  unknown  \n",
       "5  unknown  \n",
       "6        E  \n",
       "7        E  \n",
       "8        E  \n",
       "9  unknown  "
      ]
     },
     "execution_count": 87,
     "metadata": {},
     "output_type": "execute_result"
    }
   ],
   "source": [
    "data.head(10)"
   ]
  },
  {
   "cell_type": "code",
   "execution_count": 88,
   "id": "dcbd72db",
   "metadata": {},
   "outputs": [
    {
     "name": "stdout",
     "output_type": "stream",
     "text": [
      "<class 'pandas.core.frame.DataFrame'>\n",
      "Int64Index: 16444 entries, 0 to 16714\n",
      "Data columns (total 11 columns):\n",
      " #   Column           Non-Null Count  Dtype  \n",
      "---  ------           --------------  -----  \n",
      " 0   name             16444 non-null  object \n",
      " 1   platform         16444 non-null  object \n",
      " 2   year_of_release  16444 non-null  Int32  \n",
      " 3   genre            16444 non-null  object \n",
      " 4   na_sales         16444 non-null  float64\n",
      " 5   eu_sales         16444 non-null  float64\n",
      " 6   jp_sales         16444 non-null  float64\n",
      " 7   other_sales      16444 non-null  float64\n",
      " 8   critic_score     16444 non-null  float64\n",
      " 9   user_score       16444 non-null  float64\n",
      " 10  rating           16444 non-null  object \n",
      "dtypes: Int32(1), float64(6), object(4)\n",
      "memory usage: 1.5+ MB\n"
     ]
    }
   ],
   "source": [
    "data.info()#проверим заполнены ли все значения "
   ]
  },
  {
   "cell_type": "code",
   "execution_count": 89,
   "id": "bd49570d",
   "metadata": {},
   "outputs": [
    {
     "data": {
      "text/html": [
       "<div>\n",
       "<style scoped>\n",
       "    .dataframe tbody tr th:only-of-type {\n",
       "        vertical-align: middle;\n",
       "    }\n",
       "\n",
       "    .dataframe tbody tr th {\n",
       "        vertical-align: top;\n",
       "    }\n",
       "\n",
       "    .dataframe thead th {\n",
       "        text-align: right;\n",
       "    }\n",
       "</style>\n",
       "<table border=\"1\" class=\"dataframe\">\n",
       "  <thead>\n",
       "    <tr style=\"text-align: right;\">\n",
       "      <th></th>\n",
       "      <th>name</th>\n",
       "      <th>platform</th>\n",
       "      <th>year_of_release</th>\n",
       "      <th>genre</th>\n",
       "      <th>na_sales</th>\n",
       "      <th>eu_sales</th>\n",
       "      <th>jp_sales</th>\n",
       "      <th>other_sales</th>\n",
       "      <th>critic_score</th>\n",
       "      <th>user_score</th>\n",
       "      <th>rating</th>\n",
       "    </tr>\n",
       "  </thead>\n",
       "  <tbody>\n",
       "  </tbody>\n",
       "</table>\n",
       "</div>"
      ],
      "text/plain": [
       "Empty DataFrame\n",
       "Columns: [name, platform, year_of_release, genre, na_sales, eu_sales, jp_sales, other_sales, critic_score, user_score, rating]\n",
       "Index: []"
      ]
     },
     "execution_count": 89,
     "metadata": {},
     "output_type": "execute_result"
    }
   ],
   "source": [
    "data[data.duplicated()].head() #проверим наличие явных дубликатов ,они отсутствуют"
   ]
  },
  {
   "cell_type": "code",
   "execution_count": 90,
   "id": "167aea71",
   "metadata": {},
   "outputs": [
    {
     "data": {
      "text/plain": [
       "array(['E', 'unknown', 'M', 'T', 'E10+', 'K-A', 'AO', 'EC', 'RP'],\n",
       "      dtype=object)"
      ]
     },
     "execution_count": 90,
     "metadata": {},
     "output_type": "execute_result"
    }
   ],
   "source": [
    "data['rating'].unique()#посмотрим уникальные значения рейтинга"
   ]
  },
  {
   "cell_type": "markdown",
   "id": "a1609c2c",
   "metadata": {},
   "source": [
    "В уникальных значениях 'rating' представлены возрастные категории:\n",
    "«E» («Everyone») — «Для всех»\n",
    "«M» («Mature») — «Для взрослых»\n",
    "«T» («Teen») — «Подросткам»\n",
    "«E10+» — «Для всех от 10 лет и старше»\n",
    "«K-A» («Kids to Adults»)— «Для детей и взрослых»\n",
    "«AO» («Adults Only 18+») — «Только для взрослых»\n",
    "«EC» («Early childhood») — «Для детей младшего возраста»\n",
    "«RP» («Rating Pending») — «Рейтинг ожидается»"
   ]
  },
  {
   "cell_type": "code",
   "execution_count": 91,
   "id": "08c7859e",
   "metadata": {},
   "outputs": [],
   "source": [
    "data['total_sales'] = data['na_sales']+data['eu_sales']+data['jp_sales']+data['other_sales']#выведем сумму по всем странам в отдельную колонку"
   ]
  },
  {
   "cell_type": "markdown",
   "id": "55164600",
   "metadata": {},
   "source": [
    "<div class=\"alert alert-block alert-success\">\n",
    " \n",
    "### Комментарий ревьюера\n",
    "    \n",
    "#### Успех\n",
    "    \n",
    "Тут все просто и понятно. \n",
    "</div "
   ]
  },
  {
   "cell_type": "code",
   "execution_count": 92,
   "id": "b3dda71a",
   "metadata": {},
   "outputs": [
    {
     "data": {
      "text/html": [
       "<div>\n",
       "<style scoped>\n",
       "    .dataframe tbody tr th:only-of-type {\n",
       "        vertical-align: middle;\n",
       "    }\n",
       "\n",
       "    .dataframe tbody tr th {\n",
       "        vertical-align: top;\n",
       "    }\n",
       "\n",
       "    .dataframe thead th {\n",
       "        text-align: right;\n",
       "    }\n",
       "</style>\n",
       "<table border=\"1\" class=\"dataframe\">\n",
       "  <thead>\n",
       "    <tr style=\"text-align: right;\">\n",
       "      <th></th>\n",
       "      <th>name</th>\n",
       "      <th>platform</th>\n",
       "      <th>year_of_release</th>\n",
       "      <th>genre</th>\n",
       "      <th>na_sales</th>\n",
       "      <th>eu_sales</th>\n",
       "      <th>jp_sales</th>\n",
       "      <th>other_sales</th>\n",
       "      <th>critic_score</th>\n",
       "      <th>user_score</th>\n",
       "      <th>rating</th>\n",
       "      <th>total_sales</th>\n",
       "    </tr>\n",
       "  </thead>\n",
       "  <tbody>\n",
       "    <tr>\n",
       "      <th>0</th>\n",
       "      <td>Wii Sports</td>\n",
       "      <td>Wii</td>\n",
       "      <td>2006</td>\n",
       "      <td>Sports</td>\n",
       "      <td>41.36</td>\n",
       "      <td>28.96</td>\n",
       "      <td>3.77</td>\n",
       "      <td>8.45</td>\n",
       "      <td>76.0</td>\n",
       "      <td>8.0</td>\n",
       "      <td>E</td>\n",
       "      <td>82.54</td>\n",
       "    </tr>\n",
       "    <tr>\n",
       "      <th>1</th>\n",
       "      <td>Super Mario Bros.</td>\n",
       "      <td>NES</td>\n",
       "      <td>1985</td>\n",
       "      <td>Platform</td>\n",
       "      <td>29.08</td>\n",
       "      <td>3.58</td>\n",
       "      <td>6.81</td>\n",
       "      <td>0.77</td>\n",
       "      <td>0.0</td>\n",
       "      <td>0.0</td>\n",
       "      <td>unknown</td>\n",
       "      <td>40.24</td>\n",
       "    </tr>\n",
       "    <tr>\n",
       "      <th>2</th>\n",
       "      <td>Mario Kart Wii</td>\n",
       "      <td>Wii</td>\n",
       "      <td>2008</td>\n",
       "      <td>Racing</td>\n",
       "      <td>15.68</td>\n",
       "      <td>12.76</td>\n",
       "      <td>3.79</td>\n",
       "      <td>3.29</td>\n",
       "      <td>82.0</td>\n",
       "      <td>8.3</td>\n",
       "      <td>E</td>\n",
       "      <td>35.52</td>\n",
       "    </tr>\n",
       "    <tr>\n",
       "      <th>3</th>\n",
       "      <td>Wii Sports Resort</td>\n",
       "      <td>Wii</td>\n",
       "      <td>2009</td>\n",
       "      <td>Sports</td>\n",
       "      <td>15.61</td>\n",
       "      <td>10.93</td>\n",
       "      <td>3.28</td>\n",
       "      <td>2.95</td>\n",
       "      <td>80.0</td>\n",
       "      <td>8.0</td>\n",
       "      <td>E</td>\n",
       "      <td>32.77</td>\n",
       "    </tr>\n",
       "    <tr>\n",
       "      <th>4</th>\n",
       "      <td>Pokemon Red/Pokemon Blue</td>\n",
       "      <td>GB</td>\n",
       "      <td>1996</td>\n",
       "      <td>Role-Playing</td>\n",
       "      <td>11.27</td>\n",
       "      <td>8.89</td>\n",
       "      <td>10.22</td>\n",
       "      <td>1.00</td>\n",
       "      <td>0.0</td>\n",
       "      <td>0.0</td>\n",
       "      <td>unknown</td>\n",
       "      <td>31.38</td>\n",
       "    </tr>\n",
       "    <tr>\n",
       "      <th>5</th>\n",
       "      <td>Tetris</td>\n",
       "      <td>GB</td>\n",
       "      <td>1989</td>\n",
       "      <td>Puzzle</td>\n",
       "      <td>23.20</td>\n",
       "      <td>2.26</td>\n",
       "      <td>4.22</td>\n",
       "      <td>0.58</td>\n",
       "      <td>0.0</td>\n",
       "      <td>0.0</td>\n",
       "      <td>unknown</td>\n",
       "      <td>30.26</td>\n",
       "    </tr>\n",
       "    <tr>\n",
       "      <th>6</th>\n",
       "      <td>New Super Mario Bros.</td>\n",
       "      <td>DS</td>\n",
       "      <td>2006</td>\n",
       "      <td>Platform</td>\n",
       "      <td>11.28</td>\n",
       "      <td>9.14</td>\n",
       "      <td>6.50</td>\n",
       "      <td>2.88</td>\n",
       "      <td>89.0</td>\n",
       "      <td>8.5</td>\n",
       "      <td>E</td>\n",
       "      <td>29.80</td>\n",
       "    </tr>\n",
       "    <tr>\n",
       "      <th>7</th>\n",
       "      <td>Wii Play</td>\n",
       "      <td>Wii</td>\n",
       "      <td>2006</td>\n",
       "      <td>Misc</td>\n",
       "      <td>13.96</td>\n",
       "      <td>9.18</td>\n",
       "      <td>2.93</td>\n",
       "      <td>2.84</td>\n",
       "      <td>58.0</td>\n",
       "      <td>6.6</td>\n",
       "      <td>E</td>\n",
       "      <td>28.91</td>\n",
       "    </tr>\n",
       "    <tr>\n",
       "      <th>8</th>\n",
       "      <td>New Super Mario Bros. Wii</td>\n",
       "      <td>Wii</td>\n",
       "      <td>2009</td>\n",
       "      <td>Platform</td>\n",
       "      <td>14.44</td>\n",
       "      <td>6.94</td>\n",
       "      <td>4.70</td>\n",
       "      <td>2.24</td>\n",
       "      <td>87.0</td>\n",
       "      <td>8.4</td>\n",
       "      <td>E</td>\n",
       "      <td>28.32</td>\n",
       "    </tr>\n",
       "    <tr>\n",
       "      <th>9</th>\n",
       "      <td>Duck Hunt</td>\n",
       "      <td>NES</td>\n",
       "      <td>1984</td>\n",
       "      <td>Shooter</td>\n",
       "      <td>26.93</td>\n",
       "      <td>0.63</td>\n",
       "      <td>0.28</td>\n",
       "      <td>0.47</td>\n",
       "      <td>0.0</td>\n",
       "      <td>0.0</td>\n",
       "      <td>unknown</td>\n",
       "      <td>28.31</td>\n",
       "    </tr>\n",
       "  </tbody>\n",
       "</table>\n",
       "</div>"
      ],
      "text/plain": [
       "                        name platform  year_of_release         genre  \\\n",
       "0                 Wii Sports      Wii             2006        Sports   \n",
       "1          Super Mario Bros.      NES             1985      Platform   \n",
       "2             Mario Kart Wii      Wii             2008        Racing   \n",
       "3          Wii Sports Resort      Wii             2009        Sports   \n",
       "4   Pokemon Red/Pokemon Blue       GB             1996  Role-Playing   \n",
       "5                     Tetris       GB             1989        Puzzle   \n",
       "6      New Super Mario Bros.       DS             2006      Platform   \n",
       "7                   Wii Play      Wii             2006          Misc   \n",
       "8  New Super Mario Bros. Wii      Wii             2009      Platform   \n",
       "9                  Duck Hunt      NES             1984       Shooter   \n",
       "\n",
       "   na_sales  eu_sales  jp_sales  other_sales  critic_score  user_score  \\\n",
       "0     41.36     28.96      3.77         8.45          76.0         8.0   \n",
       "1     29.08      3.58      6.81         0.77           0.0         0.0   \n",
       "2     15.68     12.76      3.79         3.29          82.0         8.3   \n",
       "3     15.61     10.93      3.28         2.95          80.0         8.0   \n",
       "4     11.27      8.89     10.22         1.00           0.0         0.0   \n",
       "5     23.20      2.26      4.22         0.58           0.0         0.0   \n",
       "6     11.28      9.14      6.50         2.88          89.0         8.5   \n",
       "7     13.96      9.18      2.93         2.84          58.0         6.6   \n",
       "8     14.44      6.94      4.70         2.24          87.0         8.4   \n",
       "9     26.93      0.63      0.28         0.47           0.0         0.0   \n",
       "\n",
       "    rating  total_sales  \n",
       "0        E        82.54  \n",
       "1  unknown        40.24  \n",
       "2        E        35.52  \n",
       "3        E        32.77  \n",
       "4  unknown        31.38  \n",
       "5  unknown        30.26  \n",
       "6        E        29.80  \n",
       "7        E        28.91  \n",
       "8        E        28.32  \n",
       "9  unknown        28.31  "
      ]
     },
     "execution_count": 92,
     "metadata": {},
     "output_type": "execute_result"
    }
   ],
   "source": [
    "data.head(10)"
   ]
  },
  {
   "cell_type": "markdown",
   "id": "82cccd8c",
   "metadata": {},
   "source": [
    "# Приступим к исследовательскому анализу данных"
   ]
  },
  {
   "cell_type": "code",
   "execution_count": 93,
   "id": "c8a33517",
   "metadata": {},
   "outputs": [
    {
     "data": {
      "text/plain": [
       "year_of_release\n",
       "1980       9\n",
       "1981      46\n",
       "1982      36\n",
       "1983      17\n",
       "1984      14\n",
       "1985      14\n",
       "1986      21\n",
       "1987      16\n",
       "1988      15\n",
       "1989      17\n",
       "1990      16\n",
       "1991      41\n",
       "1992      43\n",
       "1993      60\n",
       "1994     121\n",
       "1995     219\n",
       "1996     263\n",
       "1997     289\n",
       "1998     379\n",
       "1999     338\n",
       "2000     350\n",
       "2001     482\n",
       "2002     829\n",
       "2003     775\n",
       "2004     762\n",
       "2005     939\n",
       "2006    1006\n",
       "2007    1197\n",
       "2008    1427\n",
       "2009    1426\n",
       "2010    1255\n",
       "2011    1136\n",
       "2012     653\n",
       "2013     544\n",
       "2014     581\n",
       "2015     606\n",
       "2016     502\n",
       "Name: name, dtype: int64"
      ]
     },
     "execution_count": 93,
     "metadata": {},
     "output_type": "execute_result"
    }
   ],
   "source": [
    "data.groupby('year_of_release')['name'].count()\n"
   ]
  },
  {
   "cell_type": "markdown",
   "id": "67e39ab1",
   "metadata": {},
   "source": [
    "Наиболее высокие показатели выпуска игр наблюдаются с 2006-2011 года,с 2012 идет резкий спад."
   ]
  },
  {
   "cell_type": "code",
   "execution_count": 94,
   "id": "9ac2c45a",
   "metadata": {},
   "outputs": [
    {
     "name": "stdout",
     "output_type": "stream",
     "text": [
      "Платформы с наибольшими продажами\n",
      "platform\n",
      "PS2     1233.56\n",
      "X360     961.24\n",
      "PS3      931.34\n",
      "Wii      891.18\n",
      "DS       802.78\n",
      "PS       727.58\n",
      "PS4      314.14\n",
      "GBA      312.88\n",
      "PSP      289.53\n",
      "3DS      257.81\n",
      "Name: total_sales, dtype: float64\n"
     ]
    }
   ],
   "source": [
    "#выведем 10 платформ с \n",
    "#наибольшими суммарными продажами \n",
    "print('Платформы с наибольшими продажами')\n",
    "print(data.groupby('platform')['total_sales'].sum().sort_values(ascending=False).head(10))"
   ]
  },
  {
   "cell_type": "markdown",
   "id": "290b987f",
   "metadata": {},
   "source": [
    "Построим диаграммы для каждой платформы из 10"
   ]
  },
  {
   "cell_type": "code",
   "execution_count": 95,
   "id": "14b3288e",
   "metadata": {},
   "outputs": [
    {
     "data": {
      "text/plain": [
       "<AxesSubplot:xlabel='year_of_release'>"
      ]
     },
     "execution_count": 95,
     "metadata": {},
     "output_type": "execute_result"
    },
    {
     "data": {
      "image/png": "[encoded data removed]",
      "text/plain": [
       "<Figure size 216x144 with 1 Axes>"
      ]
     },
     "metadata": {
      "needs_background": "light"
     },
     "output_type": "display_data"
    }
   ],
   "source": [
    "data[data['platform'] == 'PS2'].pivot_table(index = 'year_of_release', values = 'total_sales', aggfunc = 'sum').plot(kind='bar',figsize=(3,2))\n"
   ]
  },
  {
   "cell_type": "code",
   "execution_count": 96,
   "id": "f5bc1f0f",
   "metadata": {},
   "outputs": [
    {
     "data": {
      "text/plain": [
       "<AxesSubplot:xlabel='year_of_release'>"
      ]
     },
     "execution_count": 96,
     "metadata": {},
     "output_type": "execute_result"
    },
    {
     "data": {
      "image/png": "[encoded data removed]",
      "text/plain": [
       "<Figure size 216x144 with 1 Axes>"
      ]
     },
     "metadata": {
      "needs_background": "light"
     },
     "output_type": "display_data"
    }
   ],
   "source": [
    "data[data['platform'] == 'X360'].pivot_table(index = 'year_of_release', values = 'total_sales', aggfunc = 'sum').plot(kind='bar',figsize=(3,2))\n"
   ]
  },
  {
   "cell_type": "code",
   "execution_count": 97,
   "id": "9d9132a6",
   "metadata": {},
   "outputs": [
    {
     "data": {
      "text/plain": [
       "<AxesSubplot:xlabel='year_of_release'>"
      ]
     },
     "execution_count": 97,
     "metadata": {},
     "output_type": "execute_result"
    },
    {
     "data": {
      "image/png": "[encoded data removed]",
      "text/plain": [
       "<Figure size 216x144 with 1 Axes>"
      ]
     },
     "metadata": {
      "needs_background": "light"
     },
     "output_type": "display_data"
    }
   ],
   "source": [
    "data[data['platform'] == 'PS3'].pivot_table(index = 'year_of_release', values = 'total_sales', aggfunc = 'sum').plot(kind='bar',figsize=(3,2))\n"
   ]
  },
  {
   "cell_type": "code",
   "execution_count": 98,
   "id": "ffef8357",
   "metadata": {},
   "outputs": [
    {
     "data": {
      "text/plain": [
       "<AxesSubplot:xlabel='year_of_release'>"
      ]
     },
     "execution_count": 98,
     "metadata": {},
     "output_type": "execute_result"
    },
    {
     "data": {
      "image/png": "[encoded data removed]",
      "text/plain": [
       "<Figure size 216x144 with 1 Axes>"
      ]
     },
     "metadata": {
      "needs_background": "light"
     },
     "output_type": "display_data"
    }
   ],
   "source": [
    "data[data['platform'] == 'Wii'].pivot_table(index = 'year_of_release', values = 'total_sales', aggfunc = 'sum').plot(kind='bar',figsize=(3,2))\n"
   ]
  },
  {
   "cell_type": "code",
   "execution_count": 99,
   "id": "1c33dbef",
   "metadata": {},
   "outputs": [
    {
     "data": {
      "text/plain": [
       "<AxesSubplot:xlabel='year_of_release'>"
      ]
     },
     "execution_count": 99,
     "metadata": {},
     "output_type": "execute_result"
    },
    {
     "data": {
      "image/png": "[encoded data removed]",
      "text/plain": [
       "<Figure size 216x144 with 1 Axes>"
      ]
     },
     "metadata": {
      "needs_background": "light"
     },
     "output_type": "display_data"
    }
   ],
   "source": [
    "data[data['platform'] == 'DS'].pivot_table(index = 'year_of_release', values = 'total_sales', aggfunc = 'sum').plot(kind='bar',figsize=(3,2))\n"
   ]
  },
  {
   "cell_type": "code",
   "execution_count": 100,
   "id": "db67e5b9",
   "metadata": {},
   "outputs": [
    {
     "data": {
      "text/plain": [
       "<AxesSubplot:xlabel='year_of_release'>"
      ]
     },
     "execution_count": 100,
     "metadata": {},
     "output_type": "execute_result"
    },
    {
     "data": {
      "image/png": "[encoded data removed]",
      "text/plain": [
       "<Figure size 216x144 with 1 Axes>"
      ]
     },
     "metadata": {
      "needs_background": "light"
     },
     "output_type": "display_data"
    }
   ],
   "source": [
    "data[data['platform'] == 'PS'].pivot_table(index = 'year_of_release', values = 'total_sales', aggfunc = 'sum').plot(kind='bar',figsize=(3,2))\n"
   ]
  },
  {
   "cell_type": "code",
   "execution_count": 101,
   "id": "ff504388",
   "metadata": {},
   "outputs": [
    {
     "data": {
      "text/plain": [
       "<AxesSubplot:xlabel='year_of_release'>"
      ]
     },
     "execution_count": 101,
     "metadata": {},
     "output_type": "execute_result"
    },
    {
     "data": {
      "image/png": "[encoded data removed]",
      "text/plain": [
       "<Figure size 216x144 with 1 Axes>"
      ]
     },
     "metadata": {
      "needs_background": "light"
     },
     "output_type": "display_data"
    }
   ],
   "source": [
    "data[data['platform'] == 'PS4'].pivot_table(index = 'year_of_release', values = 'total_sales', aggfunc = 'sum').plot(kind='bar',figsize=(3,2))\n"
   ]
  },
  {
   "cell_type": "code",
   "execution_count": 102,
   "id": "403b81e2",
   "metadata": {},
   "outputs": [
    {
     "data": {
      "text/plain": [
       "<AxesSubplot:xlabel='year_of_release'>"
      ]
     },
     "execution_count": 102,
     "metadata": {},
     "output_type": "execute_result"
    },
    {
     "data": {
      "image/png": "[encoded data removed]",
      "text/plain": [
       "<Figure size 216x144 with 1 Axes>"
      ]
     },
     "metadata": {
      "needs_background": "light"
     },
     "output_type": "display_data"
    }
   ],
   "source": [
    "data[data['platform'] == 'GBA'].pivot_table(index = 'year_of_release', values = 'total_sales', aggfunc = 'sum').plot(kind='bar',figsize=(3,2))\n"
   ]
  },
  {
   "cell_type": "code",
   "execution_count": 103,
   "id": "c8888f96",
   "metadata": {},
   "outputs": [
    {
     "data": {
      "text/plain": [
       "<AxesSubplot:xlabel='year_of_release'>"
      ]
     },
     "execution_count": 103,
     "metadata": {},
     "output_type": "execute_result"
    },
    {
     "data": {
      "image/png": "[encoded data removed]",
      "text/plain": [
       "<Figure size 216x144 with 1 Axes>"
      ]
     },
     "metadata": {
      "needs_background": "light"
     },
     "output_type": "display_data"
    }
   ],
   "source": [
    "data[data['platform'] == 'PSP'].pivot_table(index = 'year_of_release', values = 'total_sales', aggfunc = 'sum').plot(kind='bar',figsize=(3,2))\n"
   ]
  },
  {
   "cell_type": "code",
   "execution_count": 104,
   "id": "eff5d88e",
   "metadata": {},
   "outputs": [
    {
     "data": {
      "text/plain": [
       "<AxesSubplot:xlabel='year_of_release'>"
      ]
     },
     "execution_count": 104,
     "metadata": {},
     "output_type": "execute_result"
    },
    {
     "data": {
      "image/png": "[encoded data removed]",
      "text/plain": [
       "<Figure size 216x144 with 1 Axes>"
      ]
     },
     "metadata": {
      "needs_background": "light"
     },
     "output_type": "display_data"
    }
   ],
   "source": [
    "data[data['platform'] == '3DS'].pivot_table(index = 'year_of_release', values = 'total_sales', aggfunc = 'sum').plot(kind='bar',figsize=(3,2))\n"
   ]
  },
  {
   "cell_type": "markdown",
   "id": "53c3b9d2",
   "metadata": {},
   "source": [
    "<div class=\"alert alert-block alert-warning\">\n",
    " \n",
    "### Комментарий ревьюера\n",
    "    \n",
    "#### Совет\n",
    "    \n",
    "Хорошие графики у тебя получились. Я бы только в идеале вывел и через цикл. Пришлось бы меньше копипастить. \n",
    "</div "
   ]
  },
  {
   "cell_type": "markdown",
   "id": "6556519e",
   "metadata": {},
   "source": [
    "Средний срок существования платформы 5-10 лет.В основном платформы с наибольшими продажами были основаны в 2000-2010гг"
   ]
  },
  {
   "cell_type": "markdown",
   "id": "7663b54d",
   "metadata": {},
   "source": [
    "Но для дальнейшего анализа возмем данные за 2014-2016гг"
   ]
  },
  {
   "cell_type": "code",
   "execution_count": 105,
   "id": "b5b873d7",
   "metadata": {},
   "outputs": [
    {
     "data": {
      "text/plain": [
       "<AxesSubplot:xlabel='year_of_release'>"
      ]
     },
     "execution_count": 105,
     "metadata": {},
     "output_type": "execute_result"
    },
    {
     "data": {
      "image/png": "[encoded data removed]",
      "text/plain": [
       "<Figure size 1080x360 with 1 Axes>"
      ]
     },
     "metadata": {
      "needs_background": "light"
     },
     "output_type": "display_data"
    }
   ],
   "source": [
    "actual_period = data.loc[data['year_of_release']>=2014]\n",
    "actual_period.pivot_table(index='year_of_release',columns='platform', values='total_sales', aggfunc='sum').plot(kind='line',figsize=(15, 5))"
   ]
  },
  {
   "cell_type": "markdown",
   "id": "1deab144",
   "metadata": {},
   "source": [
    "<div class=\"alert alert-block alert-success\">\n",
    " \n",
    "### Комментарий ревьюера\n",
    "    \n",
    "#### Успех\n",
    "    \n",
    "Все так и есть. У нас падающая тенденцию. С актуальным периодом согласен. \n",
    "</div "
   ]
  },
  {
   "cell_type": "markdown",
   "id": "cae16369",
   "metadata": {},
   "source": [
    "По графику наблюдаем общий спад с начала 2015 года, в лидирующих позициях такие платформы как PS4,XOne,3DS.Данные платформы можно считать прибыльными."
   ]
  },
  {
   "cell_type": "code",
   "execution_count": 106,
   "id": "254f0939",
   "metadata": {},
   "outputs": [
    {
     "data": {
      "text/plain": [
       "<AxesSubplot:title={'center':'total_sales'}, xlabel='platform'>"
      ]
     },
     "execution_count": 106,
     "metadata": {},
     "output_type": "execute_result"
    },
    {
     "data": {
      "image/png": "[encoded data removed]",
      "text/plain": [
       "<Figure size 432x288 with 1 Axes>"
      ]
     },
     "metadata": {
      "needs_background": "light"
     },
     "output_type": "display_data"
    }
   ],
   "source": [
    "actual_period.boxplot(column = 'total_sales', by = 'platform')"
   ]
  },
  {
   "cell_type": "code",
   "execution_count": 107,
   "id": "5c0ca843",
   "metadata": {},
   "outputs": [
    {
     "data": {
      "text/plain": [
       "(0.0, 1.0)"
      ]
     },
     "execution_count": 107,
     "metadata": {},
     "output_type": "execute_result"
    },
    {
     "data": {
      "image/png": "[encoded data removed]",
      "text/plain": [
       "<Figure size 432x288 with 1 Axes>"
      ]
     },
     "metadata": {
      "needs_background": "light"
     },
     "output_type": "display_data"
    }
   ],
   "source": [
    "actual_period.boxplot(column = 'total_sales', by = 'platform')\n",
    "plt.ylim([0,1])"
   ]
  },
  {
   "cell_type": "markdown",
   "id": "769684a0",
   "metadata": {},
   "source": [
    "<div class=\"alert alert-block alert-danger\">\n",
    " \n",
    "### Комментарий ревьюера\n",
    "    \n",
    "#### Ошибка\n",
    "    \n",
    "К сожалению, на этом графике видны только выбросы, и совсем не видны медиана и 75% квантиль. Для более обоснованных выводов нужно сделать дополнительный график, где будет отображена только нижняя часть boxplot-ов. Этого можно добиться, например, задав параметр ylim.\n",
    "</div "
   ]
  },
  {
   "cell_type": "markdown",
   "id": "026163df",
   "metadata": {},
   "source": [
    "**<font color=\"purple\">Дополнительный график есть</font>**"
   ]
  },
  {
   "cell_type": "markdown",
   "id": "9dad50c6",
   "metadata": {},
   "source": [
    "<div class=\"alert alert-block alert-success\">\n",
    " \n",
    "# Комментарий ревьюера ver.2\n",
    "    \n",
    "#### Успех\n",
    "\n",
    "Вот теперь то, что нужно. \n",
    "</div"
   ]
  },
  {
   "cell_type": "markdown",
   "id": "3cf0879e",
   "metadata": {},
   "source": [
    "По данному графику мы можем увидеть что у платформы PS4 и 3DS есть выделяющиеся выбросы, возможно это связанно с выпуском новых игр,рекламными компаниями и активными продажами."
   ]
  },
  {
   "cell_type": "markdown",
   "id": "bc57b50d",
   "metadata": {},
   "source": [
    "Для анализа влияния отзывов на продажи возьмем самую успешную платформу PS4."
   ]
  },
  {
   "cell_type": "code",
   "execution_count": 108,
   "id": "b5a4eabd",
   "metadata": {},
   "outputs": [
    {
     "data": {
      "text/plain": [
       "<AxesSubplot:xlabel='critic_score', ylabel='total_sales'>"
      ]
     },
     "execution_count": 108,
     "metadata": {},
     "output_type": "execute_result"
    },
    {
     "data": {
      "image/png": "[encoded data removed]",
      "text/plain": [
       "<Figure size 216x216 with 1 Axes>"
      ]
     },
     "metadata": {
      "needs_background": "light"
     },
     "output_type": "display_data"
    }
   ],
   "source": [
    "PS4=actual_period.query('platform==\"PS4\" and critic_score>0 and user_score>0')#сохраним данные \n",
    "#по одной платформе в отдельную переменную и отфильтруем значения 0 в оценках\n",
    "#сформируем диаграмму рассеяния по оценкам\n",
    "PS4.plot(x ='critic_score', y ='total_sales', kind ='scatter',grid=True,figsize=(3,3))"
   ]
  },
  {
   "cell_type": "code",
   "execution_count": 109,
   "id": "ccfea37c",
   "metadata": {},
   "outputs": [
    {
     "data": {
      "text/plain": [
       "<AxesSubplot:xlabel='user_score', ylabel='total_sales'>"
      ]
     },
     "execution_count": 109,
     "metadata": {},
     "output_type": "execute_result"
    },
    {
     "data": {
      "image/png": "[encoded data removed]",
      "text/plain": [
       "<Figure size 216x216 with 1 Axes>"
      ]
     },
     "metadata": {
      "needs_background": "light"
     },
     "output_type": "display_data"
    }
   ],
   "source": [
    "PS4.plot(x='user_score', y='total_sales', kind='scatter',grid=True,figsize=(3,3))"
   ]
  },
  {
   "cell_type": "markdown",
   "id": "b00eccb5",
   "metadata": {},
   "source": [
    "<div class=\"alert alert-block alert-danger\">\n",
    " \n",
    "### Комментарий ревьюера\n",
    "    \n",
    "#### Ошибка\n",
    "    \n",
    "Тут стоило бы убрать с графика значения-заглушки, которыми ты заменяла пропуски. \n",
    "</div "
   ]
  },
  {
   "cell_type": "markdown",
   "id": "62ed1820",
   "metadata": {},
   "source": [
    "**<font color=\"purple\">Убрала 0 значения из оценок</font>**"
   ]
  },
  {
   "cell_type": "markdown",
   "id": "db02911d",
   "metadata": {},
   "source": [
    "<div class=\"alert alert-block alert-success\">\n",
    " \n",
    "# Комментарий ревьюера ver.2\n",
    "    \n",
    "#### Успех\n",
    "    \n",
    "Отлично. \n",
    "</div"
   ]
  },
  {
   "cell_type": "code",
   "execution_count": 110,
   "id": "706fe6c6",
   "metadata": {},
   "outputs": [
    {
     "name": "stdout",
     "output_type": "stream",
     "text": [
      "Корреляция оценка пользователей/продажи: -0.04318585997193634\n",
      "Корреляция оценка критиков/продажи: 0.40190287811475334\n"
     ]
    }
   ],
   "source": [
    "print('Корреляция оценка пользователей/продажи:',PS4['user_score'].corr(PS4['total_sales']))#выведем показатели корреляции \n",
    "print('Корреляция оценка критиков/продажи:',PS4['critic_score'].corr(PS4['total_sales'])) "
   ]
  },
  {
   "cell_type": "markdown",
   "id": "95d70438",
   "metadata": {},
   "source": [
    "<div class=\"alert alert-block alert-warning\">\n",
    " \n",
    "### Комментарий ревьюера\n",
    "    \n",
    "#### Совет\n",
    "    \n",
    "Для подсчета корреляции тоже полезно будет убрать 0\n",
    "</div "
   ]
  },
  {
   "cell_type": "markdown",
   "id": "18410d1c",
   "metadata": {},
   "source": [
    "Показатели корреляции отражают слабую линейную зависимость общих продаж от оценок пользователей .Влияние оценок критиков более ощутимо.График также не показывает особой взаимосвязи. Это может говорить о том, что между факторами нелинейная взаимосвязь.Либо на расчет сильно влияют выбросы.\n",
    "Для сравнения возьмем показатели еще у нескольких платформ."
   ]
  },
  {
   "cell_type": "code",
   "execution_count": 111,
   "id": "fb7dce79",
   "metadata": {},
   "outputs": [],
   "source": [
    "XOne = actual_period.query('platform == \"XOne\"and critic_score>0 and user_score>0')\n",
    "DS = actual_period.query('platform == \"3DS\"and critic_score>0 and user_score>0')\n",
    "PS3 = actual_period.query('platform == \"PS3\"and critic_score>0 and user_score>0')"
   ]
  },
  {
   "cell_type": "code",
   "execution_count": 112,
   "id": "cc2f1534",
   "metadata": {},
   "outputs": [
    {
     "name": "stdout",
     "output_type": "stream",
     "text": [
      "Корреляция оценка пользователей/продажи: -0.0917343450331075\n",
      "Корреляция оценка критиков/продажи: 0.42211185105557647\n"
     ]
    },
    {
     "data": {
      "image/png": "[encoded data removed]",
      "text/plain": [
       "<Figure size 216x216 with 1 Axes>"
      ]
     },
     "metadata": {
      "needs_background": "light"
     },
     "output_type": "display_data"
    }
   ],
   "source": [
    "XOne.plot(x='critic_score', y='total_sales', kind='scatter',grid=True,figsize=(3,3))\n",
    "print('Корреляция оценка пользователей/продажи:',XOne['user_score'].corr(XOne['total_sales']))\n",
    "print('Корреляция оценка критиков/продажи:',XOne['critic_score'].corr(XOne['total_sales'])) "
   ]
  },
  {
   "cell_type": "code",
   "execution_count": 113,
   "id": "127e8014",
   "metadata": {},
   "outputs": [
    {
     "name": "stdout",
     "output_type": "stream",
     "text": [
      "Корреляция оценка пользователей/продажи: 0.15659516181359956\n",
      "Корреляция оценка критиков/продажи: 0.44657460493190704\n"
     ]
    },
    {
     "data": {
      "image/png": "[encoded data removed]",
      "text/plain": [
       "<Figure size 216x216 with 1 Axes>"
      ]
     },
     "metadata": {
      "needs_background": "light"
     },
     "output_type": "display_data"
    }
   ],
   "source": [
    "PS3.plot(x='critic_score', y='total_sales', kind='scatter',grid=True,figsize=(3,3))\n",
    "print('Корреляция оценка пользователей/продажи:',PS3['user_score'].corr(PS3['total_sales']))\n",
    "print('Корреляция оценка критиков/продажи:',PS3['critic_score'].corr(PS3['total_sales']))"
   ]
  },
  {
   "cell_type": "code",
   "execution_count": 114,
   "id": "b9f8cd4c",
   "metadata": {},
   "outputs": [
    {
     "name": "stdout",
     "output_type": "stream",
     "text": [
      "Корреляция оценка пользователей/продажи 0.2798498792503281\n",
      "Корреляция оценка критиков/продажи: 0.28468579095782925\n"
     ]
    },
    {
     "data": {
      "image/png": "[encoded data removed]",
      "text/plain": [
       "<Figure size 216x216 with 1 Axes>"
      ]
     },
     "metadata": {
      "needs_background": "light"
     },
     "output_type": "display_data"
    }
   ],
   "source": [
    "DS.plot(x='critic_score', y='total_sales', kind='scatter',grid=True,figsize=(3,3))\n",
    "print('Корреляция оценка пользователей/продажи',DS['user_score'].corr(DS['total_sales']))\n",
    "print('Корреляция оценка критиков/продажи:',DS['critic_score'].corr(DS['total_sales']))"
   ]
  },
  {
   "cell_type": "markdown",
   "id": "10b098ca",
   "metadata": {},
   "source": [
    "<div class=\"alert alert-block alert-success\">\n",
    " \n",
    "### Комментарий ревьюера\n",
    "    \n",
    "#### Успех\n",
    "    \n",
    "Выводы на основе данных с нескольких платформ выглядят убедительнее.  \n",
    "</div "
   ]
  },
  {
   "cell_type": "markdown",
   "id": "2c86395c",
   "metadata": {},
   "source": [
    "Графики по другим платформам также показывают слабое влияние отзывов на продажи "
   ]
  },
  {
   "cell_type": "markdown",
   "id": "85791e76",
   "metadata": {},
   "source": [
    "Посмотрим на общее распределение игр по жанрам"
   ]
  },
  {
   "cell_type": "code",
   "execution_count": 115,
   "id": "d4bb5b88",
   "metadata": {},
   "outputs": [
    {
     "data": {
      "text/plain": [
       "genre\n",
       "Action          619\n",
       "Role-Playing    221\n",
       "Adventure       185\n",
       "Sports          161\n",
       "Shooter         128\n",
       "Misc            113\n",
       "Racing           69\n",
       "Fighting         60\n",
       "Simulation       44\n",
       "Platform         38\n",
       "Strategy         37\n",
       "Puzzle           14\n",
       "Name: name, dtype: int64"
      ]
     },
     "execution_count": 115,
     "metadata": {},
     "output_type": "execute_result"
    }
   ],
   "source": [
    "actual_period.groupby('genre')['name'].count().sort_values(ascending=False)#посмотрим на самые топовые жанры \n",
    "#в соответсвии с количеством выпущенных игр "
   ]
  },
  {
   "cell_type": "code",
   "execution_count": 116,
   "id": "e2ec7b74",
   "metadata": {
    "scrolled": true
   },
   "outputs": [
    {
     "data": {
      "image/png": "[encoded data removed]",
      "text/plain": [
       "<Figure size 432x288 with 1 Axes>"
      ]
     },
     "metadata": {
      "needs_background": "light"
     },
     "output_type": "display_data"
    }
   ],
   "source": [
    "#а теперь посмотрим на распределение жанров по общим продажам\n",
    "barplot=sns.barplot(data = actual_period, x = actual_period['genre'], y = actual_period['total_sales'],palette=\"pastel\")\n",
    "barplot=barplot.set_xticklabels(barplot.get_xticklabels(),rotation = 45)"
   ]
  },
  {
   "cell_type": "markdown",
   "id": "7427564d",
   "metadata": {},
   "source": [
    "Про продажам выделяется явный лидер среди жанров -Shooter.Также можно отметить низкие продажи у жанров:Adventure,Strategy,Puzzle"
   ]
  },
  {
   "cell_type": "markdown",
   "id": "1363c666",
   "metadata": {},
   "source": [
    "<div class=\"alert alert-block alert-success\">\n",
    " \n",
    "### Комментарий ревьюера\n",
    "    \n",
    "#### Успех\n",
    "    \n",
    "Классно, что ты рассмотрел именно медианные продажи. По ним судить более правильно, чем по суммарным. \n",
    "</div "
   ]
  },
  {
   "cell_type": "markdown",
   "id": "51aaec71",
   "metadata": {},
   "source": [
    "# Попробуем составить портрет пользователя каждого региона"
   ]
  },
  {
   "cell_type": "markdown",
   "id": "ac5419eb",
   "metadata": {},
   "source": [
    "# Северная Америка"
   ]
  },
  {
   "cell_type": "code",
   "execution_count": 117,
   "id": "54a04105",
   "metadata": {
    "scrolled": true
   },
   "outputs": [
    {
     "name": "stdout",
     "output_type": "stream",
     "text": [
      "Топ-5 платформ в Северной Америке\n",
      "platform\n",
      "PS4     98.61\n",
      "XOne    81.27\n",
      "X360    28.30\n",
      "3DS     22.64\n",
      "PS3     22.05\n",
      "Name: na_sales, dtype: float64\n"
     ]
    },
    {
     "data": {
      "text/plain": [
       "Text(0, 0.5, 'Продажи копий (млн.)')"
      ]
     },
     "execution_count": 117,
     "metadata": {},
     "output_type": "execute_result"
    },
    {
     "data": {
      "image/png": "[encoded data removed]",
      "text/plain": [
       "<Figure size 288x216 with 1 Axes>"
      ]
     },
     "metadata": {
      "needs_background": "light"
     },
     "output_type": "display_data"
    }
   ],
   "source": [
    "#Посмотрим на список самых популярных платформ \n",
    "platforms_na = actual_period.groupby('platform')['na_sales'].sum().sort_values(ascending=False).head(5)\n",
    "print('Топ-5 платформ в Северной Америке')\n",
    "print(platforms_na)\n",
    "platforms_na.plot(x = 'platform', y = 'na_sales', kind = 'bar', figsize=(4,3), grid=True, title = 'Самые популярные платформы в Северной Америке')\n",
    "plt.xlabel('Платформа')\n",
    "plt.ylabel('Продажи копий (млн.)')"
   ]
  },
  {
   "cell_type": "code",
   "execution_count": 118,
   "id": "36235a02",
   "metadata": {},
   "outputs": [
    {
     "name": "stdout",
     "output_type": "stream",
     "text": [
      "Топ-5 жанров в Северной Америке\n",
      "genre\n",
      "Shooter         79.02\n",
      "Action          72.53\n",
      "Sports          46.13\n",
      "Role-Playing    33.47\n",
      "Misc            15.05\n",
      "Name: na_sales, dtype: float64\n"
     ]
    },
    {
     "data": {
      "text/plain": [
       "<AxesSubplot:ylabel='na_sales'>"
      ]
     },
     "execution_count": 118,
     "metadata": {},
     "output_type": "execute_result"
    },
    {
     "data": {
      "image/png": "[encoded data removed]",
      "text/plain": [
       "<Figure size 288x216 with 1 Axes>"
      ]
     },
     "metadata": {},
     "output_type": "display_data"
    }
   ],
   "source": [
    "#Посмотрим на список самых популярных жанров \n",
    "genre_na = actual_period.groupby('genre')['na_sales'].sum().sort_values(ascending=False).head(5)\n",
    "print('Топ-5 жанров в Северной Америке')\n",
    "print(genre_na)\n",
    "genre_na.plot(x = 'genre', y = 'na_sales', kind = 'pie', figsize=(4,3),autopct='%1.0f%%')"
   ]
  },
  {
   "cell_type": "markdown",
   "id": "d0b88446",
   "metadata": {},
   "source": [
    "В Северной Америке самые популярные платформы PS4 и XOne,по жанрам преобладают Shooter и Action. "
   ]
  },
  {
   "cell_type": "markdown",
   "id": "cddbdcbe",
   "metadata": {},
   "source": [
    "<div class=\"alert alert-block alert-success\">\n",
    " \n",
    "### Комментарий ревьюера\n",
    "    \n",
    "#### Успех\n",
    "    \n",
    "Отлично, о Северной америке мы получил представления. \n",
    "</div "
   ]
  },
  {
   "cell_type": "markdown",
   "id": "08b8fffc",
   "metadata": {},
   "source": [
    "# Япония"
   ]
  },
  {
   "cell_type": "code",
   "execution_count": 119,
   "id": "bb3f4381",
   "metadata": {},
   "outputs": [
    {
     "name": "stdout",
     "output_type": "stream",
     "text": [
      "Топ-5 платформ в Японии\n",
      "platform\n",
      "3DS     44.24\n",
      "PS4     15.02\n",
      "PSV     14.54\n",
      "PS3     11.22\n",
      "WiiU     7.31\n",
      "Name: jp_sales, dtype: float64\n"
     ]
    },
    {
     "data": {
      "text/plain": [
       "<AxesSubplot:title={'center':'Самые популярные платформы в Японии'}, xlabel='platform'>"
      ]
     },
     "execution_count": 119,
     "metadata": {},
     "output_type": "execute_result"
    },
    {
     "data": {
      "image/png": "[encoded data removed]",
      "text/plain": [
       "<Figure size 288x216 with 1 Axes>"
      ]
     },
     "metadata": {
      "needs_background": "light"
     },
     "output_type": "display_data"
    }
   ],
   "source": [
    "platforms_jp = actual_period.groupby('platform')['jp_sales'].sum().sort_values(ascending=False).head(5)\n",
    "print('Топ-5 платформ в Японии')\n",
    "print(platforms_jp)\n",
    "platforms_jp.plot(x = 'platform', y = 'jp_sales', kind = 'bar', figsize=(4,3), grid=True, title = 'Самые популярные платформы в Японии')"
   ]
  },
  {
   "cell_type": "code",
   "execution_count": 120,
   "id": "c4e78555",
   "metadata": {},
   "outputs": [
    {
     "name": "stdout",
     "output_type": "stream",
     "text": [
      "Топ-5 жанров в Японии\n",
      "genre\n",
      "Role-Playing    31.16\n",
      "Action          29.58\n",
      "Fighting         6.37\n",
      "Misc             5.61\n",
      "Shooter          4.87\n",
      "Name: jp_sales, dtype: float64\n"
     ]
    },
    {
     "data": {
      "text/plain": [
       "<AxesSubplot:ylabel='jp_sales'>"
      ]
     },
     "execution_count": 120,
     "metadata": {},
     "output_type": "execute_result"
    },
    {
     "data": {
      "image/png": "[encoded data removed]",
      "text/plain": [
       "<Figure size 288x216 with 1 Axes>"
      ]
     },
     "metadata": {},
     "output_type": "display_data"
    }
   ],
   "source": [
    "genre_jp = actual_period.groupby('genre')['jp_sales'].sum().sort_values(ascending=False).head(5)\n",
    "print('Топ-5 жанров в Японии')\n",
    "print(genre_jp)\n",
    "genre_jp.plot(x = 'genre', y = 'jp_sales', kind = 'pie', figsize=(4,3),autopct='%1.0f%%')"
   ]
  },
  {
   "cell_type": "markdown",
   "id": "f6b0818d",
   "metadata": {},
   "source": [
    "В Японии лидирует 3DS .Это говорит о том ,что население предпочитает свою японскую платформу.Предпочитаемые жанры Role-Playing и Action"
   ]
  },
  {
   "cell_type": "markdown",
   "id": "30254b35",
   "metadata": {},
   "source": [
    "<div class=\"alert alert-block alert-success\">\n",
    " \n",
    "### Комментарий ревьюера\n",
    "    \n",
    "#### Успех\n",
    "    \n",
    "А вот Япония наиболее уникальна в сравнении с Северной Америки. \n",
    "</div "
   ]
  },
  {
   "cell_type": "markdown",
   "id": "1af54d07",
   "metadata": {},
   "source": [
    "# Европа"
   ]
  },
  {
   "cell_type": "code",
   "execution_count": 121,
   "id": "e2f9b323",
   "metadata": {},
   "outputs": [
    {
     "name": "stdout",
     "output_type": "stream",
     "text": [
      "Топ-5 платформ в Европе\n",
      "platform\n",
      "PS4     130.04\n",
      "XOne     46.25\n",
      "PS3      25.54\n",
      "PC       17.97\n",
      "3DS      16.12\n",
      "Name: eu_sales, dtype: float64\n"
     ]
    },
    {
     "data": {
      "text/plain": [
       "Text(0, 0.5, 'Продажи копий (млн.)')"
      ]
     },
     "execution_count": 121,
     "metadata": {},
     "output_type": "execute_result"
    },
    {
     "data": {
      "image/png": "[encoded data removed]",
      "text/plain": [
       "<Figure size 288x216 with 1 Axes>"
      ]
     },
     "metadata": {
      "needs_background": "light"
     },
     "output_type": "display_data"
    }
   ],
   "source": [
    "platforms_eu = actual_period.groupby('platform')['eu_sales'].sum().sort_values(ascending=False).head(5)\n",
    "print('Топ-5 платформ в Европе')\n",
    "print(platforms_eu)\n",
    "platforms_eu.plot(x = 'platform', y = 'eu_sales', kind = 'bar', figsize=(4,3), grid=True, title = 'Самые популярные платформы в Европе')\n",
    "plt.xlabel('Платформа')\n",
    "plt.ylabel('Продажи копий (млн.)')"
   ]
  },
  {
   "cell_type": "code",
   "execution_count": 122,
   "id": "607a6093",
   "metadata": {},
   "outputs": [
    {
     "name": "stdout",
     "output_type": "stream",
     "text": [
      "Топ-5 жанров в Европе\n",
      "genre\n",
      "Action          74.68\n",
      "Shooter         65.52\n",
      "Sports          45.73\n",
      "Role-Playing    28.17\n",
      "Racing          14.13\n",
      "Name: eu_sales, dtype: float64\n"
     ]
    },
    {
     "data": {
      "text/plain": [
       "<AxesSubplot:ylabel='eu_sales'>"
      ]
     },
     "execution_count": 122,
     "metadata": {},
     "output_type": "execute_result"
    },
    {
     "data": {
      "image/png": "[encoded data removed]",
      "text/plain": [
       "<Figure size 288x216 with 1 Axes>"
      ]
     },
     "metadata": {},
     "output_type": "display_data"
    }
   ],
   "source": [
    "genre_eu = actual_period.groupby('genre')['eu_sales'].sum().sort_values(ascending=False).head(5)\n",
    "print('Топ-5 жанров в Европе')\n",
    "print(genre_eu)\n",
    "genre_eu.plot(x = 'genre', y = 'eu_sales', kind = 'pie', figsize=(4,3),autopct='%1.0f%%')"
   ]
  },
  {
   "cell_type": "markdown",
   "id": "12d19a21",
   "metadata": {},
   "source": [
    "Европейские пользователи предпочитают японскую PS4,менее популярна американская XOne.По жанрам предпочтения- Shooter и Action  "
   ]
  },
  {
   "cell_type": "markdown",
   "id": "f9228770",
   "metadata": {},
   "source": [
    "Можно сделать вывод, что предпочтения европейских и американских пользователей схожи по жанрам Shooter и Action,в отличии от японских пользователей которые предпочитают Role-Playing,видимо причина в том, что большинсво игр данного жанра выпущено в Японии."
   ]
  },
  {
   "cell_type": "markdown",
   "id": "cb3bae7d",
   "metadata": {},
   "source": [
    " Посмотрим как влияет рейтинг ESRB на продажи в отдельном регионе"
   ]
  },
  {
   "cell_type": "code",
   "execution_count": 123,
   "id": "3444c12e",
   "metadata": {},
   "outputs": [
    {
     "data": {
      "text/plain": [
       "Text(0, 0.5, 'Продажи копий (млн.)')"
      ]
     },
     "execution_count": 123,
     "metadata": {},
     "output_type": "execute_result"
    },
    {
     "data": {
      "image/png": "[encoded data removed]",
      "text/plain": [
       "<Figure size 180x144 with 1 Axes>"
      ]
     },
     "metadata": {
      "needs_background": "light"
     },
     "output_type": "display_data"
    }
   ],
   "source": [
    "rating_na = actual_period.groupby('rating')['na_sales'].sum().sort_values(ascending=False)\n",
    "rating_na.plot(x = 'rating', y = 'na_sales', kind = 'bar', figsize=(2.5,2), grid=True,title = 'Северная Америка')\n",
    "plt.xlabel('рейтинг')\n",
    "plt.ylabel('Продажи копий (млн.)')"
   ]
  },
  {
   "cell_type": "code",
   "execution_count": 124,
   "id": "bf8deeb1",
   "metadata": {},
   "outputs": [
    {
     "data": {
      "text/plain": [
       "Text(0, 0.5, 'Продажи копий (млн.)')"
      ]
     },
     "execution_count": 124,
     "metadata": {},
     "output_type": "execute_result"
    },
    {
     "data": {
      "image/png": "[encoded data removed]",
      "text/plain": [
       "<Figure size 180x144 with 1 Axes>"
      ]
     },
     "metadata": {
      "needs_background": "light"
     },
     "output_type": "display_data"
    }
   ],
   "source": [
    "rating_eu = actual_period.groupby('rating')['eu_sales'].sum().sort_values(ascending=False)\n",
    "rating_eu.plot(x = 'rating', y = 'eu_sales', kind = 'bar', figsize=(2.5,2), grid=True,title = 'Европа')\n",
    "plt.xlabel('рейтинг')\n",
    "plt.ylabel('Продажи копий (млн.)')"
   ]
  },
  {
   "cell_type": "code",
   "execution_count": 125,
   "id": "71c08ab1",
   "metadata": {},
   "outputs": [
    {
     "data": {
      "text/plain": [
       "Text(0, 0.5, 'Продажи копий (млн.)')"
      ]
     },
     "execution_count": 125,
     "metadata": {},
     "output_type": "execute_result"
    },
    {
     "data": {
      "image/png": "[encoded data removed]",
      "text/plain": [
       "<Figure size 180x144 with 1 Axes>"
      ]
     },
     "metadata": {
      "needs_background": "light"
     },
     "output_type": "display_data"
    }
   ],
   "source": [
    "rating_jp = actual_period.groupby('rating')['jp_sales'].sum().sort_values(ascending=False)\n",
    "rating_jp.plot(x = 'rating', y = 'jp_sales', kind = 'bar', figsize=(2.5,2), grid=True,title = 'Япония')\n",
    "plt.xlabel('рейтинг')\n",
    "plt.ylabel('Продажи копий (млн.)')"
   ]
  },
  {
   "cell_type": "code",
   "execution_count": 126,
   "id": "6f58252e",
   "metadata": {},
   "outputs": [
    {
     "data": {
      "text/html": [
       "<div>\n",
       "<style scoped>\n",
       "    .dataframe tbody tr th:only-of-type {\n",
       "        vertical-align: middle;\n",
       "    }\n",
       "\n",
       "    .dataframe tbody tr th {\n",
       "        vertical-align: top;\n",
       "    }\n",
       "\n",
       "    .dataframe thead th {\n",
       "        text-align: right;\n",
       "    }\n",
       "</style>\n",
       "<table border=\"1\" class=\"dataframe\">\n",
       "  <thead>\n",
       "    <tr style=\"text-align: right;\">\n",
       "      <th></th>\n",
       "      <th>eu_sales</th>\n",
       "      <th>jp_sales</th>\n",
       "      <th>na_sales</th>\n",
       "    </tr>\n",
       "    <tr>\n",
       "      <th>rating</th>\n",
       "      <th></th>\n",
       "      <th></th>\n",
       "      <th></th>\n",
       "    </tr>\n",
       "  </thead>\n",
       "  <tbody>\n",
       "    <tr>\n",
       "      <th>E</th>\n",
       "      <td>58.06</td>\n",
       "      <td>8.94</td>\n",
       "      <td>50.74</td>\n",
       "    </tr>\n",
       "    <tr>\n",
       "      <th>E10+</th>\n",
       "      <td>26.16</td>\n",
       "      <td>4.46</td>\n",
       "      <td>33.23</td>\n",
       "    </tr>\n",
       "    <tr>\n",
       "      <th>M</th>\n",
       "      <td>93.44</td>\n",
       "      <td>8.01</td>\n",
       "      <td>96.42</td>\n",
       "    </tr>\n",
       "    <tr>\n",
       "      <th>T</th>\n",
       "      <td>34.07</td>\n",
       "      <td>14.78</td>\n",
       "      <td>38.95</td>\n",
       "    </tr>\n",
       "    <tr>\n",
       "      <th>unknown</th>\n",
       "      <td>58.95</td>\n",
       "      <td>56.90</td>\n",
       "      <td>64.72</td>\n",
       "    </tr>\n",
       "  </tbody>\n",
       "</table>\n",
       "</div>"
      ],
      "text/plain": [
       "         eu_sales  jp_sales  na_sales\n",
       "rating                               \n",
       "E           58.06      8.94     50.74\n",
       "E10+        26.16      4.46     33.23\n",
       "M           93.44      8.01     96.42\n",
       "T           34.07     14.78     38.95\n",
       "unknown     58.95     56.90     64.72"
      ]
     },
     "execution_count": 126,
     "metadata": {},
     "output_type": "execute_result"
    }
   ],
   "source": [
    "total_rating = actual_period.pivot_table(index = 'rating', values = ['eu_sales','jp_sales','na_sales'], aggfunc = 'sum')\n",
    "total_rating"
   ]
  },
  {
   "cell_type": "markdown",
   "id": "2d7a3107",
   "metadata": {},
   "source": [
    "Возрастной рейтинг влияет на продажи, как показывают данные в Европе и Северной Америке основные пользователи находятся в категориях «E» («Everyone») — «Для всех» и «M» («Mature») — «Для взрослых».Сложнее сделать выводы про Японию так как более 50млн. копий продано в категориях не указанных в рейтинге."
   ]
  },
  {
   "cell_type": "markdown",
   "id": "068d191d",
   "metadata": {},
   "source": [
    "<div class=\"alert alert-block alert-success\">\n",
    " \n",
    "### Комментарий ревьюера\n",
    "    \n",
    "#### Успех\n",
    "    \n",
    "Очень хороший разбор регионов. Здорово получилось. \n",
    "</div "
   ]
  },
  {
   "cell_type": "markdown",
   "id": "2801ef15",
   "metadata": {},
   "source": [
    "# Проверим некоторые гипотезы"
   ]
  },
  {
   "cell_type": "markdown",
   "id": "f6b6c5f7",
   "metadata": {},
   "source": [
    "Сформулируем гипотезы\n",
    "Нулевая гипотеза:Средние пользовательские рейтинги платформ Xbox One и PC одинаковые.Если \n",
    "Альтернативная гипотеза:Средние пользовательские рейтинги платформ Xbox One и PC разные.Альтернативная гипотеза будет  верной если отбрасывается нулевая гипотеза.\n"
   ]
  },
  {
   "cell_type": "code",
   "execution_count": 127,
   "id": "2eddb89f",
   "metadata": {},
   "outputs": [
    {
     "name": "stdout",
     "output_type": "stream",
     "text": [
      "Средний пользовательский рейтинг платформы Xbox One: 6.594545454545456\n",
      "Средний пользовательский рейтинг платформы PC 6.298360655737705\n",
      "p-значение: 0.10450507919348415\n",
      "Не получилось отвергнуть нулевую гипотезу\n"
     ]
    }
   ],
   "source": [
    "#сделаем выборки по платформам для дальнейшей проверки гипотез\n",
    "Xbox_One = actual_period[(actual_period['platform'] == 'XOne') & (actual_period['user_score'] > 0)]['user_score']\n",
    "PC = actual_period[(actual_period['platform'] == 'PC') &  (actual_period['user_score'] > 0)]['user_score']\n",
    "print('Средний пользовательский рейтинг платформы Xbox One:',Xbox_One.mean())\n",
    "print('Средний пользовательский рейтинг платформы PC',PC.mean())\n",
    "#Так как мы имеем выборки из двух генеральных совокупностей используем st.ttest_ind \n",
    "alpha = 0.05\n",
    "results = st.ttest_ind(Xbox_One,PC, equal_var = True)\n",
    "print('p-значение:', results.pvalue)\n",
    "if results.pvalue < alpha:\n",
    "    print('Отвергаем нулевую гипотезу')\n",
    "else:\n",
    "    print('Не получилось отвергнуть нулевую гипотезу')"
   ]
  },
  {
   "cell_type": "markdown",
   "id": "0779ecfa",
   "metadata": {},
   "source": [
    "<div class=\"alert alert-block alert-success\">\n",
    " \n",
    "### Комментарий ревьюера\n",
    "    \n",
    "#### Успех\n",
    "    \n",
    "Гипотезы сформулированы, c выводами согласен. \n",
    "</div "
   ]
  },
  {
   "cell_type": "markdown",
   "id": "a82612f2",
   "metadata": {},
   "source": [
    "Проверим вторую гипотезу\n",
    "Нулевая гипотеза:Средние пользовательские рейтинги жанров Action (англ. «действие», экшен-игры) и Sports (англ. «спортивные соревнования») разные\n",
    "Альтернативная гипотеза :Средние пользовательские рейтинги жанров Action (англ. «действие», экшен-игры) и Sports (англ. «спортивные соревнования») одинаковые"
   ]
  },
  {
   "cell_type": "code",
   "execution_count": 128,
   "id": "3165dda6",
   "metadata": {},
   "outputs": [
    {
     "name": "stdout",
     "output_type": "stream",
     "text": [
      "Средний пользовательский рейтинг жанра Action: 6.760606060606061\n",
      "Средний пользовательский рейтинг жанра Sports 5.2251968503937\n",
      "p-значение: 0.10450507919348415\n",
      "Не получилось отвергнуть нулевую гипотезу\n"
     ]
    }
   ],
   "source": [
    "#сделаем выборки по жанрам для дальнейшей проверки гипотез\n",
    "Action = actual_period[(actual_period['genre'] == 'Action') &  (actual_period['user_score'] > 0)]['user_score']\n",
    "Sports = actual_period[(actual_period['genre'] == 'Sports') &  (actual_period['user_score'] > 0)]['user_score']\n",
    "print('Средний пользовательский рейтинг жанра Action:',Action.mean())\n",
    "print('Средний пользовательский рейтинг жанра Sports',Sports.mean())\n",
    "#Так как мы имеем выборки из двух генеральных совокупностей используем st.ttest_ind \n",
    "alpha = 0.05\n",
    "results = st.ttest_ind(Xbox_One,PC, equal_var = True)\n",
    "print('p-значение:', results.pvalue)\n",
    "if results.pvalue < alpha:\n",
    "    print('Отвергаем нулевую гипотезу')\n",
    "else:\n",
    "    print('Не получилось отвергнуть нулевую гипотезу')"
   ]
  },
  {
   "cell_type": "markdown",
   "id": "c0fe5f9b",
   "metadata": {},
   "source": [
    "<div class=\"alert alert-block alert-success\">\n",
    " \n",
    "### Комментарий ревьюера\n",
    "    \n",
    "#### Успех\n",
    "    \n",
    "Ну и здесь с Гипотезой отлично получилось разобраться. \n",
    "</div "
   ]
  },
  {
   "cell_type": "markdown",
   "id": "d3f252b4",
   "metadata": {},
   "source": [
    "Общий вывод:\n",
    "Перед нами была поставлена задача-выявить закономерности ,определяющие популярность игр.Для проекта были взяты данные об обьемах продаж игр в разных регионах, оценки пользователей и экспертов, жанры и платформы.Для изучения данных мы взяли период с 2014 по 2016гг. Исследовательский анализ данных показал,что платформы существуют в основном 5-10 лет.Самыми популярными и продаваемыми платформами в мире являются японская платформа PS4 (год выпуска -2013) и  американская XOne(год выпуска -2013).Несмотря на общий спад продаж с 2015 г. данные платформы лидируют по обьему продажй(за 2014-2016гг.PS4-288.15 млн.проданных копий ,XOne-140.36млн.проданных копий)Наибольшее количество выпущенных игр имеет жанр Action.А вот наибольшую прибыть принесли игры в жанре Shooter. Shooter и Action самые распространенные жанры в Северной Америке и Европе в отличии от Японии где очень популярны игры в жанре Role-Playing.Самая распространенная возрастная категория «M» («Mature») — «Для взрослых».Видимо индустрия взрослых игр более развита. Определено в 2017г можно делать ставки на 2 самые успешные платформы PS4 и XOne.\n"
   ]
  },
  {
   "cell_type": "markdown",
   "id": "b3f1296f",
   "metadata": {},
   "source": [
    "<div class=\"alert alert-block alert-success\">\n",
    " \n",
    "### Комментарий ревьюера\n",
    "    \n",
    "#### Успех\n",
    "    \n",
    "Итоговый вывод стал отличным дополненнием проекта. У тебя здесь собрано все то, что получено в ходе изучения рынка видеоигр. Вот теперь мы точно сможем составить прогноз на 2017. \n",
    "</div "
   ]
  },
  {
   "cell_type": "markdown",
   "id": "9045853a",
   "metadata": {},
   "source": [
    "<div class=\"alert alert-block alert-info\">\n",
    " \n",
    "### Итоговый комментарий ревьюера\n",
    "    \n",
    "#### Успех\n",
    "    \n",
    "Спасибо тебе за проделанную работу. У тебя, определенно, есть хорошая база, при помощи который ты здорово справилась с работой. Отдельно хочу похвалить за работу с графиками. Отдельного внимания заслуживает раздел по проверке Гипотез и Предобработке данных. А еще классный вывод получился.\n",
    "    \n",
    "Но в работе есть замечания, которые надо будет поправить: \n",
    "    \n",
    "* Устранить ошибки при распаковке проекта. \n",
    "* Исправить график \"Ящик с усами\".\n",
    "* Убрать значения-заглушки с графиков зависимости.\n",
    "  \n",
    "    \n",
    "А еще, я оставил в работе рекомендации. Надеюсь, они тебе помогут в дальнейшем.\n",
    "    \n",
    "Буду ждать проект после доработок. Удачи. \n",
    "</div "
   ]
  }
 ],
 "metadata": {
  "ExecuteTimeLog": [
   {
    "duration": 1385,
    "start_time": "2022-12-04T09:57:39.870Z"
   },
   {
    "duration": 10,
    "start_time": "2022-12-04T09:57:54.818Z"
   },
   {
    "duration": 10,
    "start_time": "2022-12-04T09:58:13.223Z"
   },
   {
    "duration": 9,
    "start_time": "2022-12-04T09:58:20.143Z"
   },
   {
    "duration": 9,
    "start_time": "2022-12-04T09:58:30.324Z"
   },
   {
    "duration": 9,
    "start_time": "2022-12-04T10:01:19.124Z"
   },
   {
    "duration": 77,
    "start_time": "2022-12-05T06:17:46.928Z"
   },
   {
    "duration": 13,
    "start_time": "2022-12-05T06:27:37.809Z"
   },
   {
    "duration": 59,
    "start_time": "2022-12-05T06:27:37.823Z"
   },
   {
    "duration": 67,
    "start_time": "2022-12-05T06:29:46.024Z"
   },
   {
    "duration": 1205,
    "start_time": "2022-12-05T06:30:53.329Z"
   },
   {
    "duration": 59,
    "start_time": "2022-12-05T06:31:06.178Z"
   },
   {
    "duration": 13,
    "start_time": "2022-12-05T06:31:09.522Z"
   },
   {
    "duration": 4,
    "start_time": "2022-12-05T06:31:15.075Z"
   },
   {
    "duration": 5,
    "start_time": "2022-12-05T06:31:16.955Z"
   },
   {
    "duration": 5,
    "start_time": "2022-12-05T06:31:19.617Z"
   },
   {
    "duration": 65,
    "start_time": "2022-12-05T06:35:00.055Z"
   },
   {
    "duration": 15,
    "start_time": "2022-12-05T06:35:00.121Z"
   },
   {
    "duration": 48,
    "start_time": "2022-12-05T06:35:00.138Z"
   },
   {
    "duration": 27,
    "start_time": "2022-12-05T06:35:00.188Z"
   },
   {
    "duration": 68,
    "start_time": "2022-12-05T06:35:00.217Z"
   },
   {
    "duration": 46,
    "start_time": "2022-12-05T06:35:00.287Z"
   },
   {
    "duration": 33,
    "start_time": "2022-12-05T06:35:00.335Z"
   },
   {
    "duration": 58,
    "start_time": "2022-12-05T06:35:00.370Z"
   },
   {
    "duration": 17,
    "start_time": "2022-12-05T06:35:00.430Z"
   },
   {
    "duration": 41,
    "start_time": "2022-12-05T06:35:00.450Z"
   },
   {
    "duration": 61,
    "start_time": "2022-12-05T06:35:00.492Z"
   },
   {
    "duration": 27,
    "start_time": "2022-12-05T06:35:00.555Z"
   },
   {
    "duration": 42,
    "start_time": "2022-12-05T06:35:00.584Z"
   },
   {
    "duration": 39,
    "start_time": "2022-12-05T06:35:00.628Z"
   },
   {
    "duration": 48,
    "start_time": "2022-12-05T06:35:00.669Z"
   },
   {
    "duration": 41,
    "start_time": "2022-12-05T06:35:00.719Z"
   },
   {
    "duration": 43,
    "start_time": "2022-12-05T06:35:00.762Z"
   },
   {
    "duration": 28,
    "start_time": "2022-12-05T06:35:00.806Z"
   },
   {
    "duration": 5,
    "start_time": "2022-12-05T06:35:00.836Z"
   },
   {
    "duration": 12,
    "start_time": "2022-12-05T06:35:00.842Z"
   },
   {
    "duration": 27,
    "start_time": "2022-12-05T06:35:00.855Z"
   },
   {
    "duration": 23,
    "start_time": "2022-12-05T06:35:00.884Z"
   },
   {
    "duration": 19,
    "start_time": "2022-12-05T06:35:00.909Z"
   },
   {
    "duration": 204,
    "start_time": "2022-12-05T06:35:00.929Z"
   },
   {
    "duration": 174,
    "start_time": "2022-12-05T06:35:01.135Z"
   },
   {
    "duration": 163,
    "start_time": "2022-12-05T06:35:01.311Z"
   },
   {
    "duration": 149,
    "start_time": "2022-12-05T06:35:01.477Z"
   },
   {
    "duration": 155,
    "start_time": "2022-12-05T06:35:01.629Z"
   },
   {
    "duration": 163,
    "start_time": "2022-12-05T06:35:01.786Z"
   },
   {
    "duration": 128,
    "start_time": "2022-12-05T06:35:01.950Z"
   },
   {
    "duration": 148,
    "start_time": "2022-12-05T06:35:02.079Z"
   },
   {
    "duration": 226,
    "start_time": "2022-12-05T06:35:02.228Z"
   },
   {
    "duration": 131,
    "start_time": "2022-12-05T06:35:02.455Z"
   },
   {
    "duration": 291,
    "start_time": "2022-12-05T06:35:02.587Z"
   },
   {
    "duration": 239,
    "start_time": "2022-12-05T06:35:02.879Z"
   },
   {
    "duration": 214,
    "start_time": "2022-12-05T06:43:27.501Z"
   },
   {
    "duration": 211,
    "start_time": "2022-12-05T06:47:12.767Z"
   },
   {
    "duration": 194,
    "start_time": "2022-12-05T06:48:01.453Z"
   },
   {
    "duration": 341,
    "start_time": "2022-12-05T06:48:13.496Z"
   },
   {
    "duration": 226,
    "start_time": "2022-12-05T06:48:23.319Z"
   },
   {
    "duration": 236,
    "start_time": "2022-12-05T06:48:30.721Z"
   },
   {
    "duration": 226,
    "start_time": "2022-12-05T06:49:10.741Z"
   },
   {
    "duration": 259,
    "start_time": "2022-12-05T06:49:23.671Z"
   },
   {
    "duration": 368,
    "start_time": "2022-12-05T06:49:37.412Z"
   },
   {
    "duration": 207,
    "start_time": "2022-12-05T06:49:58.278Z"
   },
   {
    "duration": 262,
    "start_time": "2022-12-05T06:50:13.687Z"
   },
   {
    "duration": 248,
    "start_time": "2022-12-05T06:50:24.119Z"
   },
   {
    "duration": 251,
    "start_time": "2022-12-05T06:50:36.849Z"
   },
   {
    "duration": 220,
    "start_time": "2022-12-05T06:50:57.213Z"
   },
   {
    "duration": 313,
    "start_time": "2022-12-05T06:52:59.686Z"
   },
   {
    "duration": 72,
    "start_time": "2022-12-05T06:53:50.842Z"
   },
   {
    "duration": 150,
    "start_time": "2022-12-05T07:07:16.786Z"
   },
   {
    "duration": 119,
    "start_time": "2022-12-05T07:07:26.531Z"
   },
   {
    "duration": 7,
    "start_time": "2022-12-05T07:09:21.011Z"
   },
   {
    "duration": 13,
    "start_time": "2022-12-05T07:11:47.663Z"
   },
   {
    "duration": 117,
    "start_time": "2022-12-05T07:11:53.367Z"
   },
   {
    "duration": 106,
    "start_time": "2022-12-05T07:12:01.773Z"
   },
   {
    "duration": 117,
    "start_time": "2022-12-05T07:12:25.994Z"
   },
   {
    "duration": 119,
    "start_time": "2022-12-05T07:12:29.306Z"
   },
   {
    "duration": 62,
    "start_time": "2022-12-05T07:17:03.086Z"
   },
   {
    "duration": 15,
    "start_time": "2022-12-05T07:17:03.151Z"
   },
   {
    "duration": 4,
    "start_time": "2022-12-05T07:17:03.167Z"
   },
   {
    "duration": 12,
    "start_time": "2022-12-05T07:17:03.177Z"
   },
   {
    "duration": 9,
    "start_time": "2022-12-05T07:17:03.191Z"
   },
   {
    "duration": 7,
    "start_time": "2022-12-05T07:17:03.202Z"
   },
   {
    "duration": 7,
    "start_time": "2022-12-05T07:17:03.210Z"
   },
   {
    "duration": 8,
    "start_time": "2022-12-05T07:17:03.218Z"
   },
   {
    "duration": 11,
    "start_time": "2022-12-05T07:17:03.227Z"
   },
   {
    "duration": 19,
    "start_time": "2022-12-05T07:17:03.241Z"
   },
   {
    "duration": 27,
    "start_time": "2022-12-05T07:17:03.261Z"
   },
   {
    "duration": 11,
    "start_time": "2022-12-05T07:17:03.290Z"
   },
   {
    "duration": 19,
    "start_time": "2022-12-05T07:17:03.303Z"
   },
   {
    "duration": 4,
    "start_time": "2022-12-05T07:17:03.324Z"
   },
   {
    "duration": 11,
    "start_time": "2022-12-05T07:17:03.330Z"
   },
   {
    "duration": 44,
    "start_time": "2022-12-05T07:17:03.343Z"
   },
   {
    "duration": 18,
    "start_time": "2022-12-05T07:17:03.389Z"
   },
   {
    "duration": 22,
    "start_time": "2022-12-05T07:17:03.409Z"
   },
   {
    "duration": 5,
    "start_time": "2022-12-05T07:17:03.432Z"
   },
   {
    "duration": 11,
    "start_time": "2022-12-05T07:17:03.438Z"
   },
   {
    "duration": 30,
    "start_time": "2022-12-05T07:17:03.451Z"
   },
   {
    "duration": 10,
    "start_time": "2022-12-05T07:17:03.483Z"
   },
   {
    "duration": 7,
    "start_time": "2022-12-05T07:17:03.495Z"
   },
   {
    "duration": 176,
    "start_time": "2022-12-05T07:17:03.504Z"
   },
   {
    "duration": 160,
    "start_time": "2022-12-05T07:17:03.682Z"
   },
   {
    "duration": 198,
    "start_time": "2022-12-05T07:17:03.843Z"
   },
   {
    "duration": 190,
    "start_time": "2022-12-05T07:17:04.043Z"
   },
   {
    "duration": 159,
    "start_time": "2022-12-05T07:17:04.236Z"
   },
   {
    "duration": 156,
    "start_time": "2022-12-05T07:17:04.397Z"
   },
   {
    "duration": 131,
    "start_time": "2022-12-05T07:17:04.554Z"
   },
   {
    "duration": 189,
    "start_time": "2022-12-05T07:17:04.687Z"
   },
   {
    "duration": 267,
    "start_time": "2022-12-05T07:17:04.878Z"
   },
   {
    "duration": 132,
    "start_time": "2022-12-05T07:17:05.147Z"
   },
   {
    "duration": 298,
    "start_time": "2022-12-05T07:17:05.282Z"
   },
   {
    "duration": 255,
    "start_time": "2022-12-05T07:17:05.582Z"
   },
   {
    "duration": 221,
    "start_time": "2022-12-05T07:17:05.838Z"
   },
   {
    "duration": 144,
    "start_time": "2022-12-05T07:17:06.061Z"
   },
   {
    "duration": 132,
    "start_time": "2022-12-05T07:17:06.207Z"
   },
   {
    "duration": 6,
    "start_time": "2022-12-05T07:17:06.340Z"
   },
   {
    "duration": 20,
    "start_time": "2022-12-05T07:17:06.347Z"
   },
   {
    "duration": 131,
    "start_time": "2022-12-05T07:17:06.378Z"
   },
   {
    "duration": 125,
    "start_time": "2022-12-05T07:17:06.510Z"
   },
   {
    "duration": 131,
    "start_time": "2022-12-05T07:17:06.637Z"
   },
   {
    "duration": 7,
    "start_time": "2022-12-05T07:17:06.778Z"
   },
   {
    "duration": 391,
    "start_time": "2022-12-05T07:17:06.787Z"
   },
   {
    "duration": 135,
    "start_time": "2022-12-05T07:17:07.179Z"
   },
   {
    "duration": 106,
    "start_time": "2022-12-05T07:17:07.316Z"
   },
   {
    "duration": 256,
    "start_time": "2022-12-05T07:17:07.425Z"
   },
   {
    "duration": 116,
    "start_time": "2022-12-05T07:17:07.682Z"
   },
   {
    "duration": 145,
    "start_time": "2022-12-05T07:17:07.800Z"
   },
   {
    "duration": 100,
    "start_time": "2022-12-05T07:17:07.946Z"
   },
   {
    "duration": 130,
    "start_time": "2022-12-05T07:17:08.048Z"
   },
   {
    "duration": 120,
    "start_time": "2022-12-05T07:17:08.180Z"
   },
   {
    "duration": 117,
    "start_time": "2022-12-05T07:17:08.302Z"
   },
   {
    "duration": 15,
    "start_time": "2022-12-05T07:17:08.420Z"
   },
   {
    "duration": 9,
    "start_time": "2022-12-05T07:17:08.437Z"
   },
   {
    "duration": 29,
    "start_time": "2022-12-05T07:17:08.448Z"
   }
  ],
  "kernelspec": {
   "display_name": "Python 3 (ipykernel)",
   "language": "python",
   "name": "python3"
  },
  "language_info": {
   "codemirror_mode": {
    "name": "ipython",
    "version": 3
   },
   "file_extension": ".py",
   "mimetype": "text/x-python",
   "name": "python",
   "nbconvert_exporter": "python",
   "pygments_lexer": "ipython3",
   "version": "3.9.5"
  },
  "toc": {
   "base_numbering": 1,
   "nav_menu": {},
   "number_sections": true,
   "sideBar": true,
   "skip_h1_title": true,
   "title_cell": "Table of Contents",
   "title_sidebar": "Contents",
   "toc_cell": false,
   "toc_position": {},
   "toc_section_display": true,
   "toc_window_display": false
  }
 },
 "nbformat": 4,
 "nbformat_minor": 5
}
