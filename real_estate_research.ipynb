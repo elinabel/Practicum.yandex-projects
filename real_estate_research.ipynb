{
 "cells": [
  {
   "cell_type": "markdown",
   "id": "03149d0a",
   "metadata": {},
   "source": [
    "# Исследование рынка недвижимости "
   ]
  },
  {
   "cell_type": "markdown",
   "id": "6c8da246",
   "metadata": {},
   "source": [
    "</div>\n",
    "<div class=\"alert alert-block alert-info\">Приступаем к работе над проектом ,целью которого является изучение данных сервиса Яндекс Недвижимость. Необходимо детально рассмотреть  архив объявлений за несколько лет о продаже квартир в Санкт-Петербурге и соседних населённых пунктах. Конечная задача- выполнение предобработки данных и выявление интересных явлений,  существующих на рынке недвижимости. Мы имеем базу квартир с большим количеством параметров, также в базе содержится два типа данных: добавленные пользователем и картографические.\n"
   ]
  },
  {
   "cell_type": "code",
   "execution_count": 1,
   "id": "409b54f4",
   "metadata": {
    "scrolled": true
   },
   "outputs": [
    {
     "name": "stdout",
     "output_type": "stream",
     "text": [
      "Запрашиваемый файл не найден\n"
     ]
    },
    {
     "data": {
      "text/html": [
       "<div>\n",
       "<style scoped>\n",
       "    .dataframe tbody tr th:only-of-type {\n",
       "        vertical-align: middle;\n",
       "    }\n",
       "\n",
       "    .dataframe tbody tr th {\n",
       "        vertical-align: top;\n",
       "    }\n",
       "\n",
       "    .dataframe thead th {\n",
       "        text-align: right;\n",
       "    }\n",
       "</style>\n",
       "<table border=\"1\" class=\"dataframe\">\n",
       "  <thead>\n",
       "    <tr style=\"text-align: right;\">\n",
       "      <th></th>\n",
       "      <th>total_images</th>\n",
       "      <th>last_price</th>\n",
       "      <th>total_area</th>\n",
       "      <th>first_day_exposition</th>\n",
       "      <th>rooms</th>\n",
       "      <th>ceiling_height</th>\n",
       "      <th>floors_total</th>\n",
       "      <th>living_area</th>\n",
       "      <th>floor</th>\n",
       "      <th>is_apartment</th>\n",
       "      <th>...</th>\n",
       "      <th>kitchen_area</th>\n",
       "      <th>balcony</th>\n",
       "      <th>locality_name</th>\n",
       "      <th>airports_nearest</th>\n",
       "      <th>cityCenters_nearest</th>\n",
       "      <th>parks_around3000</th>\n",
       "      <th>parks_nearest</th>\n",
       "      <th>ponds_around3000</th>\n",
       "      <th>ponds_nearest</th>\n",
       "      <th>days_exposition</th>\n",
       "    </tr>\n",
       "  </thead>\n",
       "  <tbody>\n",
       "    <tr>\n",
       "      <th>0</th>\n",
       "      <td>20</td>\n",
       "      <td>13000000.0</td>\n",
       "      <td>108.0</td>\n",
       "      <td>2019-03-07T00:00:00</td>\n",
       "      <td>3</td>\n",
       "      <td>2.70</td>\n",
       "      <td>16.0</td>\n",
       "      <td>51.0</td>\n",
       "      <td>8</td>\n",
       "      <td>NaN</td>\n",
       "      <td>...</td>\n",
       "      <td>25.0</td>\n",
       "      <td>NaN</td>\n",
       "      <td>Санкт-Петербург</td>\n",
       "      <td>18863.0</td>\n",
       "      <td>16028.0</td>\n",
       "      <td>1.0</td>\n",
       "      <td>482.0</td>\n",
       "      <td>2.0</td>\n",
       "      <td>755.0</td>\n",
       "      <td>NaN</td>\n",
       "    </tr>\n",
       "    <tr>\n",
       "      <th>1</th>\n",
       "      <td>7</td>\n",
       "      <td>3350000.0</td>\n",
       "      <td>40.4</td>\n",
       "      <td>2018-12-04T00:00:00</td>\n",
       "      <td>1</td>\n",
       "      <td>NaN</td>\n",
       "      <td>11.0</td>\n",
       "      <td>18.6</td>\n",
       "      <td>1</td>\n",
       "      <td>NaN</td>\n",
       "      <td>...</td>\n",
       "      <td>11.0</td>\n",
       "      <td>2.0</td>\n",
       "      <td>посёлок Шушары</td>\n",
       "      <td>12817.0</td>\n",
       "      <td>18603.0</td>\n",
       "      <td>0.0</td>\n",
       "      <td>NaN</td>\n",
       "      <td>0.0</td>\n",
       "      <td>NaN</td>\n",
       "      <td>81.0</td>\n",
       "    </tr>\n",
       "    <tr>\n",
       "      <th>2</th>\n",
       "      <td>10</td>\n",
       "      <td>5196000.0</td>\n",
       "      <td>56.0</td>\n",
       "      <td>2015-08-20T00:00:00</td>\n",
       "      <td>2</td>\n",
       "      <td>NaN</td>\n",
       "      <td>5.0</td>\n",
       "      <td>34.3</td>\n",
       "      <td>4</td>\n",
       "      <td>NaN</td>\n",
       "      <td>...</td>\n",
       "      <td>8.3</td>\n",
       "      <td>0.0</td>\n",
       "      <td>Санкт-Петербург</td>\n",
       "      <td>21741.0</td>\n",
       "      <td>13933.0</td>\n",
       "      <td>1.0</td>\n",
       "      <td>90.0</td>\n",
       "      <td>2.0</td>\n",
       "      <td>574.0</td>\n",
       "      <td>558.0</td>\n",
       "    </tr>\n",
       "    <tr>\n",
       "      <th>3</th>\n",
       "      <td>0</td>\n",
       "      <td>64900000.0</td>\n",
       "      <td>159.0</td>\n",
       "      <td>2015-07-24T00:00:00</td>\n",
       "      <td>3</td>\n",
       "      <td>NaN</td>\n",
       "      <td>14.0</td>\n",
       "      <td>NaN</td>\n",
       "      <td>9</td>\n",
       "      <td>NaN</td>\n",
       "      <td>...</td>\n",
       "      <td>NaN</td>\n",
       "      <td>0.0</td>\n",
       "      <td>Санкт-Петербург</td>\n",
       "      <td>28098.0</td>\n",
       "      <td>6800.0</td>\n",
       "      <td>2.0</td>\n",
       "      <td>84.0</td>\n",
       "      <td>3.0</td>\n",
       "      <td>234.0</td>\n",
       "      <td>424.0</td>\n",
       "    </tr>\n",
       "    <tr>\n",
       "      <th>4</th>\n",
       "      <td>2</td>\n",
       "      <td>10000000.0</td>\n",
       "      <td>100.0</td>\n",
       "      <td>2018-06-19T00:00:00</td>\n",
       "      <td>2</td>\n",
       "      <td>3.03</td>\n",
       "      <td>14.0</td>\n",
       "      <td>32.0</td>\n",
       "      <td>13</td>\n",
       "      <td>NaN</td>\n",
       "      <td>...</td>\n",
       "      <td>41.0</td>\n",
       "      <td>NaN</td>\n",
       "      <td>Санкт-Петербург</td>\n",
       "      <td>31856.0</td>\n",
       "      <td>8098.0</td>\n",
       "      <td>2.0</td>\n",
       "      <td>112.0</td>\n",
       "      <td>1.0</td>\n",
       "      <td>48.0</td>\n",
       "      <td>121.0</td>\n",
       "    </tr>\n",
       "  </tbody>\n",
       "</table>\n",
       "<p>5 rows × 22 columns</p>\n",
       "</div>"
      ],
      "text/plain": [
       "   total_images  last_price  total_area first_day_exposition  rooms  \\\n",
       "0            20  13000000.0       108.0  2019-03-07T00:00:00      3   \n",
       "1             7   3350000.0        40.4  2018-12-04T00:00:00      1   \n",
       "2            10   5196000.0        56.0  2015-08-20T00:00:00      2   \n",
       "3             0  64900000.0       159.0  2015-07-24T00:00:00      3   \n",
       "4             2  10000000.0       100.0  2018-06-19T00:00:00      2   \n",
       "\n",
       "   ceiling_height  floors_total  living_area  floor is_apartment  ...  \\\n",
       "0            2.70          16.0         51.0      8          NaN  ...   \n",
       "1             NaN          11.0         18.6      1          NaN  ...   \n",
       "2             NaN           5.0         34.3      4          NaN  ...   \n",
       "3             NaN          14.0          NaN      9          NaN  ...   \n",
       "4            3.03          14.0         32.0     13          NaN  ...   \n",
       "\n",
       "   kitchen_area  balcony    locality_name  airports_nearest  \\\n",
       "0          25.0      NaN  Санкт-Петербург           18863.0   \n",
       "1          11.0      2.0   посёлок Шушары           12817.0   \n",
       "2           8.3      0.0  Санкт-Петербург           21741.0   \n",
       "3           NaN      0.0  Санкт-Петербург           28098.0   \n",
       "4          41.0      NaN  Санкт-Петербург           31856.0   \n",
       "\n",
       "  cityCenters_nearest  parks_around3000  parks_nearest  ponds_around3000  \\\n",
       "0             16028.0               1.0          482.0               2.0   \n",
       "1             18603.0               0.0            NaN               0.0   \n",
       "2             13933.0               1.0           90.0               2.0   \n",
       "3              6800.0               2.0           84.0               3.0   \n",
       "4              8098.0               2.0          112.0               1.0   \n",
       "\n",
       "   ponds_nearest  days_exposition  \n",
       "0          755.0              NaN  \n",
       "1            NaN             81.0  \n",
       "2          574.0            558.0  \n",
       "3          234.0            424.0  \n",
       "4           48.0            121.0  \n",
       "\n",
       "[5 rows x 22 columns]"
      ]
     },
     "execution_count": 1,
     "metadata": {},
     "output_type": "execute_result"
    }
   ],
   "source": [
    "import pandas as pd\n",
    "\n",
    "try:\n",
    "    data=pd.read_csv('/datasets/real_estate_data.csv',sep='\\t')\n",
    "    data=pd.read_csv('/Users/tima2/OneDrive/Documents/real_estate_data.csv',sep='\\t')\n",
    "except FileNotFoundError:\n",
    "    print('Запрашиваемый файл не найден')\n",
    "data.head(5)"
   ]
  },
  {
   "cell_type": "markdown",
   "id": "b88f6cd6",
   "metadata": {},
   "source": [
    "</div>\n",
    "<div class=\"alert alert-block alert-info\">Применила конструкцию try except для прописывания 2х путей"
   ]
  },
  {
   "cell_type": "code",
   "execution_count": 2,
   "id": "6d8ba078",
   "metadata": {},
   "outputs": [
    {
     "name": "stdout",
     "output_type": "stream",
     "text": [
      "<class 'pandas.core.frame.DataFrame'>\n",
      "RangeIndex: 23699 entries, 0 to 23698\n",
      "Data columns (total 22 columns):\n",
      " #   Column                Non-Null Count  Dtype  \n",
      "---  ------                --------------  -----  \n",
      " 0   total_images          23699 non-null  int64  \n",
      " 1   last_price            23699 non-null  float64\n",
      " 2   total_area            23699 non-null  float64\n",
      " 3   first_day_exposition  23699 non-null  object \n",
      " 4   rooms                 23699 non-null  int64  \n",
      " 5   ceiling_height        14504 non-null  float64\n",
      " 6   floors_total          23613 non-null  float64\n",
      " 7   living_area           21796 non-null  float64\n",
      " 8   floor                 23699 non-null  int64  \n",
      " 9   is_apartment          2775 non-null   object \n",
      " 10  studio                23699 non-null  bool   \n",
      " 11  open_plan             23699 non-null  bool   \n",
      " 12  kitchen_area          21421 non-null  float64\n",
      " 13  balcony               12180 non-null  float64\n",
      " 14  locality_name         23650 non-null  object \n",
      " 15  airports_nearest      18157 non-null  float64\n",
      " 16  cityCenters_nearest   18180 non-null  float64\n",
      " 17  parks_around3000      18181 non-null  float64\n",
      " 18  parks_nearest         8079 non-null   float64\n",
      " 19  ponds_around3000      18181 non-null  float64\n",
      " 20  ponds_nearest         9110 non-null   float64\n",
      " 21  days_exposition       20518 non-null  float64\n",
      "dtypes: bool(2), float64(14), int64(3), object(3)\n",
      "memory usage: 3.7+ MB\n"
     ]
    }
   ],
   "source": [
    "data.info()"
   ]
  },
  {
   "cell_type": "markdown",
   "id": "8f3ac57e",
   "metadata": {},
   "source": [
    "В названиях столбцов есть несоответствие с общепринятым стилем .Поменяем заголовки некотовых столбцов."
   ]
  },
  {
   "cell_type": "code",
   "execution_count": 3,
   "id": "68ffb69b",
   "metadata": {},
   "outputs": [],
   "source": [
    "data=data.rename(columns={'cityCenters_nearest':'city_centers_nearest','parks_around3000':'parks_around_3000','ponds_around3000':'ponds_around_3000'})"
   ]
  },
  {
   "cell_type": "code",
   "execution_count": 4,
   "id": "fd1c4061",
   "metadata": {
    "scrolled": false
   },
   "outputs": [
    {
     "data": {
      "text/plain": [
       "array([[<AxesSubplot:title={'center':'total_images'}>,\n",
       "        <AxesSubplot:title={'center':'last_price'}>,\n",
       "        <AxesSubplot:title={'center':'total_area'}>,\n",
       "        <AxesSubplot:title={'center':'rooms'}>],\n",
       "       [<AxesSubplot:title={'center':'ceiling_height'}>,\n",
       "        <AxesSubplot:title={'center':'floors_total'}>,\n",
       "        <AxesSubplot:title={'center':'living_area'}>,\n",
       "        <AxesSubplot:title={'center':'floor'}>],\n",
       "       [<AxesSubplot:title={'center':'kitchen_area'}>,\n",
       "        <AxesSubplot:title={'center':'balcony'}>,\n",
       "        <AxesSubplot:title={'center':'airports_nearest'}>,\n",
       "        <AxesSubplot:title={'center':'city_centers_nearest'}>],\n",
       "       [<AxesSubplot:title={'center':'parks_around_3000'}>,\n",
       "        <AxesSubplot:title={'center':'parks_nearest'}>,\n",
       "        <AxesSubplot:title={'center':'ponds_around_3000'}>,\n",
       "        <AxesSubplot:title={'center':'ponds_nearest'}>],\n",
       "       [<AxesSubplot:title={'center':'days_exposition'}>, <AxesSubplot:>,\n",
       "        <AxesSubplot:>, <AxesSubplot:>]], dtype=object)"
      ]
     },
     "execution_count": 4,
     "metadata": {},
     "output_type": "execute_result"
    },
    {
     "data": {
      "image/png": "[encoded data removed]",
      "text/plain": [
       "<Figure size 1440x1440 with 20 Axes>"
      ]
     },
     "metadata": {
      "needs_background": "light"
     },
     "output_type": "display_data"
    }
   ],
   "source": [
    "data.hist(figsize=(20,20))#Построем общую гистограмму по каждому столбцу таблицы"
   ]
  },
  {
   "cell_type": "markdown",
   "id": "3740ed25",
   "metadata": {},
   "source": [
    "\n",
    "\n",
    "   \n",
    "   Приступаем к предобработке\n",
    "\n",
    "</div>\n"
   ]
  },
  {
   "cell_type": "code",
   "execution_count": 5,
   "id": "3e8edfe6",
   "metadata": {},
   "outputs": [
    {
     "data": {
      "text/plain": [
       "total_images                0\n",
       "last_price                  0\n",
       "total_area                  0\n",
       "first_day_exposition        0\n",
       "rooms                       0\n",
       "ceiling_height           9195\n",
       "floors_total               86\n",
       "living_area              1903\n",
       "floor                       0\n",
       "is_apartment            20924\n",
       "studio                      0\n",
       "open_plan                   0\n",
       "kitchen_area             2278\n",
       "balcony                 11519\n",
       "locality_name              49\n",
       "airports_nearest         5542\n",
       "city_centers_nearest     5519\n",
       "parks_around_3000        5518\n",
       "parks_nearest           15620\n",
       "ponds_around_3000        5518\n",
       "ponds_nearest           14589\n",
       "days_exposition          3181\n",
       "dtype: int64"
      ]
     },
     "execution_count": 5,
     "metadata": {},
     "output_type": "execute_result"
    }
   ],
   "source": [
    "data.isna().sum()#Посмотрим количество пропущенных значений в каждом столбце"
   ]
  },
  {
   "cell_type": "code",
   "execution_count": 6,
   "id": "410c3ea6",
   "metadata": {},
   "outputs": [],
   "source": [
    "data['balcony']=data['balcony'].fillna(0)#если нет данных о балконе вероятнее его нет"
   ]
  },
  {
   "cell_type": "code",
   "execution_count": 7,
   "id": "1083fe94",
   "metadata": {},
   "outputs": [],
   "source": [
    "#data['days_exposition']=data['days_exposition'].fillna(data['days_exposition'].mean())\n",
    "#заполним средним значение количество дней публикации"
   ]
  },
  {
   "cell_type": "code",
   "execution_count": 8,
   "id": "7418ecfd",
   "metadata": {},
   "outputs": [],
   "source": [
    "data['first_day_exposition'] = pd.to_datetime(data['first_day_exposition'], format = '%Y-%m-%d')\n",
    "data['year']=data['first_day_exposition'].dt.year"
   ]
  },
  {
   "cell_type": "code",
   "execution_count": 9,
   "id": "ce33ac22",
   "metadata": {},
   "outputs": [
    {
     "data": {
      "text/plain": [
       "year\n",
       "2014     137\n",
       "2015    1191\n",
       "2016    2783\n",
       "2017    8190\n",
       "2018    8519\n",
       "2019    2879\n",
       "Name: days_exposition, dtype: int64"
      ]
     },
     "execution_count": 9,
     "metadata": {},
     "output_type": "execute_result"
    }
   ],
   "source": [
    "data['days_exposition'].isna().groupby(data['year']).count()"
   ]
  },
  {
   "cell_type": "code",
   "execution_count": 10,
   "id": "89ba1862",
   "metadata": {},
   "outputs": [],
   "source": [
    "data['is_apartment']=data['is_apartment'].fillna('False')"
   ]
  },
  {
   "cell_type": "code",
   "execution_count": 11,
   "id": "24daf034",
   "metadata": {},
   "outputs": [],
   "source": [
    "data['parks_around_3000']=data['parks_around_3000'].fillna(0)#выяснить есть ли парки рядом невозможно заменим пропуски на 0"
   ]
  },
  {
   "cell_type": "code",
   "execution_count": 12,
   "id": "ad9eb0f6",
   "metadata": {},
   "outputs": [],
   "source": [
    "data['ponds_around_3000']=data['ponds_around_3000'].fillna(0)#выяснить есть ли пруды рядом невозможно заменим пропуски на 0"
   ]
  },
  {
   "cell_type": "code",
   "execution_count": 13,
   "id": "030479c4",
   "metadata": {},
   "outputs": [],
   "source": [
    "data['floors_total']=data['floors_total'].fillna(0)\n"
   ]
  },
  {
   "cell_type": "code",
   "execution_count": 14,
   "id": "539e90db",
   "metadata": {},
   "outputs": [],
   "source": [
    "data=data.dropna(subset=['locality_name'])#удалим строки с отсутсвующими названиями населенных пунктов "
   ]
  },
  {
   "cell_type": "code",
   "execution_count": 15,
   "id": "89b10565",
   "metadata": {},
   "outputs": [],
   "source": [
    "data['parks_around_3000']=data['parks_around_3000'].fillna(0)\n",
    "#если продавец не указал наличие парков рядом вероянее их там нет заменяем пропуски на 0"
   ]
  },
  {
   "cell_type": "code",
   "execution_count": 16,
   "id": "3007fc32",
   "metadata": {},
   "outputs": [],
   "source": [
    "data['ponds_around_3000']=data['ponds_around_3000'].fillna(0)#если продавец не указал наличие прудов рядом вероянее их там нет \n",
    "#заменяем пропуски на 0"
   ]
  },
  {
   "cell_type": "markdown",
   "id": "4a6f97d9",
   "metadata": {},
   "source": [
    "Причины появления пропусков бывают разные.К человеческому фактору относятся невнимательное заполнение информации.Например в столбцах balcony,airports_nearest,city_сenters_nearest,ceiling_height,living_area,kitchen_area(вряд ли владелец не знает такой информации о своем обьекте недвижимости)Судя по большому количеству пропусков в :parks_nearest,ponds_nearest видимо информацию могли вносить не только владельцы жилья но и агенты, которые не владели данной информацией.Пропуски в days_exposition возрастают по мере лет. Это означает что данные обькты недвижимоти не проданы и продажа не закрыта.Такие пропуски не надо корректировать так как это может повлиять на дальнейшие расчеты.Столбец is_apartment имеет самое большое количество пропущенных значений ,возможно изначально этого столбца не было вообще.Пропущенные значения в столбцах parks_around_3000,ponds_around_3000 вероятнее всего показывают отсутсвие данных обьектов рядом. "
   ]
  },
  {
   "cell_type": "markdown",
   "id": "7493d7ea",
   "metadata": {},
   "source": []
  },
  {
   "cell_type": "code",
   "execution_count": 17,
   "id": "dffa1e9d",
   "metadata": {},
   "outputs": [
    {
     "data": {
      "text/plain": [
       "total_images                0\n",
       "last_price                  0\n",
       "total_area                  0\n",
       "first_day_exposition        0\n",
       "rooms                       0\n",
       "ceiling_height           9160\n",
       "floors_total                0\n",
       "living_area              1898\n",
       "floor                       0\n",
       "is_apartment                0\n",
       "studio                      0\n",
       "open_plan                   0\n",
       "kitchen_area             2269\n",
       "balcony                     0\n",
       "locality_name               0\n",
       "airports_nearest         5534\n",
       "city_centers_nearest     5511\n",
       "parks_around_3000           0\n",
       "parks_nearest           15586\n",
       "ponds_around_3000           0\n",
       "ponds_nearest           14565\n",
       "days_exposition          3180\n",
       "year                        0\n",
       "dtype: int64"
      ]
     },
     "execution_count": 17,
     "metadata": {},
     "output_type": "execute_result"
    }
   ],
   "source": [
    "data.isna().sum()"
   ]
  },
  {
   "cell_type": "markdown",
   "id": "db2734f1",
   "metadata": {},
   "source": [
    "Преобразование типов данных"
   ]
  },
  {
   "cell_type": "code",
   "execution_count": 18,
   "id": "93eef7a3",
   "metadata": {},
   "outputs": [],
   "source": [
    "data['balcony'] = data['balcony'].astype('int') # float64 поменяли на int64 количесво балконов должно быть целым\n",
    "data['first_day_exposition'] = pd.to_datetime(data['first_day_exposition'], format = '%Y-%m-%d') #object поменяли на datetime\n",
    "data['last_price'] = data['last_price'].astype('int')#float64 поменяли на int64 для удобства просмотра\n",
    "data['is_apartment'] = data['is_apartment'].astype('bool')#object поменяли на bool ,булевое значение если соответствут условию выводит True,если нет False\n",
    "data['parks_around_3000'] = data['parks_around_3000'].astype('int') #float64 поменяли на int64 количесво обьектов должно быть целым      \n",
    "data['ponds_around_3000'] = data['ponds_around_3000'].astype('int')#float64 поменяли на int64 количесво обьектов должно быть целым\n",
    "data['floors_total'] = data['floors_total'].astype('int')#float64 поменять на int64 количество этажей должно быть целым "
   ]
  },
  {
   "cell_type": "markdown",
   "id": "f70aa817",
   "metadata": {},
   "source": [
    "last_price              float64 поменяли на int64 для удобства просмотра,\n",
    "first_day_exposition    object поменяли на datetime,\n",
    "floors_total            float64 поменять на int64 количество этажей должно быть целым, \n",
    "is_apartment            object поменяли на bool ,булевое значение если соответствут условию выводит True,если нет False,\n",
    "balcony                 float64 поменяли на int64 количесво балконов должно быть целым,\n",
    "days_exposition         float64 поменяли на int64 количество дней должно быть целым,\n",
    "parks_around3000        float64 поменяли на int64 количесво обьектов должно быть целым,\n",
    "ponds_around3000        float64 поменяли на int64 количесво обьектов должно быть целым."
   ]
  },
  {
   "cell_type": "code",
   "execution_count": 19,
   "id": "02e897cf",
   "metadata": {},
   "outputs": [
    {
     "data": {
      "text/plain": [
       "{'Бокситогорск',\n",
       " 'Волосово',\n",
       " 'Волхов',\n",
       " 'Всеволожск',\n",
       " 'Выборг',\n",
       " 'Высоцк',\n",
       " 'Гатчина',\n",
       " 'Зеленогорск',\n",
       " 'Ивангород',\n",
       " 'Каменногорск',\n",
       " 'Кингисепп',\n",
       " 'Кириши',\n",
       " 'Кировск',\n",
       " 'Колпино',\n",
       " 'Коммунар',\n",
       " 'Красное Село',\n",
       " 'Кронштадт',\n",
       " 'Кудрово',\n",
       " 'Лодейное Поле',\n",
       " 'Ломоносов',\n",
       " 'Луга',\n",
       " 'Любань',\n",
       " 'Мурино',\n",
       " 'Никольское',\n",
       " 'Новая Ладога',\n",
       " 'Отрадное',\n",
       " 'Павловск',\n",
       " 'Петергоф',\n",
       " 'Пикалёво',\n",
       " 'Подпорожье',\n",
       " 'Приморск',\n",
       " 'Приозерск',\n",
       " 'Пушкин',\n",
       " 'Санкт-Петербург',\n",
       " 'Светогорск',\n",
       " 'Сертолово',\n",
       " 'Сестрорецк',\n",
       " 'Сланцы',\n",
       " 'Сосновый Бор',\n",
       " 'Сясьстрой',\n",
       " 'Тихвин',\n",
       " 'Тосно',\n",
       " 'Шлиссельбург',\n",
       " 'городской поселок Большая Ижора',\n",
       " 'городской поселок Янино-1',\n",
       " 'городской посёлок Будогощь',\n",
       " 'городской посёлок Виллози',\n",
       " 'городской посёлок Лесогорский',\n",
       " 'городской посёлок Мга',\n",
       " 'городской посёлок Назия',\n",
       " 'городской посёлок Новоселье',\n",
       " 'городской посёлок Павлово',\n",
       " 'городской посёлок Рощино',\n",
       " 'городской посёлок Свирьстрой',\n",
       " 'городской посёлок Советский',\n",
       " 'городской посёлок Фёдоровское',\n",
       " 'городской посёлок Янино-1',\n",
       " 'деревня Агалатово',\n",
       " 'деревня Аро',\n",
       " 'деревня Батово',\n",
       " 'деревня Бегуницы',\n",
       " 'деревня Белогорка',\n",
       " 'деревня Большая Вруда',\n",
       " 'деревня Большая Пустомержа',\n",
       " 'деревня Большие Колпаны',\n",
       " 'деревня Большое Рейзино',\n",
       " 'деревня Большой Сабск',\n",
       " 'деревня Бор',\n",
       " 'деревня Борисова Грива',\n",
       " 'деревня Ваганово',\n",
       " 'деревня Вартемяги',\n",
       " 'деревня Вахнова Кара',\n",
       " 'деревня Выскатка',\n",
       " 'деревня Гарболово',\n",
       " 'деревня Глинка',\n",
       " 'деревня Горбунки',\n",
       " 'деревня Гостилицы',\n",
       " 'деревня Заклинье',\n",
       " 'деревня Заневка',\n",
       " 'деревня Зимитицы',\n",
       " 'деревня Извара',\n",
       " 'деревня Иссад',\n",
       " 'деревня Калитино',\n",
       " 'деревня Кальтино',\n",
       " 'деревня Камышовка',\n",
       " 'деревня Каськово',\n",
       " 'деревня Келози',\n",
       " 'деревня Кипень',\n",
       " 'деревня Кисельня',\n",
       " 'деревня Колтуши',\n",
       " 'деревня Коркино',\n",
       " 'деревня Котлы',\n",
       " 'деревня Кривко',\n",
       " 'деревня Кудрово',\n",
       " 'деревня Кузьмолово',\n",
       " 'деревня Курковицы',\n",
       " 'деревня Куровицы',\n",
       " 'деревня Куттузи',\n",
       " 'деревня Лаврики',\n",
       " 'деревня Лаголово',\n",
       " 'деревня Лампово',\n",
       " 'деревня Лесколово',\n",
       " 'деревня Лопухинка',\n",
       " 'деревня Лупполово',\n",
       " 'деревня Малая Романовка',\n",
       " 'деревня Малое Верево',\n",
       " 'деревня Малое Карлино',\n",
       " 'деревня Малые Колпаны',\n",
       " 'деревня Мануйлово',\n",
       " 'деревня Меньково',\n",
       " 'деревня Мины',\n",
       " 'деревня Мистолово',\n",
       " 'деревня Ненимяки',\n",
       " 'деревня Нижние Осельки',\n",
       " 'деревня Нижняя',\n",
       " 'деревня Низино',\n",
       " 'деревня Новое Девяткино',\n",
       " 'деревня Новолисино',\n",
       " 'деревня Нурма',\n",
       " 'деревня Оржицы',\n",
       " 'деревня Парицы',\n",
       " 'деревня Пельгора',\n",
       " 'деревня Пеники',\n",
       " 'деревня Пижма',\n",
       " 'деревня Пикколово',\n",
       " 'деревня Пудомяги',\n",
       " 'деревня Пустынка',\n",
       " 'деревня Пчева',\n",
       " 'деревня Рабитицы',\n",
       " 'деревня Разбегаево',\n",
       " 'деревня Раздолье',\n",
       " 'деревня Разметелево',\n",
       " 'деревня Рапполово',\n",
       " 'деревня Реброво',\n",
       " 'деревня Русско',\n",
       " 'деревня Сижно',\n",
       " 'деревня Снегирёвка',\n",
       " 'деревня Старая',\n",
       " 'деревня Старая Пустошь',\n",
       " 'деревня Старое Хинколово',\n",
       " 'деревня Старополье',\n",
       " 'деревня Старосиверская',\n",
       " 'деревня Старые Бегуницы',\n",
       " 'деревня Суоранда',\n",
       " 'деревня Сяськелево',\n",
       " 'деревня Тарасово',\n",
       " 'деревня Терпилицы',\n",
       " 'деревня Тихковицы',\n",
       " 'деревня Тойворово',\n",
       " 'деревня Торосово',\n",
       " 'деревня Торошковичи',\n",
       " 'деревня Трубников Бор',\n",
       " 'деревня Фалилеево',\n",
       " 'деревня Фёдоровское',\n",
       " 'деревня Хапо-Ое',\n",
       " 'деревня Хязельки',\n",
       " 'деревня Чудской Бор',\n",
       " 'деревня Шпаньково',\n",
       " 'деревня Щеглово',\n",
       " 'деревня Юкки',\n",
       " 'деревня Ялгино',\n",
       " 'деревня Яльгелево',\n",
       " 'деревня Ям-Тесово',\n",
       " 'коттеджный поселок Кивеннапа Север',\n",
       " 'коттеджный поселок Счастье',\n",
       " 'коттеджный посёлок Лесное',\n",
       " 'поселок Аннино',\n",
       " 'поселок Барышево',\n",
       " 'поселок Бугры',\n",
       " 'поселок Возрождение',\n",
       " 'поселок Войсковицы',\n",
       " 'поселок Володарское',\n",
       " 'поселок Гаврилово',\n",
       " 'поселок Гарболово',\n",
       " 'поселок Гладкое',\n",
       " 'поселок Глажево',\n",
       " 'поселок Глебычево',\n",
       " 'поселок Гончарово',\n",
       " 'поселок Громово',\n",
       " 'поселок Дружноселье',\n",
       " 'поселок Елизаветино',\n",
       " 'поселок Жилгородок',\n",
       " 'поселок Жилпосёлок',\n",
       " 'поселок Житково',\n",
       " 'поселок Заводской',\n",
       " 'поселок Запорожское',\n",
       " 'поселок Зимитицы',\n",
       " 'поселок Ильичёво',\n",
       " 'поселок Калитино',\n",
       " 'поселок Каложицы',\n",
       " 'поселок Кингисеппский',\n",
       " 'поселок Кирпичное',\n",
       " 'поселок Кобралово',\n",
       " 'поселок Кобринское',\n",
       " 'поселок Коммунары',\n",
       " 'поселок Коробицыно',\n",
       " 'поселок Котельский',\n",
       " 'поселок Красная Долина',\n",
       " 'поселок Красносельское',\n",
       " 'поселок Лесное',\n",
       " 'поселок Лисий Нос',\n",
       " 'поселок Лукаши',\n",
       " 'поселок Любань',\n",
       " 'поселок Мельниково',\n",
       " 'поселок Мичуринское',\n",
       " 'поселок Молодцово',\n",
       " 'поселок Мурино',\n",
       " 'поселок Новый Свет',\n",
       " 'поселок Новый Учхоз',\n",
       " 'поселок Оредеж',\n",
       " 'поселок Пансионат Зелёный Бор',\n",
       " 'поселок Первомайское',\n",
       " 'поселок Перово',\n",
       " 'поселок Петровское',\n",
       " 'поселок Победа',\n",
       " 'поселок Поляны',\n",
       " 'поселок Почап',\n",
       " 'поселок Починок',\n",
       " 'поселок Пушное',\n",
       " 'поселок Пчевжа',\n",
       " 'поселок Рабитицы',\n",
       " 'поселок Романовка',\n",
       " 'поселок Ромашки',\n",
       " 'поселок Рябово',\n",
       " 'поселок Севастьяново',\n",
       " 'поселок Селезнёво',\n",
       " 'поселок Сельцо',\n",
       " 'поселок Семиозерье',\n",
       " 'поселок Семрино',\n",
       " 'поселок Серебрянский',\n",
       " 'поселок Совхозный',\n",
       " 'поселок Старая Малукса',\n",
       " 'поселок Стеклянный',\n",
       " 'поселок Сумино',\n",
       " 'поселок Суходолье',\n",
       " 'поселок Тельмана',\n",
       " 'поселок Терволово',\n",
       " 'поселок Торковичи',\n",
       " 'поселок Тёсово-4',\n",
       " 'поселок Углово',\n",
       " 'поселок Усть-Луга',\n",
       " 'поселок Ушаки',\n",
       " 'поселок Цвелодубово',\n",
       " 'поселок Цвылёво',\n",
       " 'поселок городского типа Большая Ижора',\n",
       " 'поселок городского типа Вырица',\n",
       " 'поселок городского типа Дружная Горка',\n",
       " 'поселок городского типа Дубровка',\n",
       " 'поселок городского типа Ефимовский',\n",
       " 'поселок городского типа Кондратьево',\n",
       " 'поселок городского типа Красный Бор',\n",
       " 'поселок городского типа Кузьмоловский',\n",
       " 'поселок городского типа Лебяжье',\n",
       " 'поселок городского типа Лесогорский',\n",
       " 'поселок городского типа Назия',\n",
       " 'поселок городского типа Никольский',\n",
       " 'поселок городского типа Приладожский',\n",
       " 'поселок городского типа Рахья',\n",
       " 'поселок городского типа Рощино',\n",
       " 'поселок городского типа Рябово',\n",
       " 'поселок городского типа Синявино',\n",
       " 'поселок городского типа Советский',\n",
       " 'поселок городского типа Токсово',\n",
       " 'поселок городского типа Форносово',\n",
       " 'поселок городского типа имени Свердлова',\n",
       " 'поселок станции Вещево',\n",
       " 'поселок станции Корнево',\n",
       " 'поселок станции Лужайка',\n",
       " 'поселок станции Приветнинское',\n",
       " 'посёлок Александровская',\n",
       " 'посёлок Алексеевка',\n",
       " 'посёлок Аннино',\n",
       " 'посёлок Белоостров',\n",
       " 'посёлок Бугры',\n",
       " 'посёлок Возрождение',\n",
       " 'посёлок Войскорово',\n",
       " 'посёлок Высокоключевой',\n",
       " 'посёлок Гаврилово',\n",
       " 'посёлок Дзержинского',\n",
       " 'посёлок Жилгородок',\n",
       " 'посёлок Ильичёво',\n",
       " 'посёлок Кикерино',\n",
       " 'посёлок Кобралово',\n",
       " 'посёлок Коробицыно',\n",
       " 'посёлок Левашово',\n",
       " 'посёлок Ленинское',\n",
       " 'посёлок Лисий Нос',\n",
       " 'посёлок Мельниково',\n",
       " 'посёлок Металлострой',\n",
       " 'посёлок Мичуринское',\n",
       " 'посёлок Молодёжное',\n",
       " 'посёлок Мурино',\n",
       " 'посёлок Мыза-Ивановка',\n",
       " 'посёлок Новогорелово',\n",
       " 'посёлок Новый Свет',\n",
       " 'посёлок Пансионат Зелёный Бор',\n",
       " 'посёлок Парголово',\n",
       " 'посёлок Перово',\n",
       " 'посёлок Песочный',\n",
       " 'посёлок Петро-Славянка',\n",
       " 'посёлок Петровское',\n",
       " 'посёлок Платформа 69-й километр',\n",
       " 'посёлок Плодовое',\n",
       " 'посёлок Плоское',\n",
       " 'посёлок Победа',\n",
       " 'посёлок Поляны',\n",
       " 'посёлок Понтонный',\n",
       " 'посёлок Пригородный',\n",
       " 'посёлок Пудость',\n",
       " 'посёлок Репино',\n",
       " 'посёлок Ропша',\n",
       " 'посёлок Сапёрное',\n",
       " 'посёлок Сапёрный',\n",
       " 'посёлок Сосново',\n",
       " 'посёлок Старая Малукса',\n",
       " 'посёлок Стеклянный',\n",
       " 'посёлок Стрельна',\n",
       " 'посёлок Суйда',\n",
       " 'посёлок Сумино',\n",
       " 'посёлок Тельмана',\n",
       " 'посёлок Терволово',\n",
       " 'посёлок Торфяное',\n",
       " 'посёлок Усть-Ижора',\n",
       " 'посёлок Усть-Луга',\n",
       " 'посёлок Форт Красная Горка',\n",
       " 'посёлок Шугозеро',\n",
       " 'посёлок Шушары',\n",
       " 'посёлок Щеглово',\n",
       " 'посёлок городского типа Важины',\n",
       " 'посёлок городского типа Вознесенье',\n",
       " 'посёлок городского типа Вырица',\n",
       " 'посёлок городского типа Красный Бор',\n",
       " 'посёлок городского типа Кузнечное',\n",
       " 'посёлок городского типа Кузьмоловский',\n",
       " 'посёлок городского типа Лебяжье',\n",
       " 'посёлок городского типа Мга',\n",
       " 'посёлок городского типа Павлово',\n",
       " 'посёлок городского типа Рощино',\n",
       " 'посёлок городского типа Рябово',\n",
       " 'посёлок городского типа Сиверский',\n",
       " 'посёлок городского типа Тайцы',\n",
       " 'посёлок городского типа Токсово',\n",
       " 'посёлок городского типа Ульяновка',\n",
       " 'посёлок городского типа Форносово',\n",
       " 'посёлок городского типа имени Морозова',\n",
       " 'посёлок городского типа имени Свердлова',\n",
       " 'посёлок при железнодорожной станции Вещево',\n",
       " 'посёлок при железнодорожной станции Приветнинское',\n",
       " 'посёлок станции Громово',\n",
       " 'посёлок станции Свирь',\n",
       " 'садоводческое некоммерческое товарищество Лесная Поляна',\n",
       " 'садовое товарищество Новая Ропша',\n",
       " 'садовое товарищество Приладожский',\n",
       " 'садовое товарищество Рахья',\n",
       " 'садовое товарищество Садко',\n",
       " 'село Копорье',\n",
       " 'село Никольское',\n",
       " 'село Павлово',\n",
       " 'село Паша',\n",
       " 'село Путилово',\n",
       " 'село Рождествено',\n",
       " 'село Русско-Высоцкое',\n",
       " 'село Старая Ладога',\n",
       " 'село Шум'}"
      ]
     },
     "execution_count": 19,
     "metadata": {},
     "output_type": "execute_result"
    }
   ],
   "source": [
    "set(data['locality_name'].unique())#Выведем уникальные значения названий населенных пунктов в алфовитном порядке"
   ]
  },
  {
   "cell_type": "code",
   "execution_count": 20,
   "id": "8f78b896",
   "metadata": {},
   "outputs": [
    {
     "name": "stdout",
     "output_type": "stream",
     "text": [
      "Количество уникальных названий до 364\n"
     ]
    }
   ],
   "source": [
    "#как мы видим в списке населенных пунктов много неявных дубликатов ,для удобства просмотра приведем названия к единому образцу\n",
    "#Создаем цикл который заменит данные значения во всем столбце \n",
    "print('Количество уникальных названий до',data['locality_name'].nunique())\n",
    "replace_name=['поселок городского типа', 'городской поселок', 'городской посёлок','коттеджный поселок', 'посёлок', 'посёлок при железнодорожной станции','поселок станции']\n",
    "#список со значениями которые надо заменить \n",
    "for name in replace_name:\n",
    "    data['locality_name']=data['locality_name'].str.replace(name,'поселок')\n",
    "\n"
   ]
  },
  {
   "cell_type": "code",
   "execution_count": 21,
   "id": "d327df0e",
   "metadata": {},
   "outputs": [
    {
     "name": "stdout",
     "output_type": "stream",
     "text": [
      "Количество уникальных названий после 332\n"
     ]
    }
   ],
   "source": [
    "set(data['locality_name'].unique())\n",
    "print('Количество уникальных названий после',data['locality_name'].nunique())"
   ]
  },
  {
   "cell_type": "markdown",
   "id": "9c9d8872",
   "metadata": {},
   "source": [
    "Столбец last_price- цена последнего обновления "
   ]
  },
  {
   "cell_type": "code",
   "execution_count": 22,
   "id": "b1ab4960",
   "metadata": {},
   "outputs": [
    {
     "data": {
      "text/plain": [
       "12190"
      ]
     },
     "execution_count": 22,
     "metadata": {},
     "output_type": "execute_result"
    }
   ],
   "source": [
    "data['last_price'].min()# Минимальная цена недвижимости кажеться неправдоподобной "
   ]
  },
  {
   "cell_type": "code",
   "execution_count": 23,
   "id": "8ec838e1",
   "metadata": {},
   "outputs": [
    {
     "data": {
      "text/html": [
       "<div>\n",
       "<style scoped>\n",
       "    .dataframe tbody tr th:only-of-type {\n",
       "        vertical-align: middle;\n",
       "    }\n",
       "\n",
       "    .dataframe tbody tr th {\n",
       "        vertical-align: top;\n",
       "    }\n",
       "\n",
       "    .dataframe thead th {\n",
       "        text-align: right;\n",
       "    }\n",
       "</style>\n",
       "<table border=\"1\" class=\"dataframe\">\n",
       "  <thead>\n",
       "    <tr style=\"text-align: right;\">\n",
       "      <th></th>\n",
       "      <th>total_images</th>\n",
       "      <th>last_price</th>\n",
       "      <th>total_area</th>\n",
       "      <th>first_day_exposition</th>\n",
       "      <th>rooms</th>\n",
       "      <th>ceiling_height</th>\n",
       "      <th>floors_total</th>\n",
       "      <th>living_area</th>\n",
       "      <th>floor</th>\n",
       "      <th>is_apartment</th>\n",
       "      <th>...</th>\n",
       "      <th>balcony</th>\n",
       "      <th>locality_name</th>\n",
       "      <th>airports_nearest</th>\n",
       "      <th>city_centers_nearest</th>\n",
       "      <th>parks_around_3000</th>\n",
       "      <th>parks_nearest</th>\n",
       "      <th>ponds_around_3000</th>\n",
       "      <th>ponds_nearest</th>\n",
       "      <th>days_exposition</th>\n",
       "      <th>year</th>\n",
       "    </tr>\n",
       "  </thead>\n",
       "  <tbody>\n",
       "    <tr>\n",
       "      <th>8793</th>\n",
       "      <td>7</td>\n",
       "      <td>12190</td>\n",
       "      <td>109.0</td>\n",
       "      <td>2019-03-20</td>\n",
       "      <td>2</td>\n",
       "      <td>2.75</td>\n",
       "      <td>25</td>\n",
       "      <td>32.0</td>\n",
       "      <td>25</td>\n",
       "      <td>True</td>\n",
       "      <td>...</td>\n",
       "      <td>0</td>\n",
       "      <td>Санкт-Петербург</td>\n",
       "      <td>36421.0</td>\n",
       "      <td>9176.0</td>\n",
       "      <td>1</td>\n",
       "      <td>805.0</td>\n",
       "      <td>0</td>\n",
       "      <td>NaN</td>\n",
       "      <td>8.0</td>\n",
       "      <td>2019</td>\n",
       "    </tr>\n",
       "  </tbody>\n",
       "</table>\n",
       "<p>1 rows × 23 columns</p>\n",
       "</div>"
      ],
      "text/plain": [
       "      total_images  last_price  total_area first_day_exposition  rooms  \\\n",
       "8793             7       12190       109.0           2019-03-20      2   \n",
       "\n",
       "      ceiling_height  floors_total  living_area  floor  is_apartment  ...  \\\n",
       "8793            2.75            25         32.0     25          True  ...   \n",
       "\n",
       "      balcony    locality_name  airports_nearest  city_centers_nearest  \\\n",
       "8793        0  Санкт-Петербург           36421.0                9176.0   \n",
       "\n",
       "     parks_around_3000  parks_nearest  ponds_around_3000  ponds_nearest  \\\n",
       "8793                 1          805.0                  0            NaN   \n",
       "\n",
       "      days_exposition  year  \n",
       "8793              8.0  2019  \n",
       "\n",
       "[1 rows x 23 columns]"
      ]
     },
     "execution_count": 23,
     "metadata": {},
     "output_type": "execute_result"
    }
   ],
   "source": [
    "data[data['last_price'] <= 100000] #возьмем как минимальную допустимую цену жилья 100000 и проверим нет ли цен ниже данного уровня \n",
    "#выявлена строка с некорректно заполненным значением цены "
   ]
  },
  {
   "cell_type": "code",
   "execution_count": 24,
   "id": "45502a9f",
   "metadata": {},
   "outputs": [
    {
     "data": {
      "text/plain": [
       "rooms\n",
       "0       2700000\n",
       "1       3600000\n",
       "2       4770169\n",
       "3       6200000\n",
       "4       9000000\n",
       "5      14000000\n",
       "6      19000000\n",
       "7      24900000\n",
       "8      23095000\n",
       "9      23750000\n",
       "10     23000000\n",
       "11     25250000\n",
       "12    420000000\n",
       "14     26829500\n",
       "15     65000000\n",
       "16     28500000\n",
       "19     32250000\n",
       "Name: last_price, dtype: int64"
      ]
     },
     "execution_count": 24,
     "metadata": {},
     "output_type": "execute_result"
    }
   ],
   "source": [
    "data.groupby('rooms')['last_price'].median()#посмотрим примерные медианные цены в соответствии с количеством комнат "
   ]
  },
  {
   "cell_type": "code",
   "execution_count": 25,
   "id": "92afd89e",
   "metadata": {},
   "outputs": [],
   "source": [
    "data.loc[8793,'last_price']=1219000 #Скорpектируем данное значение "
   ]
  },
  {
   "cell_type": "code",
   "execution_count": 26,
   "id": "f43a8c7b",
   "metadata": {},
   "outputs": [
    {
     "data": {
      "text/html": [
       "<div>\n",
       "<style scoped>\n",
       "    .dataframe tbody tr th:only-of-type {\n",
       "        vertical-align: middle;\n",
       "    }\n",
       "\n",
       "    .dataframe tbody tr th {\n",
       "        vertical-align: top;\n",
       "    }\n",
       "\n",
       "    .dataframe thead th {\n",
       "        text-align: right;\n",
       "    }\n",
       "</style>\n",
       "<table border=\"1\" class=\"dataframe\">\n",
       "  <thead>\n",
       "    <tr style=\"text-align: right;\">\n",
       "      <th></th>\n",
       "      <th>total_images</th>\n",
       "      <th>last_price</th>\n",
       "      <th>total_area</th>\n",
       "      <th>first_day_exposition</th>\n",
       "      <th>rooms</th>\n",
       "      <th>ceiling_height</th>\n",
       "      <th>floors_total</th>\n",
       "      <th>living_area</th>\n",
       "      <th>floor</th>\n",
       "      <th>is_apartment</th>\n",
       "      <th>...</th>\n",
       "      <th>balcony</th>\n",
       "      <th>locality_name</th>\n",
       "      <th>airports_nearest</th>\n",
       "      <th>city_centers_nearest</th>\n",
       "      <th>parks_around_3000</th>\n",
       "      <th>parks_nearest</th>\n",
       "      <th>ponds_around_3000</th>\n",
       "      <th>ponds_nearest</th>\n",
       "      <th>days_exposition</th>\n",
       "      <th>year</th>\n",
       "    </tr>\n",
       "  </thead>\n",
       "  <tbody>\n",
       "  </tbody>\n",
       "</table>\n",
       "<p>0 rows × 23 columns</p>\n",
       "</div>"
      ],
      "text/plain": [
       "Empty DataFrame\n",
       "Columns: [total_images, last_price, total_area, first_day_exposition, rooms, ceiling_height, floors_total, living_area, floor, is_apartment, studio, open_plan, kitchen_area, balcony, locality_name, airports_nearest, city_centers_nearest, parks_around_3000, parks_nearest, ponds_around_3000, ponds_nearest, days_exposition, year]\n",
       "Index: []\n",
       "\n",
       "[0 rows x 23 columns]"
      ]
     },
     "execution_count": 26,
     "metadata": {},
     "output_type": "execute_result"
    }
   ],
   "source": [
    "data[data['last_price'] <= 100000]"
   ]
  },
  {
   "cell_type": "markdown",
   "id": "fe2b26ed",
   "metadata": {},
   "source": [
    "Столбец ceiling_height-данные о высоте потолка "
   ]
  },
  {
   "cell_type": "code",
   "execution_count": 27,
   "id": "ad081fb4",
   "metadata": {},
   "outputs": [
    {
     "data": {
      "text/plain": [
       "count    14490.000000\n",
       "mean         2.771287\n",
       "std          1.261593\n",
       "min          1.000000\n",
       "25%          2.520000\n",
       "50%          2.650000\n",
       "75%          2.800000\n",
       "max        100.000000\n",
       "Name: ceiling_height, dtype: float64"
      ]
     },
     "execution_count": 27,
     "metadata": {},
     "output_type": "execute_result"
    }
   ],
   "source": [
    "data['ceiling_height'].describe()"
   ]
  },
  {
   "cell_type": "markdown",
   "id": "cdcd6f1a",
   "metadata": {},
   "source": [
    "Явная ошибка в данных высота потолка не может быть 100,1.Среднее значение близко к реальности."
   ]
  },
  {
   "cell_type": "code",
   "execution_count": 28,
   "id": "0c2aa3c6",
   "metadata": {},
   "outputs": [
    {
     "data": {
      "text/plain": [
       "2.7712870945479646"
      ]
     },
     "execution_count": 28,
     "metadata": {},
     "output_type": "execute_result"
    }
   ],
   "source": [
    "data['ceiling_height'].mean()"
   ]
  },
  {
   "cell_type": "code",
   "execution_count": 29,
   "id": "21e26884",
   "metadata": {},
   "outputs": [
    {
     "data": {
      "text/plain": [
       "2.65"
      ]
     },
     "execution_count": 29,
     "metadata": {},
     "output_type": "execute_result"
    }
   ],
   "source": [
    "data['ceiling_height'].median()"
   ]
  },
  {
   "cell_type": "markdown",
   "id": "c29cfa6d",
   "metadata": {},
   "source": [
    "И медиальное и среднее значение высоты потолков близко к реальности ,но так как в данных имеются аномальные данные для дальнейших вычеслений возьмем медиану."
   ]
  },
  {
   "cell_type": "code",
   "execution_count": 30,
   "id": "6689fca9",
   "metadata": {},
   "outputs": [
    {
     "data": {
      "text/plain": [
       "3474      8.0\n",
       "17442     8.0\n",
       "15743     8.0\n",
       "5863      8.3\n",
       "22309    10.3\n",
       "15061    14.0\n",
       "17496    20.0\n",
       "20507    22.6\n",
       "5076     24.0\n",
       "355      25.0\n",
       "18545    25.0\n",
       "11285    25.0\n",
       "14382    25.0\n",
       "9379     25.0\n",
       "6246     25.0\n",
       "Name: ceiling_height, dtype: float64"
      ]
     },
     "execution_count": 30,
     "metadata": {},
     "output_type": "execute_result"
    }
   ],
   "source": [
    "data[data['ceiling_height']>7]['ceiling_height'].sort_values().head(15)#получаем список маловероятных значений высоты потолка ,видим что в некоторых случаях явная опечатка а где-то просто не правильно проставлена \".\""
   ]
  },
  {
   "cell_type": "code",
   "execution_count": 31,
   "id": "19e51785",
   "metadata": {},
   "outputs": [],
   "source": [
    "data.loc[data['ceiling_height'] > 7,'ceiling_height']=data['ceiling_height'].median()  #заменяем аномальные данные медианным значением"
   ]
  },
  {
   "cell_type": "code",
   "execution_count": 32,
   "id": "521d3937",
   "metadata": {},
   "outputs": [
    {
     "data": {
      "text/plain": [
       "Series([], Name: ceiling_height, dtype: float64)"
      ]
     },
     "execution_count": 32,
     "metadata": {},
     "output_type": "execute_result"
    }
   ],
   "source": [
    "data[data['ceiling_height']>7]['ceiling_height'].sort_values().head(15)"
   ]
  },
  {
   "cell_type": "markdown",
   "id": "0798de44",
   "metadata": {},
   "source": [
    "Столбец total_area-данные об общей площади"
   ]
  },
  {
   "cell_type": "markdown",
   "id": "fcb46498",
   "metadata": {},
   "source": []
  },
  {
   "cell_type": "code",
   "execution_count": 33,
   "id": "790c0763",
   "metadata": {},
   "outputs": [
    {
     "data": {
      "text/plain": [
       "count    23650.000000\n",
       "mean        60.329069\n",
       "std         35.661808\n",
       "min         12.000000\n",
       "25%         40.000000\n",
       "50%         52.000000\n",
       "75%         69.700000\n",
       "max        900.000000\n",
       "Name: total_area, dtype: float64"
      ]
     },
     "execution_count": 33,
     "metadata": {},
     "output_type": "execute_result"
    }
   ],
   "source": [
    "data['total_area'].describe()"
   ]
  },
  {
   "cell_type": "markdown",
   "id": "cfaa0741",
   "metadata": {},
   "source": [
    "Аномальных значений в данном столбце не выявлено."
   ]
  },
  {
   "cell_type": "markdown",
   "id": "c2267137",
   "metadata": {},
   "source": [
    "Столбец 'rooms' количество комнат"
   ]
  },
  {
   "cell_type": "code",
   "execution_count": 34,
   "id": "533e7b2a",
   "metadata": {},
   "outputs": [
    {
     "data": {
      "text/plain": [
       "1     8036\n",
       "2     7924\n",
       "3     5797\n",
       "4     1175\n",
       "5      326\n",
       "0      197\n",
       "6      105\n",
       "7       59\n",
       "8       12\n",
       "9        8\n",
       "10       3\n",
       "11       2\n",
       "14       2\n",
       "19       1\n",
       "16       1\n",
       "12       1\n",
       "15       1\n",
       "Name: rooms, dtype: int64"
      ]
     },
     "execution_count": 34,
     "metadata": {},
     "output_type": "execute_result"
    }
   ],
   "source": [
    "data['rooms'].value_counts()"
   ]
  },
  {
   "cell_type": "code",
   "execution_count": 35,
   "id": "cfe09fee",
   "metadata": {},
   "outputs": [
    {
     "data": {
      "text/plain": [
       "count    23650.000000\n",
       "mean         2.070106\n",
       "std          1.078620\n",
       "min          0.000000\n",
       "25%          1.000000\n",
       "50%          2.000000\n",
       "75%          3.000000\n",
       "max         19.000000\n",
       "Name: rooms, dtype: float64"
      ]
     },
     "execution_count": 35,
     "metadata": {},
     "output_type": "execute_result"
    }
   ],
   "source": [
    "data['rooms'].describe()#в столбце есть значения 0"
   ]
  },
  {
   "cell_type": "code",
   "execution_count": 36,
   "id": "c0c6ad91",
   "metadata": {},
   "outputs": [
    {
     "data": {
      "text/plain": [
       "197"
      ]
     },
     "execution_count": 36,
     "metadata": {},
     "output_type": "execute_result"
    }
   ],
   "source": [
    "data[data['rooms']==0]['rooms'].count()#посчитаем количество таких квартир ,оно достотачно существенное"
   ]
  },
  {
   "cell_type": "code",
   "execution_count": 37,
   "id": "a440179e",
   "metadata": {},
   "outputs": [
    {
     "data": {
      "text/plain": [
       "rooms\n",
       "0      29.279746\n",
       "1      37.627459\n",
       "2      55.842278\n",
       "3      77.748020\n",
       "4     107.681787\n",
       "5     161.474816\n",
       "6     201.537619\n",
       "7     265.325424\n",
       "8     259.233333\n",
       "9     305.975000\n",
       "10    259.566667\n",
       "11    188.900000\n",
       "12    900.000000\n",
       "14    304.200000\n",
       "15    590.000000\n",
       "16    270.000000\n",
       "19    374.600000\n",
       "Name: total_area, dtype: float64"
      ]
     },
     "execution_count": 37,
     "metadata": {},
     "output_type": "execute_result"
    }
   ],
   "source": [
    "data.groupby('rooms')['total_area'].mean() #сгруппирум данные по количеству комнат со средней площадью,\n",
    "#видим что вероятнее нулевое значение относиться к студиям,приравняем их к однокомнатным квартирам ,так как все таки комната там есть хоть и совмещенна с кухней "
   ]
  },
  {
   "cell_type": "code",
   "execution_count": 38,
   "id": "a64ad9c8",
   "metadata": {},
   "outputs": [],
   "source": [
    "data.loc[data['rooms'] == 0,'rooms']=1"
   ]
  },
  {
   "cell_type": "code",
   "execution_count": 39,
   "id": "15ec8161",
   "metadata": {},
   "outputs": [
    {
     "data": {
      "text/plain": [
       "0"
      ]
     },
     "execution_count": 39,
     "metadata": {},
     "output_type": "execute_result"
    }
   ],
   "source": [
    "data[data['rooms']==0]['rooms'].count()"
   ]
  },
  {
   "cell_type": "markdown",
   "id": "108b96c2",
   "metadata": {},
   "source": [
    "Столбец living_area -жилая площадь"
   ]
  },
  {
   "cell_type": "code",
   "execution_count": 40,
   "id": "4b4a4fc7",
   "metadata": {},
   "outputs": [
    {
     "data": {
      "text/plain": [
       "count    21752.000000\n",
       "mean        34.448356\n",
       "std         22.037664\n",
       "min          2.000000\n",
       "25%         18.600000\n",
       "50%         30.000000\n",
       "75%         42.300000\n",
       "max        409.700000\n",
       "Name: living_area, dtype: float64"
      ]
     },
     "execution_count": 40,
     "metadata": {},
     "output_type": "execute_result"
    }
   ],
   "source": [
    "data['living_area'].describe()"
   ]
  },
  {
   "cell_type": "markdown",
   "id": "168e5fc4",
   "metadata": {},
   "source": [
    "Минимальное значение неправдоподобно ,выясним есть ли еще такие аномальные значения .Так как жилая площадь – это суммарная величина жилых комнат,вероятно значение  меньше 5 метров невозможно даже для студии. "
   ]
  },
  {
   "cell_type": "code",
   "execution_count": 41,
   "id": "51ed9f6f",
   "metadata": {},
   "outputs": [
    {
     "data": {
      "text/plain": [
       "13915    2.0\n",
       "21758    2.0\n",
       "3242     3.0\n",
       "23574    3.0\n",
       "Name: living_area, dtype: float64"
      ]
     },
     "execution_count": 41,
     "metadata": {},
     "output_type": "execute_result"
    }
   ],
   "source": [
    "data[data['living_area']<5]['living_area'].sort_values().head(15)"
   ]
  },
  {
   "cell_type": "markdown",
   "id": "1a987f0e",
   "metadata": {},
   "source": [
    "Таких значений не много не будем их трогать.Проверим правило при котором жилая площадь не может превышать общую."
   ]
  },
  {
   "cell_type": "code",
   "execution_count": 42,
   "id": "201c621d",
   "metadata": {},
   "outputs": [
    {
     "data": {
      "text/plain": [
       "0"
      ]
     },
     "execution_count": 42,
     "metadata": {},
     "output_type": "execute_result"
    }
   ],
   "source": [
    "data.loc[data['living_area']>data['total_area']]['living_area'].count()"
   ]
  },
  {
   "cell_type": "markdown",
   "id": "da0cd9e2",
   "metadata": {},
   "source": [
    "Таких квартир нет.В данном столбце имеются пропуски заполним их средней площадью соответствующей количеству комнат."
   ]
  },
  {
   "cell_type": "code",
   "execution_count": 43,
   "id": "aa9b3b97",
   "metadata": {},
   "outputs": [],
   "source": [
    "data['living_area']=data['living_area'].fillna(data.groupby('rooms')['living_area'].mean())"
   ]
  },
  {
   "cell_type": "markdown",
   "id": "ceaebe23",
   "metadata": {},
   "source": [
    "Столбец kitchen_area -площадь кухни "
   ]
  },
  {
   "cell_type": "code",
   "execution_count": 44,
   "id": "c773c0d8",
   "metadata": {},
   "outputs": [
    {
     "data": {
      "text/plain": [
       "count    21381.000000\n",
       "mean        10.566403\n",
       "std          5.901753\n",
       "min          1.300000\n",
       "25%          7.000000\n",
       "50%          9.100000\n",
       "75%         12.000000\n",
       "max        112.000000\n",
       "Name: kitchen_area, dtype: float64"
      ]
     },
     "execution_count": 44,
     "metadata": {},
     "output_type": "execute_result"
    }
   ],
   "source": [
    "data['kitchen_area'].describe()"
   ]
  },
  {
   "cell_type": "markdown",
   "id": "5145997c",
   "metadata": {},
   "source": [
    "Минимальное значение явно не соответсвует действительности ,вряд ли существуют такие кухни."
   ]
  },
  {
   "cell_type": "code",
   "execution_count": 45,
   "id": "322f1dd7",
   "metadata": {},
   "outputs": [
    {
     "data": {
      "text/plain": [
       "105"
      ]
     },
     "execution_count": 45,
     "metadata": {},
     "output_type": "execute_result"
    }
   ],
   "source": [
    "data[data['kitchen_area']<5]['kitchen_area'].count()"
   ]
  },
  {
   "cell_type": "markdown",
   "id": "addaba0d",
   "metadata": {},
   "source": [
    "Таких значений достаточно много заменим их на соответсвующие средние значения учитывая количество комнат"
   ]
  },
  {
   "cell_type": "code",
   "execution_count": 46,
   "id": "2f1825ed",
   "metadata": {},
   "outputs": [],
   "source": [
    "data.loc[data['kitchen_area']<5,'kitchen_area']=data.groupby('rooms')['kitchen_area'].mean()"
   ]
  },
  {
   "cell_type": "markdown",
   "id": "fbbf3a8b",
   "metadata": {},
   "source": [
    "Аналогично заполним пропуски в данном столбце"
   ]
  },
  {
   "cell_type": "code",
   "execution_count": 47,
   "id": "483dc716",
   "metadata": {},
   "outputs": [],
   "source": [
    "data['kitchen_area']=data['kitchen_area'].fillna(data.groupby('rooms')['kitchen_area'].mean())"
   ]
  },
  {
   "cell_type": "markdown",
   "id": "e71dca24",
   "metadata": {},
   "source": [
    "Добавим новые столбцы в таблицу"
   ]
  },
  {
   "cell_type": "code",
   "execution_count": 48,
   "id": "f36a4075",
   "metadata": {},
   "outputs": [],
   "source": [
    "data['price_one_meter']=data['last_price']/data['total_area']#цена одного квадратного метра\n",
    "data['price_one_meter']=data['price_one_meter'].astype('int')#переводим значение в целочисленное число\n",
    "data['day']=data['first_day_exposition'].dt.weekday#день недели публикации объявления (0 — понедельник, 1 — вторник и так далее);\n",
    "data['month']=data['first_day_exposition'].dt.month#месяц публикации объявления;\n",
    "\n",
    "# функция кoторая поможет нам создать столбец с типом этажа\n",
    "def floors_type(row):\n",
    "    if row['floor'] == 1:\n",
    "        return 'первый'\n",
    "    elif row['floor'] == row['floors_total']:\n",
    "        return 'последний'\n",
    "    else:\n",
    "        return 'другой'\n",
    "\n",
    "\n",
    "data['floor_type'] = data.apply(floors_type, axis=1)\n",
    "\n",
    "data['city_centers_nearest_km']=round(data['city_centers_nearest']/1000)  #расстояние до центра города в километрах (переведем из м в км и округлите до целых значений)"
   ]
  },
  {
   "cell_type": "markdown",
   "id": "e8083c7b",
   "metadata": {},
   "source": [
    "\n",
    "Изучим параметры объектов:\n",
    "общая площадь;\n",
    "жилая площадь;\n",
    "площадь кухни;\n",
    "цена объекта;\n",
    "количество комнат;\n",
    "высота потолков;\n",
    "этаж квартиры;\n",
    "тип этажа квартиры («первый», «последний», «другой»);\n",
    "общее количество этажей в доме;\n",
    "расстояние до центра города в метрах;\n",
    "расстояние до ближайшего аэропорта;\n",
    "расстояние до ближайшего парка;\n",
    "день и месяц публикации объявления.\n"
   ]
  },
  {
   "cell_type": "code",
   "execution_count": 49,
   "id": "d8ef292a",
   "metadata": {},
   "outputs": [
    {
     "data": {
      "image/png": "[encoded data removed]",
      "text/plain": [
       "<Figure size 360x216 with 1 Axes>"
      ]
     },
     "metadata": {
      "needs_background": "light"
     },
     "output_type": "display_data"
    }
   ],
   "source": [
    "import matplotlib.pyplot as plt\n",
    "data['total_area'].hist(bins=30, range=(10, 500),figsize=(5,3)).set(title='Total area', \n",
    "xlabel='Total area', ylabel='Quantity')\n",
    "\n",
    "plt.show()\n"
   ]
  },
  {
   "cell_type": "markdown",
   "id": "e0b051dd",
   "metadata": {},
   "source": [
    "По общей площади- основную массу обьявлений представляют квартиры с площадью от 20 до 100 кв.метров."
   ]
  },
  {
   "cell_type": "code",
   "execution_count": 50,
   "id": "f7d842d7",
   "metadata": {},
   "outputs": [
    {
     "data": {
      "image/png": "[encoded data removed]",
      "text/plain": [
       "<Figure size 360x216 with 1 Axes>"
      ]
     },
     "metadata": {
      "needs_background": "light"
     },
     "output_type": "display_data"
    }
   ],
   "source": [
    "data['living_area'].hist(bins=30, range=(10, 300),figsize=(5,3)).set(title='living area', \n",
    "xlabel='living area', ylabel='Quantity')\n",
    "\n",
    "plt.show()"
   ]
  },
  {
   "cell_type": "markdown",
   "id": "08168ece",
   "metadata": {},
   "source": [
    "Большинство квартир имеют жилую площадь от 20-60 кв.метров,квартиры с жилой площадью более 100 встречаются редко"
   ]
  },
  {
   "cell_type": "code",
   "execution_count": 51,
   "id": "4624e602",
   "metadata": {},
   "outputs": [
    {
     "data": {
      "image/png": "[encoded data removed]",
      "text/plain": [
       "<Figure size 360x216 with 1 Axes>"
      ]
     },
     "metadata": {
      "needs_background": "light"
     },
     "output_type": "display_data"
    }
   ],
   "source": [
    "data['kitchen_area'].hist(bins=30, range=(10, 200),figsize=(5,3)).set(title='Kitchen area', \n",
    "xlabel='Kitchen area', ylabel='Quantity')\n",
    "\n",
    "plt.show()"
   ]
  },
  {
   "cell_type": "markdown",
   "id": "a22c2fe9",
   "metadata": {},
   "source": [
    "Самые распространенные варианты площади кухни от 5 до 20 кв.метров.Это мало, но можно предположить \n",
    "что большинство квартир предствленных в обьявлениях относяться к старому фонду.Квартир с кухнями более 50 кв.метров практически нет."
   ]
  },
  {
   "cell_type": "code",
   "execution_count": 52,
   "id": "a3839819",
   "metadata": {},
   "outputs": [
    {
     "data": {
      "image/png": "[encoded data removed]",
      "text/plain": [
       "<Figure size 360x216 with 1 Axes>"
      ]
     },
     "metadata": {
      "needs_background": "light"
     },
     "output_type": "display_data"
    }
   ],
   "source": [
    "data['last_price'].hist(bins=20, range=(100000,200000000),figsize=(5,3)).set(title='Last price', \n",
    "xlabel='Last price', ylabel='Quantity')\n",
    "\n",
    "plt.show()"
   ]
  },
  {
   "cell_type": "markdown",
   "id": "8468c34a",
   "metadata": {},
   "source": [
    "В основном стоимость квартир около 5 млн"
   ]
  },
  {
   "cell_type": "code",
   "execution_count": 53,
   "id": "af0388e9",
   "metadata": {},
   "outputs": [
    {
     "data": {
      "image/png": "[encoded data removed]",
      "text/plain": [
       "<Figure size 360x216 with 1 Axes>"
      ]
     },
     "metadata": {
      "needs_background": "light"
     },
     "output_type": "display_data"
    }
   ],
   "source": [
    "data['rooms'].hist(bins=20, range=(0, 20),figsize=(5,3)).set(title='rooms', \n",
    "xlabel='rooms', ylabel='Quantity')\n",
    "\n",
    "plt.show()"
   ]
  },
  {
   "cell_type": "markdown",
   "id": "ab461cd2",
   "metadata": {},
   "source": [
    "Основная масса квартир имеет от 2-5 комнат,варианты с более 5 комнатами редки."
   ]
  },
  {
   "cell_type": "code",
   "execution_count": 54,
   "id": "df8774de",
   "metadata": {},
   "outputs": [
    {
     "data": {
      "image/png": "[encoded data removed]",
      "text/plain": [
       "<Figure size 360x216 with 1 Axes>"
      ]
     },
     "metadata": {
      "needs_background": "light"
     },
     "output_type": "display_data"
    }
   ],
   "source": [
    "data['floor'].hist(bins=30, range=(0, 30),figsize=(5,3)).set(title='Floor', \n",
    "xlabel='Floor', ylabel='Quantity')\n",
    "\n",
    "plt.show()"
   ]
  },
  {
   "cell_type": "markdown",
   "id": "8f4ffcf5",
   "metadata": {},
   "source": [
    "Самые распространненные этажи квартир находяться в диапазоне от 1-10."
   ]
  },
  {
   "cell_type": "code",
   "execution_count": 55,
   "id": "4f5a14be",
   "metadata": {},
   "outputs": [
    {
     "data": {
      "image/png": "[encoded data removed]",
      "text/plain": [
       "<Figure size 360x216 with 1 Axes>"
      ]
     },
     "metadata": {
      "needs_background": "light"
     },
     "output_type": "display_data"
    }
   ],
   "source": [
    "data['floor_type'].hist(bins=30, range=(0, 3),figsize=(5,3)).set(title='Floor type', \n",
    "xlabel='Floor type', ylabel='Quantity')\n",
    "\n",
    "plt.show()"
   ]
  },
  {
   "cell_type": "markdown",
   "id": "31a5d8f1",
   "metadata": {},
   "source": [
    "Как показывает гистограмма квартир с первым и последним этажом намного меньше квартир с другими этажами которые и сооставляют основное количество"
   ]
  },
  {
   "cell_type": "code",
   "execution_count": 56,
   "id": "c1713dd6",
   "metadata": {},
   "outputs": [
    {
     "data": {
      "image/png": "[encoded data removed]",
      "text/plain": [
       "<Figure size 360x216 with 1 Axes>"
      ]
     },
     "metadata": {
      "needs_background": "light"
     },
     "output_type": "display_data"
    }
   ],
   "source": [
    "data['floors_total'].hist(bins=30, range=(0, 50),figsize=(5,3)).set(title='floors total', \n",
    "xlabel='floors total', ylabel='Quantity')\n",
    "\n",
    "plt.show()"
   ]
  },
  {
   "cell_type": "markdown",
   "id": "1dcbaf0d",
   "metadata": {},
   "source": [
    "В обьявлениях в основном представленны квартиры в 5 и 9 ти этажных зданиях,что естественно для построек 1990-2000 годов,\n",
    "меньне но все же достаточно часто встречаются дома менее 5 этажей и более 9.Здания с этажностью более 30 встречаються редко"
   ]
  },
  {
   "cell_type": "code",
   "execution_count": 57,
   "id": "46eef932",
   "metadata": {},
   "outputs": [
    {
     "data": {
      "image/png": "[encoded data removed]",
      "text/plain": [
       "<Figure size 360x216 with 1 Axes>"
      ]
     },
     "metadata": {
      "needs_background": "light"
     },
     "output_type": "display_data"
    }
   ],
   "source": [
    "data['city_centers_nearest_km'].hist(bins=30,figsize=(5,3)).set(title='city centers nearest', \n",
    "xlabel='city centers nearest', ylabel='Quantity')\n",
    "\n",
    "plt.show()"
   ]
  },
  {
   "cell_type": "markdown",
   "id": "6a4749af",
   "metadata": {},
   "source": [
    "В основном расстояние до центра города состовляет от 10-20 км."
   ]
  },
  {
   "cell_type": "code",
   "execution_count": 58,
   "id": "68c76a6a",
   "metadata": {},
   "outputs": [
    {
     "data": {
      "image/png": "[encoded data removed]",
      "text/plain": [
       "<Figure size 360x216 with 1 Axes>"
      ]
     },
     "metadata": {
      "needs_background": "light"
     },
     "output_type": "display_data"
    }
   ],
   "source": [
    "(data['airports_nearest']/1000).hist(bins=30,figsize=(5,3)).set(title='airports nearest', \n",
    "xlabel='airports nearest', ylabel='Quantity')\n",
    "\n",
    "plt.show()"
   ]
  },
  {
   "cell_type": "markdown",
   "id": "c20047b0",
   "metadata": {},
   "source": [
    "В основном расстояние до аэропорта состовляет от 10-55 км."
   ]
  },
  {
   "cell_type": "code",
   "execution_count": 59,
   "id": "75db9d1e",
   "metadata": {},
   "outputs": [
    {
     "data": {
      "image/png": "[encoded data removed]",
      "text/plain": [
       "<Figure size 360x216 with 1 Axes>"
      ]
     },
     "metadata": {
      "needs_background": "light"
     },
     "output_type": "display_data"
    }
   ],
   "source": [
    "data['parks_nearest'].hist(bins=30,figsize=(5,3)).set(title='parks nearest', \n",
    "xlabel='parks nearest', ylabel='Quantity')\n",
    "\n",
    "plt.show()"
   ]
  },
  {
   "cell_type": "markdown",
   "id": "0fa04374",
   "metadata": {},
   "source": [
    "В основном расстояние до ближайшего парка состовляет до 1 км.В большинстве обьявлений парк достаточно близко на растоянии 500 метров."
   ]
  },
  {
   "cell_type": "code",
   "execution_count": 60,
   "id": "e84cffb8",
   "metadata": {},
   "outputs": [
    {
     "data": {
      "image/png": "[encoded data removed]",
      "text/plain": [
       "<Figure size 360x216 with 1 Axes>"
      ]
     },
     "metadata": {
      "needs_background": "light"
     },
     "output_type": "display_data"
    }
   ],
   "source": [
    "data['day'].hist(bins=30, range=(0, 7),figsize=(5,3)).set(title='Day of exposition', \n",
    "xlabel='Day of exposition', ylabel='Quantity')\n",
    "plt.show()"
   ]
  },
  {
   "cell_type": "markdown",
   "id": "0bc51914",
   "metadata": {},
   "source": [
    "Основная масса обьявлений выла опубликована в будние дни.На выходные активность продавцов видимо снижалась."
   ]
  },
  {
   "cell_type": "code",
   "execution_count": 61,
   "id": "7a4f73cd",
   "metadata": {},
   "outputs": [
    {
     "data": {
      "image/png": "[encoded data removed]",
      "text/plain": [
       "<Figure size 360x216 with 1 Axes>"
      ]
     },
     "metadata": {
      "needs_background": "light"
     },
     "output_type": "display_data"
    }
   ],
   "source": [
    "data['month'].hist(bins=30,figsize=(5,3)).set(title='Month of exposition', \n",
    "xlabel='Month of exposition', ylabel='Quantity')\n",
    "plt.show()"
   ]
  },
  {
   "cell_type": "markdown",
   "id": "0b24b65d",
   "metadata": {},
   "source": [
    "По данным заметна выраженная активность продавцов с февраля по апрель,с сентября по ноябрь.Самая большая активность проявляется в феврале,марте.\n",
    "Менее всего обьявлений было опубликовано в январе,мае и декабре"
   ]
  },
  {
   "cell_type": "code",
   "execution_count": 62,
   "id": "e3b267ea",
   "metadata": {},
   "outputs": [
    {
     "name": "stdout",
     "output_type": "stream",
     "text": [
      "Среднее количество дней от публикации до продажи 180.7531998045921\n",
      "Медианное значение 95.0\n"
     ]
    }
   ],
   "source": [
    "print('Среднее количество дней от публикации до продажи',data['days_exposition'].mean())\n",
    "print('Медианное значение',data['days_exposition'].median())\n"
   ]
  },
  {
   "cell_type": "code",
   "execution_count": 63,
   "id": "b82e3769",
   "metadata": {},
   "outputs": [
    {
     "data": {
      "image/png": "[encoded data removed]",
      "text/plain": [
       "<Figure size 360x216 with 1 Axes>"
      ]
     },
     "metadata": {
      "needs_background": "light"
     },
     "output_type": "display_data"
    }
   ],
   "source": [
    "data['days_exposition'].hist(bins=30, range=(0, 200),figsize=(5,3))\n",
    "plt.show()"
   ]
  },
  {
   "cell_type": "code",
   "execution_count": null,
   "id": "ad527c03",
   "metadata": {},
   "outputs": [],
   "source": []
  },
  {
   "cell_type": "markdown",
   "id": "52590a2b",
   "metadata": {},
   "source": [
    "Выявлены два выделяющихся пика -примерно на 45 и 60 день публикации и небольшой пик на 90й день.Возможно данные высокие показатели связаны с платным периодом публикации обьявлений либо данные периоды определены как стандартная длительность , по истечению которой, обьявления снимались с публикации автоматически.Данные выбросы желательно заменить на медианное значение."
   ]
  },
  {
   "cell_type": "code",
   "execution_count": 64,
   "id": "81a1c640",
   "metadata": {},
   "outputs": [
    {
     "data": {
      "text/plain": [
       "0"
      ]
     },
     "execution_count": 64,
     "metadata": {},
     "output_type": "execute_result"
    }
   ],
   "source": [
    "data.loc[data['days_exposition']==45,'days_exposition'].count()"
   ]
  },
  {
   "cell_type": "code",
   "execution_count": 65,
   "id": "3280a36d",
   "metadata": {},
   "outputs": [],
   "source": [
    "data.loc[data['days_exposition']==45,'days_exposition']=data['days_exposition'].mean()\n",
    "data.loc[data['days_exposition']==60,'days_exposition']=data['days_exposition'].mean()"
   ]
  },
  {
   "cell_type": "code",
   "execution_count": 66,
   "id": "92b2989c",
   "metadata": {},
   "outputs": [
    {
     "data": {
      "image/png": "[encoded data removed]",
      "text/plain": [
       "<Figure size 360x216 with 1 Axes>"
      ]
     },
     "metadata": {
      "needs_background": "light"
     },
     "output_type": "display_data"
    }
   ],
   "source": [
    "data['days_exposition'].hist(bins=30, range=(0, 200),figsize=(5,3))\n",
    "plt.show()"
   ]
  },
  {
   "cell_type": "markdown",
   "id": "1784cdae",
   "metadata": {},
   "source": [
    "Количество таких квартир проданных либо снятых с публикации достаточно велико.Возможно данный выброс связан с технической ошибкой.\n",
    "Анализ показал что в среднем квартиры продаються за 180 дней,медианое значение 124 дня.По гистограмме видно ,что в основном обьявление активно до 100 дней.Быстрыми прдажами можно считать те которые оформлены за 50 дней ,долгими 200 дней. "
   ]
  },
  {
   "cell_type": "markdown",
   "id": "859a93f7",
   "metadata": {},
   "source": [
    "\n",
    "Попробуем выяснить , зависит ли цена от:\n",
    "общей площади;\n",
    "жилой площади;\n",
    "площади кухни;\n",
    "количества комнат;\n",
    "этажа, на котором расположена квартира (первый, последний, другой);\n",
    "даты размещения (день недели, месяц, год).\n"
   ]
  },
  {
   "cell_type": "code",
   "execution_count": 67,
   "id": "ebc7a8ab",
   "metadata": {},
   "outputs": [
    {
     "name": "stdout",
     "output_type": "stream",
     "text": [
      "Корреляция : 0.6537509531847531\n"
     ]
    },
    {
     "data": {
      "image/png": "[encoded data removed]",
      "text/plain": [
       "<Figure size 216x216 with 1 Axes>"
      ]
     },
     "metadata": {
      "needs_background": "light"
     },
     "output_type": "display_data"
    }
   ],
   "source": [
    "data.pivot_table(index='total_area', values='last_price').plot(grid=True, style='o', figsize=(3, 3))\n",
    "print('Корреляция :',data['total_area'].corr(data['last_price']))\n"
   ]
  },
  {
   "cell_type": "markdown",
   "id": "5f5d19b4",
   "metadata": {},
   "source": [
    "Увеличение площади сопровождаеться увеличением цены,что подтверждает корреляция.\n"
   ]
  },
  {
   "cell_type": "code",
   "execution_count": 68,
   "id": "78507bcb",
   "metadata": {},
   "outputs": [
    {
     "name": "stdout",
     "output_type": "stream",
     "text": [
      "Корреляция : 0.5658713991730319\n"
     ]
    },
    {
     "data": {
      "image/png": "[encoded data removed]",
      "text/plain": [
       "<Figure size 216x216 with 1 Axes>"
      ]
     },
     "metadata": {
      "needs_background": "light"
     },
     "output_type": "display_data"
    }
   ],
   "source": [
    "data.pivot_table(index='living_area', values='last_price').plot(grid=True, style='o', figsize=(3, 3))\n",
    "print('Корреляция :',data['living_area'].corr(data['last_price']))"
   ]
  },
  {
   "cell_type": "markdown",
   "id": "7ce7ab5c",
   "metadata": {},
   "source": [
    "Аналогичная ситуация с жилой площадью хотя зависимость цены ниже чем от общей площади"
   ]
  },
  {
   "cell_type": "code",
   "execution_count": 69,
   "id": "be369e11",
   "metadata": {},
   "outputs": [
    {
     "name": "stdout",
     "output_type": "stream",
     "text": [
      "Корреляция : 0.5198253489341657\n"
     ]
    },
    {
     "data": {
      "image/png": "[encoded data removed]",
      "text/plain": [
       "<Figure size 216x216 with 1 Axes>"
      ]
     },
     "metadata": {
      "needs_background": "light"
     },
     "output_type": "display_data"
    }
   ],
   "source": [
    "data.pivot_table(index='kitchen_area', values='last_price').plot(grid=True, style='o', figsize=(3, 3))\n",
    "print('Корреляция :',data['kitchen_area'].corr(data['last_price']))"
   ]
  },
  {
   "cell_type": "markdown",
   "id": "6bea0d07",
   "metadata": {},
   "source": [
    "Еще меньше зависимость цены от площади кухни и рост цены намного плавнее."
   ]
  },
  {
   "cell_type": "code",
   "execution_count": 70,
   "id": "8ac9d270",
   "metadata": {},
   "outputs": [
    {
     "name": "stdout",
     "output_type": "stream",
     "text": [
      "Корреляция : 0.36529173265356346\n"
     ]
    },
    {
     "data": {
      "image/png": "[encoded data removed]",
      "text/plain": [
       "<Figure size 216x216 with 1 Axes>"
      ]
     },
     "metadata": {
      "needs_background": "light"
     },
     "output_type": "display_data"
    }
   ],
   "source": [
    "data.pivot_table(index='rooms', values='last_price').plot(grid=True, style='o-', figsize=(3, 3))\n",
    "print('Корреляция :',data['rooms'].corr(data['last_price']))"
   ]
  },
  {
   "cell_type": "markdown",
   "id": "53a778d7",
   "metadata": {},
   "source": [
    "Зависимость цены от количества комнат есть но не сильная ,все-таки площадь влияет больше"
   ]
  },
  {
   "cell_type": "code",
   "execution_count": 77,
   "id": "6ba2460f",
   "metadata": {},
   "outputs": [
    {
     "data": {
      "text/plain": [
       "<AxesSubplot:xlabel='floor_type'>"
      ]
     },
     "execution_count": 77,
     "metadata": {},
     "output_type": "execute_result"
    },
    {
     "data": {
      "image/png": "[encoded data removed]",
      "text/plain": [
       "<Figure size 216x216 with 1 Axes>"
      ]
     },
     "metadata": {
      "needs_background": "light"
     },
     "output_type": "display_data"
    }
   ],
   "source": [
    "data.pivot_table(index='floor_type', values='last_price',aggfunc='median').plot(grid=True, style='o-', figsize=(3, 3))\n"
   ]
  },
  {
   "cell_type": "markdown",
   "id": "013788a4",
   "metadata": {},
   "source": [
    "Вывод: квартиры на первом этаже не столь популярны как на средних этажах соответсвенно и цена ниже"
   ]
  },
  {
   "cell_type": "code",
   "execution_count": 72,
   "id": "f6599005",
   "metadata": {},
   "outputs": [
    {
     "name": "stdout",
     "output_type": "stream",
     "text": [
      "Корреляция : 0.0016053766504083272\n"
     ]
    },
    {
     "data": {
      "image/png": "[encoded data removed]",
      "text/plain": [
       "<Figure size 216x216 with 1 Axes>"
      ]
     },
     "metadata": {
      "needs_background": "light"
     },
     "output_type": "display_data"
    }
   ],
   "source": [
    "data.pivot_table(index='day', values='last_price').plot(grid=True, style='o-', xlim=(0,6), figsize=(3,3))\n",
    "print('Корреляция :',data['day'].corr(data['last_price']))"
   ]
  },
  {
   "cell_type": "code",
   "execution_count": 73,
   "id": "07b5a295",
   "metadata": {},
   "outputs": [
    {
     "name": "stdout",
     "output_type": "stream",
     "text": [
      "Корреляция : 0.0027364737097843803\n"
     ]
    },
    {
     "data": {
      "image/png": "[encoded data removed]",
      "text/plain": [
       "<Figure size 216x216 with 1 Axes>"
      ]
     },
     "metadata": {
      "needs_background": "light"
     },
     "output_type": "display_data"
    }
   ],
   "source": [
    "data.pivot_table(index='month', values='last_price').plot(grid=True, style='o-', xlim=(1,12), figsize=(3,3))\n",
    "print('Корреляция :',data['month'].corr(data['last_price']))"
   ]
  },
  {
   "cell_type": "code",
   "execution_count": 74,
   "id": "739e6d26",
   "metadata": {},
   "outputs": [
    {
     "name": "stdout",
     "output_type": "stream",
     "text": [
      "Корреляция : -0.04291980493882523\n"
     ]
    },
    {
     "data": {
      "image/png": "[encoded data removed]",
      "text/plain": [
       "<Figure size 216x216 with 1 Axes>"
      ]
     },
     "metadata": {
      "needs_background": "light"
     },
     "output_type": "display_data"
    }
   ],
   "source": [
    "data.pivot_table(index='year', values='last_price').plot(grid=True, style='o-', figsize=(3,3))\n",
    "print('Корреляция :',data['year'].corr(data['last_price']))"
   ]
  },
  {
   "cell_type": "markdown",
   "id": "a9fec747",
   "metadata": {},
   "source": [
    "Корреляция показывает низкую зависимость цены от года публикации обьявления ,но график указывает на спад цен к 2018г. возможно это связано с ситуацией на рынке недвижимости."
   ]
  },
  {
   "cell_type": "markdown",
   "id": "0b451119",
   "metadata": {},
   "source": [
    "Посчитаем среднюю цену одного квадратного метра в 10 населённых пунктах с наибольшим числом объявлений. "
   ]
  },
  {
   "cell_type": "code",
   "execution_count": 75,
   "id": "4a473380",
   "metadata": {},
   "outputs": [
    {
     "name": "stdout",
     "output_type": "stream",
     "text": [
      "10 населённых пунктов с наибольшим числом объявлений :\n",
      "Санкт-Петербург      15721\n",
      "поселок Мурино         556\n",
      "поселок Шушары         440\n",
      "Всеволожск             398\n",
      "Пушкин                 369\n",
      "Колпино                338\n",
      "поселок Парголово      327\n",
      "Гатчина                307\n",
      "деревня Кудрово        299\n",
      "Выборг                 237\n",
      "Name: locality_name, dtype: int64\n",
      "\n",
      "\n",
      "                   price_one_meter\n",
      "locality_name                     \n",
      "Всеволожск                   68654\n",
      "Выборг                       58141\n",
      "Гатчина                      68745\n",
      "Колпино                      75424\n",
      "Пушкин                      103125\n",
      "Санкт-Петербург             114849\n",
      "деревня Кудрово              92473\n",
      "поселок Мурино               85681\n",
      "поселок Парголово            90175\n",
      "поселок Шушары               78676\n",
      "\n",
      "\n",
      "Стоимость за кв.метр max price_one_meter    114849\n",
      "dtype: int64\n",
      "\n",
      "\n",
      "Стоимость за кв.метр min price_one_meter    58141\n",
      "dtype: int64\n"
     ]
    },
    {
     "data": {
      "text/plain": [
       "<function print>"
      ]
     },
     "execution_count": 75,
     "metadata": {},
     "output_type": "execute_result"
    }
   ],
   "source": [
    "top_location=data['locality_name'].value_counts().sort_values(ascending=False).head(10)\n",
    "print('10 населённых пунктов с наибольшим числом объявлений :')\n",
    "print(top_location)\n",
    "print('\\n')\n",
    "loc_mean_price=data.query('locality_name in @top_location.index').pivot_table(index='locality_name',values='price_one_meter')\n",
    "loc_mean_price=loc_mean_price.astype('int')\n",
    " \n",
    "print(loc_mean_price)\n",
    "print('\\n')\n",
    "print('Стоимость за кв.метр max',loc_mean_price.max())\n",
    "\n",
    "print('\\n')\n",
    "print('Стоимость за кв.метр min',loc_mean_price.min())\n",
    "print"
   ]
  },
  {
   "cell_type": "code",
   "execution_count": 76,
   "id": "4c283fd2",
   "metadata": {},
   "outputs": [
    {
     "data": {
      "text/plain": [
       "<AxesSubplot:xlabel='city_centers_nearest_km', ylabel='mean_price_for_km'>"
      ]
     },
     "execution_count": 76,
     "metadata": {},
     "output_type": "execute_result"
    },
    {
     "data": {
      "image/png": "[encoded data removed]",
      "text/plain": [
       "<Figure size 216x216 with 1 Axes>"
      ]
     },
     "metadata": {
      "needs_background": "light"
     },
     "output_type": "display_data"
    }
   ],
   "source": [
    "spb = data.query('locality_name == \"Санкт-Петербург\"') #Отбираем только квартиры в Санкт-Петербург\n",
    "spb = spb.dropna(subset = ['city_centers_nearest'], inplace = False) #убираем пропуски\n",
    "spb['city_enters_nearest_km'] = spb.loc[:, 'city_centers_nearest'] / 1000 #добавляем столбец с расстояние до центра\n",
    "spb_mean_price_one_m = spb['price_one_meter'].mean() #Средняя цена за кв.метр\n",
    "spb['mean_price_for_km']=spb_mean_price_one_m / spb['city_centers_nearest_km'] #средняя цена за каждый км\n",
    "\n",
    "spb.plot(x='city_centers_nearest_km', y='mean_price_for_km', kind='scatter', figsize=(3, 3), grid=True)\n"
   ]
  },
  {
   "cell_type": "markdown",
   "id": "4e659303",
   "metadata": {},
   "source": [
    "Соответственно цена возрастает с приближением к центру."
   ]
  },
  {
   "cell_type": "markdown",
   "id": "556edfd4",
   "metadata": {},
   "source": [
    "**Общий вывод:**\n",
    "Для анализа данные были взяты из сервиса Яндекс Недвижимость который содержит  архив объявлений за несколько лет о продаже квартир в Санкт-Петербурге и соседних населённых пунктах.\n",
    "Поставленная задача— выполнить предобработку данных ,изучить их и  найти интересные особенности и зависимости параметров квартир на рынке недвижимости.\n",
    "В процессе предобработки данных были выявлены явные и неявные пропуски, аномальные значения которые не соответствуют действительности. Возможно данные были взяты из разных источников и поэтому некоторые значения пропущены, также нельзя не предположить что человеческий фактор имел место быть, возможно некоторая информация не была заполнена продавцами. Работа с пропусками и аномальными значениями была проведена.\n",
    "Также для удобства и дальнейшей работы были подкорректированы названия столбцов, изменены типы данных некоторых значений, добавлены новые колонки.\n",
    "В предоставленных данных огромное разнообразие недвижимости, но исследование показало ,что в основном на рынке были выставлены квартиры с площадью в диапазоне от 20 до 100 кв.метров,среднее количество комнат 2-5.\n",
    "Зависимость цены от других параметров есть ,самая большой показатель зависимости цены от общей площади.\n",
    "Как ожидалось самое дорогое жилье в Санкт-Перербурге.\n"
   ]
  },
  {
   "cell_type": "code",
   "execution_count": null,
   "id": "a7863f59",
   "metadata": {},
   "outputs": [],
   "source": []
  }
 ],
 "metadata": {
  "ExecuteTimeLog": [
   {
    "duration": 510,
    "start_time": "2022-11-15T19:02:33.336Z"
   },
   {
    "duration": 15,
    "start_time": "2022-11-15T19:03:01.536Z"
   },
   {
    "duration": 187,
    "start_time": "2022-11-15T19:14:30.849Z"
   },
   {
    "duration": 73,
    "start_time": "2022-11-15T19:17:05.457Z"
   },
   {
    "duration": 12,
    "start_time": "2022-11-15T19:21:57.457Z"
   },
   {
    "duration": 72,
    "start_time": "2022-11-15T19:22:35.010Z"
   },
   {
    "duration": 75,
    "start_time": "2022-11-15T19:23:06.317Z"
   },
   {
    "duration": 12,
    "start_time": "2022-11-15T19:23:13.377Z"
   },
   {
    "duration": 8,
    "start_time": "2022-11-15T19:23:24.138Z"
   },
   {
    "duration": 10,
    "start_time": "2022-11-15T19:24:36.668Z"
   },
   {
    "duration": 116,
    "start_time": "2022-11-15T19:25:57.989Z"
   },
   {
    "duration": 39,
    "start_time": "2022-11-15T19:25:58.107Z"
   },
   {
    "duration": 4,
    "start_time": "2022-11-15T19:25:58.148Z"
   },
   {
    "duration": 2724,
    "start_time": "2022-11-15T19:25:58.154Z"
   },
   {
    "duration": 10,
    "start_time": "2022-11-15T19:26:00.881Z"
   },
   {
    "duration": 13,
    "start_time": "2022-11-15T19:26:00.892Z"
   },
   {
    "duration": 10,
    "start_time": "2022-11-15T19:26:00.907Z"
   },
   {
    "duration": 28,
    "start_time": "2022-11-15T19:26:00.919Z"
   },
   {
    "duration": 0,
    "start_time": "2022-11-15T19:26:00.952Z"
   },
   {
    "duration": 0,
    "start_time": "2022-11-15T19:26:00.953Z"
   },
   {
    "duration": 0,
    "start_time": "2022-11-15T19:26:00.955Z"
   },
   {
    "duration": 0,
    "start_time": "2022-11-15T19:26:00.956Z"
   },
   {
    "duration": 1,
    "start_time": "2022-11-15T19:26:00.957Z"
   },
   {
    "duration": 0,
    "start_time": "2022-11-15T19:26:00.959Z"
   },
   {
    "duration": 0,
    "start_time": "2022-11-15T19:26:00.960Z"
   },
   {
    "duration": 0,
    "start_time": "2022-11-15T19:26:00.961Z"
   },
   {
    "duration": 0,
    "start_time": "2022-11-15T19:26:00.962Z"
   },
   {
    "duration": 0,
    "start_time": "2022-11-15T19:26:00.964Z"
   },
   {
    "duration": 0,
    "start_time": "2022-11-15T19:26:00.965Z"
   },
   {
    "duration": 0,
    "start_time": "2022-11-15T19:26:00.966Z"
   },
   {
    "duration": 0,
    "start_time": "2022-11-15T19:26:00.967Z"
   },
   {
    "duration": 0,
    "start_time": "2022-11-15T19:26:00.968Z"
   },
   {
    "duration": 0,
    "start_time": "2022-11-15T19:26:00.969Z"
   },
   {
    "duration": 0,
    "start_time": "2022-11-15T19:26:00.970Z"
   },
   {
    "duration": 0,
    "start_time": "2022-11-15T19:26:00.972Z"
   },
   {
    "duration": 0,
    "start_time": "2022-11-15T19:26:00.973Z"
   },
   {
    "duration": 0,
    "start_time": "2022-11-15T19:26:00.975Z"
   },
   {
    "duration": 0,
    "start_time": "2022-11-15T19:26:00.976Z"
   },
   {
    "duration": 0,
    "start_time": "2022-11-15T19:26:00.977Z"
   },
   {
    "duration": 0,
    "start_time": "2022-11-15T19:26:00.978Z"
   },
   {
    "duration": 0,
    "start_time": "2022-11-15T19:26:00.979Z"
   },
   {
    "duration": 0,
    "start_time": "2022-11-15T19:26:00.980Z"
   },
   {
    "duration": 0,
    "start_time": "2022-11-15T19:26:01.038Z"
   },
   {
    "duration": 0,
    "start_time": "2022-11-15T19:26:01.040Z"
   },
   {
    "duration": 0,
    "start_time": "2022-11-15T19:26:01.041Z"
   },
   {
    "duration": 0,
    "start_time": "2022-11-15T19:26:01.042Z"
   },
   {
    "duration": 0,
    "start_time": "2022-11-15T19:26:01.043Z"
   },
   {
    "duration": 0,
    "start_time": "2022-11-15T19:26:01.043Z"
   },
   {
    "duration": 0,
    "start_time": "2022-11-15T19:26:01.044Z"
   },
   {
    "duration": 0,
    "start_time": "2022-11-15T19:26:01.045Z"
   },
   {
    "duration": 0,
    "start_time": "2022-11-15T19:26:01.046Z"
   },
   {
    "duration": 0,
    "start_time": "2022-11-15T19:26:01.047Z"
   },
   {
    "duration": 0,
    "start_time": "2022-11-15T19:26:01.049Z"
   },
   {
    "duration": 0,
    "start_time": "2022-11-15T19:26:01.049Z"
   },
   {
    "duration": 0,
    "start_time": "2022-11-15T19:26:01.051Z"
   },
   {
    "duration": 0,
    "start_time": "2022-11-15T19:26:01.052Z"
   },
   {
    "duration": 0,
    "start_time": "2022-11-15T19:26:01.053Z"
   },
   {
    "duration": 0,
    "start_time": "2022-11-15T19:26:01.054Z"
   },
   {
    "duration": 0,
    "start_time": "2022-11-15T19:26:01.054Z"
   },
   {
    "duration": 0,
    "start_time": "2022-11-15T19:26:01.055Z"
   },
   {
    "duration": 0,
    "start_time": "2022-11-15T19:26:01.056Z"
   },
   {
    "duration": 0,
    "start_time": "2022-11-15T19:26:01.058Z"
   },
   {
    "duration": 0,
    "start_time": "2022-11-15T19:26:01.059Z"
   },
   {
    "duration": 0,
    "start_time": "2022-11-15T19:26:01.060Z"
   },
   {
    "duration": 0,
    "start_time": "2022-11-15T19:26:01.061Z"
   },
   {
    "duration": 0,
    "start_time": "2022-11-15T19:26:01.062Z"
   },
   {
    "duration": 0,
    "start_time": "2022-11-15T19:26:01.063Z"
   },
   {
    "duration": 0,
    "start_time": "2022-11-15T19:26:01.065Z"
   },
   {
    "duration": 0,
    "start_time": "2022-11-15T19:26:01.065Z"
   },
   {
    "duration": 0,
    "start_time": "2022-11-15T19:26:01.067Z"
   },
   {
    "duration": 0,
    "start_time": "2022-11-15T19:26:01.068Z"
   },
   {
    "duration": 0,
    "start_time": "2022-11-15T19:26:01.069Z"
   },
   {
    "duration": 0,
    "start_time": "2022-11-15T19:26:01.070Z"
   },
   {
    "duration": 0,
    "start_time": "2022-11-15T19:26:01.071Z"
   },
   {
    "duration": 0,
    "start_time": "2022-11-15T19:26:01.072Z"
   },
   {
    "duration": 0,
    "start_time": "2022-11-15T19:26:01.138Z"
   },
   {
    "duration": 0,
    "start_time": "2022-11-15T19:26:01.140Z"
   },
   {
    "duration": 0,
    "start_time": "2022-11-15T19:26:01.141Z"
   },
   {
    "duration": 0,
    "start_time": "2022-11-15T19:26:01.142Z"
   },
   {
    "duration": 0,
    "start_time": "2022-11-15T19:26:01.143Z"
   },
   {
    "duration": 0,
    "start_time": "2022-11-15T19:26:01.144Z"
   },
   {
    "duration": 0,
    "start_time": "2022-11-15T19:26:01.146Z"
   },
   {
    "duration": 0,
    "start_time": "2022-11-15T19:26:01.147Z"
   },
   {
    "duration": 0,
    "start_time": "2022-11-15T19:26:01.149Z"
   },
   {
    "duration": 13,
    "start_time": "2022-11-15T19:28:01.917Z"
   },
   {
    "duration": 8,
    "start_time": "2022-11-15T19:29:11.618Z"
   },
   {
    "duration": 11,
    "start_time": "2022-11-15T19:29:17.326Z"
   },
   {
    "duration": 10,
    "start_time": "2022-11-15T19:32:36.565Z"
   },
   {
    "duration": 6,
    "start_time": "2022-11-15T19:33:24.157Z"
   },
   {
    "duration": 4,
    "start_time": "2022-11-15T19:33:37.818Z"
   },
   {
    "duration": 10,
    "start_time": "2022-11-15T19:35:03.157Z"
   },
   {
    "duration": 4,
    "start_time": "2022-11-15T19:35:26.564Z"
   },
   {
    "duration": 5,
    "start_time": "2022-11-15T19:36:05.686Z"
   },
   {
    "duration": 9,
    "start_time": "2022-11-15T19:41:09.917Z"
   },
   {
    "duration": 7,
    "start_time": "2022-11-15T19:41:52.368Z"
   },
   {
    "duration": 7,
    "start_time": "2022-11-15T19:43:02.417Z"
   },
   {
    "duration": 20,
    "start_time": "2022-11-15T19:43:18.284Z"
   },
   {
    "duration": 21,
    "start_time": "2022-11-15T19:43:49.788Z"
   },
   {
    "duration": 23,
    "start_time": "2022-11-15T19:45:28.509Z"
   },
   {
    "duration": 6,
    "start_time": "2022-11-15T19:48:08.097Z"
   },
   {
    "duration": 6,
    "start_time": "2022-11-15T19:49:05.297Z"
   },
   {
    "duration": 6,
    "start_time": "2022-11-15T19:49:43.009Z"
   },
   {
    "duration": 170,
    "start_time": "2022-11-15T19:56:56.149Z"
   },
   {
    "duration": 163,
    "start_time": "2022-11-15T19:57:08.509Z"
   },
   {
    "duration": 178,
    "start_time": "2022-11-15T19:57:13.409Z"
   },
   {
    "duration": 165,
    "start_time": "2022-11-15T19:57:16.989Z"
   },
   {
    "duration": 44,
    "start_time": "2022-11-15T21:13:30.125Z"
   },
   {
    "duration": 763,
    "start_time": "2022-11-15T21:13:38.156Z"
   },
   {
    "duration": 13,
    "start_time": "2022-11-15T21:13:38.921Z"
   },
   {
    "duration": 4,
    "start_time": "2022-11-15T21:13:38.936Z"
   },
   {
    "duration": 2387,
    "start_time": "2022-11-15T21:13:38.942Z"
   },
   {
    "duration": 9,
    "start_time": "2022-11-15T21:13:41.331Z"
   },
   {
    "duration": 4,
    "start_time": "2022-11-15T21:13:41.355Z"
   },
   {
    "duration": 7,
    "start_time": "2022-11-15T21:13:41.360Z"
   },
   {
    "duration": 14,
    "start_time": "2022-11-15T21:13:41.368Z"
   },
   {
    "duration": 12,
    "start_time": "2022-11-15T21:13:41.383Z"
   },
   {
    "duration": 24,
    "start_time": "2022-11-15T21:13:41.398Z"
   },
   {
    "duration": 4,
    "start_time": "2022-11-15T21:13:41.424Z"
   },
   {
    "duration": 26,
    "start_time": "2022-11-15T21:13:41.430Z"
   },
   {
    "duration": 10,
    "start_time": "2022-11-15T21:13:41.458Z"
   },
   {
    "duration": 7,
    "start_time": "2022-11-15T21:13:41.470Z"
   },
   {
    "duration": 12,
    "start_time": "2022-11-15T21:13:41.479Z"
   },
   {
    "duration": 3,
    "start_time": "2022-11-15T21:13:41.492Z"
   },
   {
    "duration": 4,
    "start_time": "2022-11-15T21:13:41.497Z"
   },
   {
    "duration": 12,
    "start_time": "2022-11-15T21:13:41.502Z"
   },
   {
    "duration": 39,
    "start_time": "2022-11-15T21:13:41.516Z"
   },
   {
    "duration": 9,
    "start_time": "2022-11-15T21:13:41.556Z"
   },
   {
    "duration": 96,
    "start_time": "2022-11-15T21:13:41.567Z"
   },
   {
    "duration": 8,
    "start_time": "2022-11-15T21:13:41.665Z"
   },
   {
    "duration": 5,
    "start_time": "2022-11-15T21:13:41.674Z"
   },
   {
    "duration": 32,
    "start_time": "2022-11-15T21:13:41.680Z"
   },
   {
    "duration": 6,
    "start_time": "2022-11-15T21:13:41.714Z"
   },
   {
    "duration": 11,
    "start_time": "2022-11-15T21:13:41.721Z"
   },
   {
    "duration": 33,
    "start_time": "2022-11-15T21:13:41.733Z"
   },
   {
    "duration": 9,
    "start_time": "2022-11-15T21:13:41.770Z"
   },
   {
    "duration": 4,
    "start_time": "2022-11-15T21:13:41.780Z"
   },
   {
    "duration": 6,
    "start_time": "2022-11-15T21:13:41.786Z"
   },
   {
    "duration": 7,
    "start_time": "2022-11-15T21:13:41.793Z"
   },
   {
    "duration": 12,
    "start_time": "2022-11-15T21:13:41.802Z"
   },
   {
    "duration": 7,
    "start_time": "2022-11-15T21:13:41.815Z"
   },
   {
    "duration": 9,
    "start_time": "2022-11-15T21:13:41.855Z"
   },
   {
    "duration": 5,
    "start_time": "2022-11-15T21:13:41.866Z"
   },
   {
    "duration": 12,
    "start_time": "2022-11-15T21:13:41.872Z"
   },
   {
    "duration": 7,
    "start_time": "2022-11-15T21:13:41.885Z"
   },
   {
    "duration": 11,
    "start_time": "2022-11-15T21:13:41.894Z"
   },
   {
    "duration": 5,
    "start_time": "2022-11-15T21:13:41.906Z"
   },
   {
    "duration": 14,
    "start_time": "2022-11-15T21:13:41.912Z"
   },
   {
    "duration": 29,
    "start_time": "2022-11-15T21:13:41.927Z"
   },
   {
    "duration": 7,
    "start_time": "2022-11-15T21:13:41.958Z"
   },
   {
    "duration": 13,
    "start_time": "2022-11-15T21:13:41.966Z"
   },
   {
    "duration": 8,
    "start_time": "2022-11-15T21:13:41.980Z"
   },
   {
    "duration": 10,
    "start_time": "2022-11-15T21:13:41.990Z"
   },
   {
    "duration": 6,
    "start_time": "2022-11-15T21:13:42.002Z"
   },
   {
    "duration": 9,
    "start_time": "2022-11-15T21:13:42.009Z"
   },
   {
    "duration": 13,
    "start_time": "2022-11-15T21:13:42.020Z"
   },
   {
    "duration": 408,
    "start_time": "2022-11-15T21:13:42.034Z"
   },
   {
    "duration": 159,
    "start_time": "2022-11-15T21:13:42.444Z"
   },
   {
    "duration": 167,
    "start_time": "2022-11-15T21:13:42.605Z"
   },
   {
    "duration": 168,
    "start_time": "2022-11-15T21:13:42.774Z"
   },
   {
    "duration": 159,
    "start_time": "2022-11-15T21:13:42.944Z"
   },
   {
    "duration": 158,
    "start_time": "2022-11-15T21:13:43.105Z"
   },
   {
    "duration": 162,
    "start_time": "2022-11-15T21:13:43.264Z"
   },
   {
    "duration": 173,
    "start_time": "2022-11-15T21:13:43.427Z"
   },
   {
    "duration": 195,
    "start_time": "2022-11-15T21:13:43.602Z"
   },
   {
    "duration": 148,
    "start_time": "2022-11-15T21:13:43.798Z"
   },
   {
    "duration": 154,
    "start_time": "2022-11-15T21:13:43.948Z"
   },
   {
    "duration": 247,
    "start_time": "2022-11-15T21:13:44.104Z"
   },
   {
    "duration": 148,
    "start_time": "2022-11-15T21:13:44.352Z"
   },
   {
    "duration": 187,
    "start_time": "2022-11-15T21:13:44.501Z"
   },
   {
    "duration": 5,
    "start_time": "2022-11-15T21:13:44.690Z"
   },
   {
    "duration": 151,
    "start_time": "2022-11-15T21:13:44.696Z"
   },
   {
    "duration": 145,
    "start_time": "2022-11-15T21:13:44.849Z"
   },
   {
    "duration": 11,
    "start_time": "2022-11-15T21:13:44.995Z"
   },
   {
    "duration": 147,
    "start_time": "2022-11-15T21:13:45.008Z"
   },
   {
    "duration": 156,
    "start_time": "2022-11-15T21:13:45.157Z"
   },
   {
    "duration": 126,
    "start_time": "2022-11-15T21:13:45.315Z"
   },
   {
    "duration": 117,
    "start_time": "2022-11-15T21:13:45.442Z"
   },
   {
    "duration": 476,
    "start_time": "2022-11-15T21:13:45.560Z"
   },
   {
    "duration": 0,
    "start_time": "2022-11-15T21:13:46.037Z"
   },
   {
    "duration": 1,
    "start_time": "2022-11-15T21:13:46.038Z"
   },
   {
    "duration": 0,
    "start_time": "2022-11-15T21:13:46.040Z"
   },
   {
    "duration": 0,
    "start_time": "2022-11-15T21:13:46.041Z"
   },
   {
    "duration": 0,
    "start_time": "2022-11-15T21:13:46.055Z"
   },
   {
    "duration": 574,
    "start_time": "2022-11-15T21:21:24.160Z"
   },
   {
    "duration": 21,
    "start_time": "2022-11-15T21:21:24.735Z"
   },
   {
    "duration": 3,
    "start_time": "2022-11-15T21:21:24.758Z"
   },
   {
    "duration": 2173,
    "start_time": "2022-11-15T21:21:24.763Z"
   },
   {
    "duration": 21,
    "start_time": "2022-11-15T21:21:26.937Z"
   },
   {
    "duration": 4,
    "start_time": "2022-11-15T21:21:26.959Z"
   },
   {
    "duration": 5,
    "start_time": "2022-11-15T21:21:26.964Z"
   },
   {
    "duration": 15,
    "start_time": "2022-11-15T21:21:26.970Z"
   },
   {
    "duration": 7,
    "start_time": "2022-11-15T21:21:26.986Z"
   },
   {
    "duration": 5,
    "start_time": "2022-11-15T21:21:26.995Z"
   },
   {
    "duration": 9,
    "start_time": "2022-11-15T21:21:27.001Z"
   },
   {
    "duration": 9,
    "start_time": "2022-11-15T21:21:27.011Z"
   },
   {
    "duration": 5,
    "start_time": "2022-11-15T21:21:27.021Z"
   },
   {
    "duration": 34,
    "start_time": "2022-11-15T21:21:27.027Z"
   },
   {
    "duration": 3,
    "start_time": "2022-11-15T21:21:27.063Z"
   },
   {
    "duration": 5,
    "start_time": "2022-11-15T21:21:27.068Z"
   },
   {
    "duration": 9,
    "start_time": "2022-11-15T21:21:27.074Z"
   },
   {
    "duration": 91,
    "start_time": "2022-11-15T21:21:27.085Z"
   },
   {
    "duration": 0,
    "start_time": "2022-11-15T21:21:27.179Z"
   },
   {
    "duration": 0,
    "start_time": "2022-11-15T21:21:27.180Z"
   },
   {
    "duration": 0,
    "start_time": "2022-11-15T21:21:27.181Z"
   },
   {
    "duration": 0,
    "start_time": "2022-11-15T21:21:27.182Z"
   },
   {
    "duration": 0,
    "start_time": "2022-11-15T21:21:27.183Z"
   },
   {
    "duration": 0,
    "start_time": "2022-11-15T21:21:27.184Z"
   },
   {
    "duration": 0,
    "start_time": "2022-11-15T21:21:27.185Z"
   },
   {
    "duration": 0,
    "start_time": "2022-11-15T21:21:27.186Z"
   },
   {
    "duration": 0,
    "start_time": "2022-11-15T21:21:27.187Z"
   },
   {
    "duration": 0,
    "start_time": "2022-11-15T21:21:27.187Z"
   },
   {
    "duration": 0,
    "start_time": "2022-11-15T21:21:27.188Z"
   },
   {
    "duration": 0,
    "start_time": "2022-11-15T21:21:27.189Z"
   },
   {
    "duration": 0,
    "start_time": "2022-11-15T21:21:27.190Z"
   },
   {
    "duration": 0,
    "start_time": "2022-11-15T21:21:27.191Z"
   },
   {
    "duration": 0,
    "start_time": "2022-11-15T21:21:27.192Z"
   },
   {
    "duration": 0,
    "start_time": "2022-11-15T21:21:27.193Z"
   },
   {
    "duration": 0,
    "start_time": "2022-11-15T21:21:27.194Z"
   },
   {
    "duration": 0,
    "start_time": "2022-11-15T21:21:27.195Z"
   },
   {
    "duration": 0,
    "start_time": "2022-11-15T21:21:27.196Z"
   },
   {
    "duration": 0,
    "start_time": "2022-11-15T21:21:27.197Z"
   },
   {
    "duration": 0,
    "start_time": "2022-11-15T21:21:27.198Z"
   },
   {
    "duration": 0,
    "start_time": "2022-11-15T21:21:27.199Z"
   },
   {
    "duration": 0,
    "start_time": "2022-11-15T21:21:27.200Z"
   },
   {
    "duration": 0,
    "start_time": "2022-11-15T21:21:27.200Z"
   },
   {
    "duration": 0,
    "start_time": "2022-11-15T21:21:27.201Z"
   },
   {
    "duration": 0,
    "start_time": "2022-11-15T21:21:27.202Z"
   },
   {
    "duration": 0,
    "start_time": "2022-11-15T21:21:27.203Z"
   },
   {
    "duration": 0,
    "start_time": "2022-11-15T21:21:27.204Z"
   },
   {
    "duration": 0,
    "start_time": "2022-11-15T21:21:27.205Z"
   },
   {
    "duration": 0,
    "start_time": "2022-11-15T21:21:27.206Z"
   },
   {
    "duration": 0,
    "start_time": "2022-11-15T21:21:27.207Z"
   },
   {
    "duration": 0,
    "start_time": "2022-11-15T21:21:27.255Z"
   },
   {
    "duration": 0,
    "start_time": "2022-11-15T21:21:27.256Z"
   },
   {
    "duration": 0,
    "start_time": "2022-11-15T21:21:27.257Z"
   },
   {
    "duration": 0,
    "start_time": "2022-11-15T21:21:27.259Z"
   },
   {
    "duration": 0,
    "start_time": "2022-11-15T21:21:27.260Z"
   },
   {
    "duration": 0,
    "start_time": "2022-11-15T21:21:27.261Z"
   },
   {
    "duration": 0,
    "start_time": "2022-11-15T21:21:27.262Z"
   },
   {
    "duration": 0,
    "start_time": "2022-11-15T21:21:27.262Z"
   },
   {
    "duration": 0,
    "start_time": "2022-11-15T21:21:27.263Z"
   },
   {
    "duration": 0,
    "start_time": "2022-11-15T21:21:27.264Z"
   },
   {
    "duration": 1,
    "start_time": "2022-11-15T21:21:27.265Z"
   },
   {
    "duration": 0,
    "start_time": "2022-11-15T21:21:27.267Z"
   },
   {
    "duration": 0,
    "start_time": "2022-11-15T21:21:27.267Z"
   },
   {
    "duration": 0,
    "start_time": "2022-11-15T21:21:27.268Z"
   },
   {
    "duration": 0,
    "start_time": "2022-11-15T21:21:27.269Z"
   },
   {
    "duration": 0,
    "start_time": "2022-11-15T21:21:27.270Z"
   },
   {
    "duration": 0,
    "start_time": "2022-11-15T21:21:27.271Z"
   },
   {
    "duration": 0,
    "start_time": "2022-11-15T21:21:27.273Z"
   },
   {
    "duration": 0,
    "start_time": "2022-11-15T21:21:27.274Z"
   },
   {
    "duration": 0,
    "start_time": "2022-11-15T21:21:27.275Z"
   },
   {
    "duration": 0,
    "start_time": "2022-11-15T21:21:27.276Z"
   },
   {
    "duration": 0,
    "start_time": "2022-11-15T21:21:27.277Z"
   },
   {
    "duration": 0,
    "start_time": "2022-11-15T21:21:27.278Z"
   },
   {
    "duration": 0,
    "start_time": "2022-11-15T21:21:27.279Z"
   },
   {
    "duration": 0,
    "start_time": "2022-11-15T21:21:27.280Z"
   },
   {
    "duration": 0,
    "start_time": "2022-11-15T21:21:27.281Z"
   },
   {
    "duration": 793,
    "start_time": "2022-11-17T12:44:00.318Z"
   },
   {
    "duration": 14,
    "start_time": "2022-11-17T12:44:01.113Z"
   },
   {
    "duration": 10,
    "start_time": "2022-11-17T12:44:01.128Z"
   },
   {
    "duration": 2749,
    "start_time": "2022-11-17T12:44:01.140Z"
   },
   {
    "duration": 12,
    "start_time": "2022-11-17T12:44:03.894Z"
   },
   {
    "duration": 5,
    "start_time": "2022-11-17T12:44:03.907Z"
   },
   {
    "duration": 6,
    "start_time": "2022-11-17T12:44:03.913Z"
   },
   {
    "duration": 13,
    "start_time": "2022-11-17T12:44:03.921Z"
   },
   {
    "duration": 6,
    "start_time": "2022-11-17T12:44:03.935Z"
   },
   {
    "duration": 4,
    "start_time": "2022-11-17T12:44:03.944Z"
   },
   {
    "duration": 11,
    "start_time": "2022-11-17T12:44:03.949Z"
   },
   {
    "duration": 25,
    "start_time": "2022-11-17T12:44:03.962Z"
   },
   {
    "duration": 19,
    "start_time": "2022-11-17T12:44:03.990Z"
   },
   {
    "duration": 18,
    "start_time": "2022-11-17T12:44:04.010Z"
   },
   {
    "duration": 5,
    "start_time": "2022-11-17T12:44:04.030Z"
   },
   {
    "duration": 11,
    "start_time": "2022-11-17T12:44:04.037Z"
   },
   {
    "duration": 15,
    "start_time": "2022-11-17T12:44:04.050Z"
   },
   {
    "duration": 96,
    "start_time": "2022-11-17T12:44:04.067Z"
   },
   {
    "duration": 0,
    "start_time": "2022-11-17T12:44:04.166Z"
   },
   {
    "duration": 0,
    "start_time": "2022-11-17T12:44:04.167Z"
   },
   {
    "duration": 1,
    "start_time": "2022-11-17T12:44:04.176Z"
   },
   {
    "duration": 0,
    "start_time": "2022-11-17T12:44:04.180Z"
   },
   {
    "duration": 0,
    "start_time": "2022-11-17T12:44:04.182Z"
   },
   {
    "duration": 0,
    "start_time": "2022-11-17T12:44:04.183Z"
   },
   {
    "duration": 0,
    "start_time": "2022-11-17T12:44:04.184Z"
   },
   {
    "duration": 0,
    "start_time": "2022-11-17T12:44:04.186Z"
   },
   {
    "duration": 0,
    "start_time": "2022-11-17T12:44:04.188Z"
   },
   {
    "duration": 0,
    "start_time": "2022-11-17T12:44:04.189Z"
   },
   {
    "duration": 0,
    "start_time": "2022-11-17T12:44:04.191Z"
   },
   {
    "duration": 0,
    "start_time": "2022-11-17T12:44:04.193Z"
   },
   {
    "duration": 0,
    "start_time": "2022-11-17T12:44:04.194Z"
   },
   {
    "duration": 0,
    "start_time": "2022-11-17T12:44:04.198Z"
   },
   {
    "duration": 0,
    "start_time": "2022-11-17T12:44:04.199Z"
   },
   {
    "duration": 0,
    "start_time": "2022-11-17T12:44:04.201Z"
   },
   {
    "duration": 0,
    "start_time": "2022-11-17T12:44:04.204Z"
   },
   {
    "duration": 0,
    "start_time": "2022-11-17T12:44:04.205Z"
   },
   {
    "duration": 0,
    "start_time": "2022-11-17T12:44:04.207Z"
   },
   {
    "duration": 0,
    "start_time": "2022-11-17T12:44:04.208Z"
   },
   {
    "duration": 0,
    "start_time": "2022-11-17T12:44:04.209Z"
   },
   {
    "duration": 0,
    "start_time": "2022-11-17T12:44:04.210Z"
   },
   {
    "duration": 0,
    "start_time": "2022-11-17T12:44:04.211Z"
   },
   {
    "duration": 0,
    "start_time": "2022-11-17T12:44:04.213Z"
   },
   {
    "duration": 0,
    "start_time": "2022-11-17T12:44:04.214Z"
   },
   {
    "duration": 0,
    "start_time": "2022-11-17T12:44:04.215Z"
   },
   {
    "duration": 0,
    "start_time": "2022-11-17T12:44:04.216Z"
   },
   {
    "duration": 1,
    "start_time": "2022-11-17T12:44:04.217Z"
   },
   {
    "duration": 0,
    "start_time": "2022-11-17T12:44:04.219Z"
   },
   {
    "duration": 0,
    "start_time": "2022-11-17T12:44:04.220Z"
   },
   {
    "duration": 0,
    "start_time": "2022-11-17T12:44:04.278Z"
   },
   {
    "duration": 0,
    "start_time": "2022-11-17T12:44:04.280Z"
   },
   {
    "duration": 0,
    "start_time": "2022-11-17T12:44:04.281Z"
   },
   {
    "duration": 0,
    "start_time": "2022-11-17T12:44:04.283Z"
   },
   {
    "duration": 0,
    "start_time": "2022-11-17T12:44:04.285Z"
   },
   {
    "duration": 0,
    "start_time": "2022-11-17T12:44:04.290Z"
   },
   {
    "duration": 0,
    "start_time": "2022-11-17T12:44:04.292Z"
   },
   {
    "duration": 0,
    "start_time": "2022-11-17T12:44:04.294Z"
   },
   {
    "duration": 0,
    "start_time": "2022-11-17T12:44:04.295Z"
   },
   {
    "duration": 0,
    "start_time": "2022-11-17T12:44:04.297Z"
   },
   {
    "duration": 0,
    "start_time": "2022-11-17T12:44:04.299Z"
   },
   {
    "duration": 0,
    "start_time": "2022-11-17T12:44:04.301Z"
   },
   {
    "duration": 0,
    "start_time": "2022-11-17T12:44:04.303Z"
   },
   {
    "duration": 0,
    "start_time": "2022-11-17T12:44:04.304Z"
   },
   {
    "duration": 0,
    "start_time": "2022-11-17T12:44:04.306Z"
   },
   {
    "duration": 0,
    "start_time": "2022-11-17T12:44:04.307Z"
   },
   {
    "duration": 0,
    "start_time": "2022-11-17T12:44:04.309Z"
   },
   {
    "duration": 0,
    "start_time": "2022-11-17T12:44:04.310Z"
   },
   {
    "duration": 0,
    "start_time": "2022-11-17T12:44:04.312Z"
   },
   {
    "duration": 0,
    "start_time": "2022-11-17T12:44:04.314Z"
   },
   {
    "duration": 0,
    "start_time": "2022-11-17T12:44:04.315Z"
   },
   {
    "duration": 0,
    "start_time": "2022-11-17T12:44:04.316Z"
   },
   {
    "duration": 0,
    "start_time": "2022-11-17T12:44:04.378Z"
   },
   {
    "duration": 0,
    "start_time": "2022-11-17T12:44:04.380Z"
   },
   {
    "duration": 1,
    "start_time": "2022-11-17T12:44:04.382Z"
   },
   {
    "duration": 0,
    "start_time": "2022-11-17T12:44:04.385Z"
   },
   {
    "duration": 0,
    "start_time": "2022-11-17T12:44:04.387Z"
   },
   {
    "duration": 26,
    "start_time": "2022-11-17T12:50:45.178Z"
   },
   {
    "duration": 40,
    "start_time": "2022-11-17T12:56:34.566Z"
   },
   {
    "duration": 826,
    "start_time": "2022-11-17T12:58:34.109Z"
   },
   {
    "duration": 161,
    "start_time": "2022-11-17T12:58:53.883Z"
   },
   {
    "duration": 43,
    "start_time": "2022-11-17T12:58:54.046Z"
   },
   {
    "duration": 11,
    "start_time": "2022-11-17T12:58:54.091Z"
   },
   {
    "duration": 2515,
    "start_time": "2022-11-17T12:58:54.105Z"
   },
   {
    "duration": 9,
    "start_time": "2022-11-17T12:58:56.622Z"
   },
   {
    "duration": 25,
    "start_time": "2022-11-17T12:58:56.633Z"
   },
   {
    "duration": 18,
    "start_time": "2022-11-17T12:58:56.660Z"
   },
   {
    "duration": 26,
    "start_time": "2022-11-17T12:58:56.679Z"
   },
   {
    "duration": 13,
    "start_time": "2022-11-17T12:58:56.707Z"
   },
   {
    "duration": 11,
    "start_time": "2022-11-17T12:58:56.721Z"
   },
   {
    "duration": 8,
    "start_time": "2022-11-17T12:58:56.733Z"
   },
   {
    "duration": 7,
    "start_time": "2022-11-17T12:58:56.743Z"
   },
   {
    "duration": 9,
    "start_time": "2022-11-17T12:58:56.751Z"
   },
   {
    "duration": 17,
    "start_time": "2022-11-17T12:58:56.764Z"
   },
   {
    "duration": 11,
    "start_time": "2022-11-17T12:58:56.784Z"
   },
   {
    "duration": 9,
    "start_time": "2022-11-17T12:58:56.800Z"
   },
   {
    "duration": 14,
    "start_time": "2022-11-17T12:58:56.811Z"
   },
   {
    "duration": 25,
    "start_time": "2022-11-17T12:58:56.826Z"
   },
   {
    "duration": 27,
    "start_time": "2022-11-17T12:58:56.853Z"
   },
   {
    "duration": 132,
    "start_time": "2022-11-17T12:58:56.881Z"
   },
   {
    "duration": 7,
    "start_time": "2022-11-17T12:58:57.015Z"
   },
   {
    "duration": 7,
    "start_time": "2022-11-17T12:58:57.023Z"
   },
   {
    "duration": 30,
    "start_time": "2022-11-17T12:58:57.032Z"
   },
   {
    "duration": 27,
    "start_time": "2022-11-17T12:58:57.064Z"
   },
   {
    "duration": 8,
    "start_time": "2022-11-17T12:58:57.094Z"
   },
   {
    "duration": 25,
    "start_time": "2022-11-17T12:58:57.104Z"
   },
   {
    "duration": 9,
    "start_time": "2022-11-17T12:58:57.131Z"
   },
   {
    "duration": 5,
    "start_time": "2022-11-17T12:58:57.141Z"
   },
   {
    "duration": 11,
    "start_time": "2022-11-17T12:58:57.147Z"
   },
   {
    "duration": 21,
    "start_time": "2022-11-17T12:58:57.160Z"
   },
   {
    "duration": 30,
    "start_time": "2022-11-17T12:58:57.184Z"
   },
   {
    "duration": 27,
    "start_time": "2022-11-17T12:58:57.216Z"
   },
   {
    "duration": 15,
    "start_time": "2022-11-17T12:58:57.246Z"
   },
   {
    "duration": 8,
    "start_time": "2022-11-17T12:58:57.263Z"
   },
   {
    "duration": 12,
    "start_time": "2022-11-17T12:58:57.274Z"
   },
   {
    "duration": 31,
    "start_time": "2022-11-17T12:58:57.289Z"
   },
   {
    "duration": 16,
    "start_time": "2022-11-17T12:58:57.323Z"
   },
   {
    "duration": 5,
    "start_time": "2022-11-17T12:58:57.342Z"
   },
   {
    "duration": 14,
    "start_time": "2022-11-17T12:58:57.349Z"
   },
   {
    "duration": 13,
    "start_time": "2022-11-17T12:58:57.364Z"
   },
   {
    "duration": 27,
    "start_time": "2022-11-17T12:58:57.383Z"
   },
   {
    "duration": 11,
    "start_time": "2022-11-17T12:58:57.412Z"
   },
   {
    "duration": 15,
    "start_time": "2022-11-17T12:58:57.425Z"
   },
   {
    "duration": 13,
    "start_time": "2022-11-17T12:58:57.442Z"
   },
   {
    "duration": 72,
    "start_time": "2022-11-17T12:58:57.456Z"
   },
   {
    "duration": 33,
    "start_time": "2022-11-17T12:58:57.529Z"
   },
   {
    "duration": 10,
    "start_time": "2022-11-17T12:58:57.563Z"
   },
   {
    "duration": 387,
    "start_time": "2022-11-17T12:58:57.576Z"
   },
   {
    "duration": 329,
    "start_time": "2022-11-17T12:58:57.966Z"
   },
   {
    "duration": 211,
    "start_time": "2022-11-17T12:58:58.297Z"
   },
   {
    "duration": 170,
    "start_time": "2022-11-17T12:58:58.510Z"
   },
   {
    "duration": 162,
    "start_time": "2022-11-17T12:58:58.684Z"
   },
   {
    "duration": 170,
    "start_time": "2022-11-17T12:58:58.847Z"
   },
   {
    "duration": 187,
    "start_time": "2022-11-17T12:58:59.018Z"
   },
   {
    "duration": 162,
    "start_time": "2022-11-17T12:58:59.207Z"
   },
   {
    "duration": 189,
    "start_time": "2022-11-17T12:58:59.370Z"
   },
   {
    "duration": 199,
    "start_time": "2022-11-17T12:58:59.561Z"
   },
   {
    "duration": 190,
    "start_time": "2022-11-17T12:58:59.761Z"
   },
   {
    "duration": 201,
    "start_time": "2022-11-17T12:58:59.953Z"
   },
   {
    "duration": 192,
    "start_time": "2022-11-17T12:59:00.156Z"
   },
   {
    "duration": 177,
    "start_time": "2022-11-17T12:59:00.350Z"
   },
   {
    "duration": 5,
    "start_time": "2022-11-17T12:59:00.529Z"
   },
   {
    "duration": 316,
    "start_time": "2022-11-17T12:59:00.536Z"
   },
   {
    "duration": 174,
    "start_time": "2022-11-17T12:59:00.854Z"
   },
   {
    "duration": 13,
    "start_time": "2022-11-17T12:59:01.030Z"
   },
   {
    "duration": 190,
    "start_time": "2022-11-17T12:59:01.044Z"
   },
   {
    "duration": 179,
    "start_time": "2022-11-17T12:59:01.236Z"
   },
   {
    "duration": 157,
    "start_time": "2022-11-17T12:59:01.416Z"
   },
   {
    "duration": 138,
    "start_time": "2022-11-17T12:59:01.580Z"
   },
   {
    "duration": 415,
    "start_time": "2022-11-17T12:59:01.721Z"
   },
   {
    "duration": 0,
    "start_time": "2022-11-17T12:59:02.137Z"
   },
   {
    "duration": 0,
    "start_time": "2022-11-17T12:59:02.139Z"
   },
   {
    "duration": 0,
    "start_time": "2022-11-17T12:59:02.141Z"
   },
   {
    "duration": 0,
    "start_time": "2022-11-17T12:59:02.143Z"
   },
   {
    "duration": 0,
    "start_time": "2022-11-17T12:59:02.144Z"
   },
   {
    "duration": 75,
    "start_time": "2022-11-17T13:01:22.274Z"
   },
   {
    "duration": 6,
    "start_time": "2022-11-17T13:01:31.272Z"
   },
   {
    "duration": 217,
    "start_time": "2022-11-17T13:04:54.727Z"
   },
   {
    "duration": 134,
    "start_time": "2022-11-17T13:09:00.839Z"
   },
   {
    "duration": 12,
    "start_time": "2022-11-17T13:10:01.074Z"
   },
   {
    "duration": 10,
    "start_time": "2022-11-17T13:10:46.769Z"
   },
   {
    "duration": 13,
    "start_time": "2022-11-17T13:11:19.117Z"
   },
   {
    "duration": 10,
    "start_time": "2022-11-17T13:11:32.170Z"
   },
   {
    "duration": 7,
    "start_time": "2022-11-17T13:33:29.041Z"
   },
   {
    "duration": 126,
    "start_time": "2022-11-17T13:33:39.240Z"
   },
   {
    "duration": 158,
    "start_time": "2022-11-17T13:34:23.318Z"
   },
   {
    "duration": 9,
    "start_time": "2022-11-17T13:34:46.068Z"
   },
   {
    "duration": 11,
    "start_time": "2022-11-17T13:34:52.153Z"
   },
   {
    "duration": 151,
    "start_time": "2022-11-17T13:36:36.990Z"
   },
   {
    "duration": 135,
    "start_time": "2022-11-17T13:37:46.615Z"
   },
   {
    "duration": 12,
    "start_time": "2022-11-17T13:41:54.952Z"
   },
   {
    "duration": 128,
    "start_time": "2022-11-17T13:43:20.878Z"
   },
   {
    "duration": 16,
    "start_time": "2022-11-17T13:43:21.008Z"
   },
   {
    "duration": 12,
    "start_time": "2022-11-17T13:43:21.026Z"
   },
   {
    "duration": 2188,
    "start_time": "2022-11-17T13:43:21.160Z"
   },
   {
    "duration": 10,
    "start_time": "2022-11-17T13:43:23.350Z"
   },
   {
    "duration": 8,
    "start_time": "2022-11-17T13:43:23.377Z"
   },
   {
    "duration": 28,
    "start_time": "2022-11-17T13:43:23.388Z"
   },
   {
    "duration": 21,
    "start_time": "2022-11-17T13:43:23.418Z"
   },
   {
    "duration": 8,
    "start_time": "2022-11-17T13:43:23.909Z"
   },
   {
    "duration": 7,
    "start_time": "2022-11-17T13:43:23.920Z"
   },
   {
    "duration": 10,
    "start_time": "2022-11-17T13:43:23.929Z"
   },
   {
    "duration": 4,
    "start_time": "2022-11-17T13:43:24.213Z"
   },
   {
    "duration": 10,
    "start_time": "2022-11-17T13:43:24.220Z"
   },
   {
    "duration": 11,
    "start_time": "2022-11-17T13:43:24.231Z"
   },
   {
    "duration": 5,
    "start_time": "2022-11-17T13:43:24.777Z"
   },
   {
    "duration": 10,
    "start_time": "2022-11-17T13:43:24.785Z"
   },
   {
    "duration": 14,
    "start_time": "2022-11-17T13:43:24.799Z"
   },
   {
    "duration": 22,
    "start_time": "2022-11-17T13:43:25.105Z"
   },
   {
    "duration": 14,
    "start_time": "2022-11-17T13:43:25.300Z"
   },
   {
    "duration": 102,
    "start_time": "2022-11-17T13:43:25.575Z"
   },
   {
    "duration": 8,
    "start_time": "2022-11-17T13:43:25.679Z"
   },
   {
    "duration": 9,
    "start_time": "2022-11-17T13:43:25.688Z"
   },
   {
    "duration": 25,
    "start_time": "2022-11-17T13:43:25.820Z"
   },
   {
    "duration": 6,
    "start_time": "2022-11-17T13:43:25.847Z"
   },
   {
    "duration": 5,
    "start_time": "2022-11-17T13:43:25.953Z"
   },
   {
    "duration": 18,
    "start_time": "2022-11-17T13:43:25.959Z"
   },
   {
    "duration": 9,
    "start_time": "2022-11-17T13:43:25.978Z"
   },
   {
    "duration": 4,
    "start_time": "2022-11-17T13:43:25.989Z"
   },
   {
    "duration": 5,
    "start_time": "2022-11-17T13:43:25.995Z"
   },
   {
    "duration": 7,
    "start_time": "2022-11-17T13:43:26.001Z"
   },
   {
    "duration": 8,
    "start_time": "2022-11-17T13:43:26.181Z"
   },
   {
    "duration": 13,
    "start_time": "2022-11-17T13:43:26.191Z"
   },
   {
    "duration": 16,
    "start_time": "2022-11-17T13:43:26.206Z"
   },
   {
    "duration": 7,
    "start_time": "2022-11-17T13:43:26.447Z"
   },
   {
    "duration": 38,
    "start_time": "2022-11-17T13:43:26.456Z"
   },
   {
    "duration": 15,
    "start_time": "2022-11-17T13:43:26.495Z"
   },
   {
    "duration": 6,
    "start_time": "2022-11-17T13:43:26.564Z"
   },
   {
    "duration": 34,
    "start_time": "2022-11-17T13:43:26.572Z"
   },
   {
    "duration": 10,
    "start_time": "2022-11-17T13:43:26.608Z"
   },
   {
    "duration": 23,
    "start_time": "2022-11-17T13:43:26.620Z"
   },
   {
    "duration": 8,
    "start_time": "2022-11-17T13:43:26.645Z"
   },
   {
    "duration": 10,
    "start_time": "2022-11-17T13:43:26.655Z"
   },
   {
    "duration": 28,
    "start_time": "2022-11-17T13:43:26.668Z"
   },
   {
    "duration": 15,
    "start_time": "2022-11-17T13:43:26.698Z"
   },
   {
    "duration": 5,
    "start_time": "2022-11-17T13:43:26.715Z"
   },
   {
    "duration": 9,
    "start_time": "2022-11-17T13:43:26.722Z"
   },
   {
    "duration": 5,
    "start_time": "2022-11-17T13:43:26.733Z"
   },
   {
    "duration": 460,
    "start_time": "2022-11-17T13:43:26.740Z"
   },
   {
    "duration": 181,
    "start_time": "2022-11-17T13:43:27.202Z"
   },
   {
    "duration": 199,
    "start_time": "2022-11-17T13:43:27.385Z"
   },
   {
    "duration": 196,
    "start_time": "2022-11-17T13:43:27.587Z"
   },
   {
    "duration": 176,
    "start_time": "2022-11-17T13:43:27.784Z"
   },
   {
    "duration": 164,
    "start_time": "2022-11-17T13:43:27.962Z"
   },
   {
    "duration": 173,
    "start_time": "2022-11-17T13:43:28.128Z"
   },
   {
    "duration": 166,
    "start_time": "2022-11-17T13:43:28.303Z"
   },
   {
    "duration": 171,
    "start_time": "2022-11-17T13:43:28.471Z"
   },
   {
    "duration": 180,
    "start_time": "2022-11-17T13:43:28.643Z"
   },
   {
    "duration": 170,
    "start_time": "2022-11-17T13:43:28.825Z"
   },
   {
    "duration": 183,
    "start_time": "2022-11-17T13:43:28.998Z"
   },
   {
    "duration": 171,
    "start_time": "2022-11-17T13:43:29.182Z"
   },
   {
    "duration": 158,
    "start_time": "2022-11-17T13:43:29.355Z"
   },
   {
    "duration": 6,
    "start_time": "2022-11-17T13:43:29.515Z"
   },
   {
    "duration": 328,
    "start_time": "2022-11-17T13:43:29.523Z"
   },
   {
    "duration": 6,
    "start_time": "2022-11-17T13:43:29.853Z"
   },
   {
    "duration": 156,
    "start_time": "2022-11-17T13:43:29.860Z"
   },
   {
    "duration": 181,
    "start_time": "2022-11-17T13:43:30.018Z"
   },
   {
    "duration": 161,
    "start_time": "2022-11-17T13:43:30.201Z"
   },
   {
    "duration": 153,
    "start_time": "2022-11-17T13:43:30.363Z"
   },
   {
    "duration": 139,
    "start_time": "2022-11-17T13:43:30.517Z"
   },
   {
    "duration": 137,
    "start_time": "2022-11-17T13:43:30.658Z"
   },
   {
    "duration": 481,
    "start_time": "2022-11-17T13:43:30.797Z"
   },
   {
    "duration": 0,
    "start_time": "2022-11-17T13:43:31.280Z"
   },
   {
    "duration": 0,
    "start_time": "2022-11-17T13:43:31.281Z"
   },
   {
    "duration": 0,
    "start_time": "2022-11-17T13:43:31.283Z"
   },
   {
    "duration": 0,
    "start_time": "2022-11-17T13:43:31.284Z"
   },
   {
    "duration": 0,
    "start_time": "2022-11-17T13:43:31.286Z"
   },
   {
    "duration": 5,
    "start_time": "2022-11-17T13:45:53.092Z"
   },
   {
    "duration": 170,
    "start_time": "2022-11-17T13:54:44.885Z"
   },
   {
    "duration": 106,
    "start_time": "2022-11-17T13:54:59.536Z"
   },
   {
    "duration": 33,
    "start_time": "2022-11-17T13:54:59.644Z"
   },
   {
    "duration": 4,
    "start_time": "2022-11-17T13:54:59.678Z"
   },
   {
    "duration": 2198,
    "start_time": "2022-11-17T13:54:59.684Z"
   },
   {
    "duration": 9,
    "start_time": "2022-11-17T13:55:01.883Z"
   },
   {
    "duration": 41,
    "start_time": "2022-11-17T13:55:01.894Z"
   },
   {
    "duration": 22,
    "start_time": "2022-11-17T13:55:01.937Z"
   },
   {
    "duration": 58,
    "start_time": "2022-11-17T13:55:01.961Z"
   },
   {
    "duration": 44,
    "start_time": "2022-11-17T13:55:02.021Z"
   },
   {
    "duration": 33,
    "start_time": "2022-11-17T13:55:02.067Z"
   },
   {
    "duration": 28,
    "start_time": "2022-11-17T13:55:02.102Z"
   },
   {
    "duration": 25,
    "start_time": "2022-11-17T13:55:02.132Z"
   },
   {
    "duration": 16,
    "start_time": "2022-11-17T13:55:02.159Z"
   },
   {
    "duration": 22,
    "start_time": "2022-11-17T13:55:02.176Z"
   },
   {
    "duration": 11,
    "start_time": "2022-11-17T13:55:02.200Z"
   },
   {
    "duration": 8,
    "start_time": "2022-11-17T13:55:02.212Z"
   },
   {
    "duration": 29,
    "start_time": "2022-11-17T13:55:02.221Z"
   },
   {
    "duration": 22,
    "start_time": "2022-11-17T13:55:02.251Z"
   },
   {
    "duration": 8,
    "start_time": "2022-11-17T13:55:02.274Z"
   },
   {
    "duration": 93,
    "start_time": "2022-11-17T13:55:02.284Z"
   },
   {
    "duration": 8,
    "start_time": "2022-11-17T13:55:02.379Z"
   },
   {
    "duration": 12,
    "start_time": "2022-11-17T13:55:02.388Z"
   },
   {
    "duration": 39,
    "start_time": "2022-11-17T13:55:02.401Z"
   },
   {
    "duration": 7,
    "start_time": "2022-11-17T13:55:02.442Z"
   },
   {
    "duration": 24,
    "start_time": "2022-11-17T13:55:02.451Z"
   },
   {
    "duration": 28,
    "start_time": "2022-11-17T13:55:02.477Z"
   },
   {
    "duration": 12,
    "start_time": "2022-11-17T13:55:02.507Z"
   },
   {
    "duration": 4,
    "start_time": "2022-11-17T13:55:02.522Z"
   },
   {
    "duration": 14,
    "start_time": "2022-11-17T13:55:02.527Z"
   },
   {
    "duration": 8,
    "start_time": "2022-11-17T13:55:02.543Z"
   },
   {
    "duration": 15,
    "start_time": "2022-11-17T13:55:02.552Z"
   },
   {
    "duration": 13,
    "start_time": "2022-11-17T13:55:02.568Z"
   },
   {
    "duration": 14,
    "start_time": "2022-11-17T13:55:02.582Z"
   },
   {
    "duration": 12,
    "start_time": "2022-11-17T13:55:02.598Z"
   },
   {
    "duration": 12,
    "start_time": "2022-11-17T13:55:02.612Z"
   },
   {
    "duration": 6,
    "start_time": "2022-11-17T13:55:02.626Z"
   },
   {
    "duration": 16,
    "start_time": "2022-11-17T13:55:02.633Z"
   },
   {
    "duration": 4,
    "start_time": "2022-11-17T13:55:02.650Z"
   },
   {
    "duration": 8,
    "start_time": "2022-11-17T13:55:02.656Z"
   },
   {
    "duration": 9,
    "start_time": "2022-11-17T13:55:02.675Z"
   },
   {
    "duration": 10,
    "start_time": "2022-11-17T13:55:02.685Z"
   },
   {
    "duration": 10,
    "start_time": "2022-11-17T13:55:02.697Z"
   },
   {
    "duration": 7,
    "start_time": "2022-11-17T13:55:02.708Z"
   },
   {
    "duration": 9,
    "start_time": "2022-11-17T13:55:02.717Z"
   },
   {
    "duration": 5,
    "start_time": "2022-11-17T13:55:02.728Z"
   },
   {
    "duration": 6,
    "start_time": "2022-11-17T13:55:02.735Z"
   },
   {
    "duration": 35,
    "start_time": "2022-11-17T13:55:02.742Z"
   },
   {
    "duration": 320,
    "start_time": "2022-11-17T13:55:02.778Z"
   },
   {
    "duration": 153,
    "start_time": "2022-11-17T13:55:03.100Z"
   },
   {
    "duration": 161,
    "start_time": "2022-11-17T13:55:03.255Z"
   },
   {
    "duration": 164,
    "start_time": "2022-11-17T13:55:03.418Z"
   },
   {
    "duration": 163,
    "start_time": "2022-11-17T13:55:03.583Z"
   },
   {
    "duration": 171,
    "start_time": "2022-11-17T13:55:03.747Z"
   },
   {
    "duration": 300,
    "start_time": "2022-11-17T13:55:03.919Z"
   },
   {
    "duration": 147,
    "start_time": "2022-11-17T13:55:04.220Z"
   },
   {
    "duration": 157,
    "start_time": "2022-11-17T13:55:04.369Z"
   },
   {
    "duration": 170,
    "start_time": "2022-11-17T13:55:04.533Z"
   },
   {
    "duration": 169,
    "start_time": "2022-11-17T13:55:04.705Z"
   },
   {
    "duration": 220,
    "start_time": "2022-11-17T13:55:04.877Z"
   },
   {
    "duration": 161,
    "start_time": "2022-11-17T13:55:05.099Z"
   },
   {
    "duration": 169,
    "start_time": "2022-11-17T13:55:05.262Z"
   },
   {
    "duration": 6,
    "start_time": "2022-11-17T13:55:05.433Z"
   },
   {
    "duration": 160,
    "start_time": "2022-11-17T13:55:05.440Z"
   },
   {
    "duration": 6,
    "start_time": "2022-11-17T13:55:05.602Z"
   },
   {
    "duration": 59,
    "start_time": "2022-11-17T13:55:05.609Z"
   },
   {
    "duration": 0,
    "start_time": "2022-11-17T13:55:05.669Z"
   },
   {
    "duration": 0,
    "start_time": "2022-11-17T13:55:05.670Z"
   },
   {
    "duration": 0,
    "start_time": "2022-11-17T13:55:05.672Z"
   },
   {
    "duration": 0,
    "start_time": "2022-11-17T13:55:05.673Z"
   },
   {
    "duration": 0,
    "start_time": "2022-11-17T13:55:05.675Z"
   },
   {
    "duration": 0,
    "start_time": "2022-11-17T13:55:05.677Z"
   },
   {
    "duration": 0,
    "start_time": "2022-11-17T13:55:05.678Z"
   },
   {
    "duration": 0,
    "start_time": "2022-11-17T13:55:05.680Z"
   },
   {
    "duration": 0,
    "start_time": "2022-11-17T13:55:05.681Z"
   },
   {
    "duration": 0,
    "start_time": "2022-11-17T13:55:05.682Z"
   },
   {
    "duration": 0,
    "start_time": "2022-11-17T13:55:05.684Z"
   },
   {
    "duration": 0,
    "start_time": "2022-11-17T13:55:05.685Z"
   },
   {
    "duration": 0,
    "start_time": "2022-11-17T13:55:05.686Z"
   },
   {
    "duration": 147,
    "start_time": "2022-11-17T14:01:28.649Z"
   },
   {
    "duration": 170,
    "start_time": "2022-11-17T14:01:38.736Z"
   },
   {
    "duration": 8,
    "start_time": "2022-11-17T14:01:55.325Z"
   },
   {
    "duration": 163,
    "start_time": "2022-11-17T14:02:02.500Z"
   },
   {
    "duration": 109,
    "start_time": "2022-11-17T14:02:22.674Z"
   },
   {
    "duration": 14,
    "start_time": "2022-11-17T14:02:22.786Z"
   },
   {
    "duration": 4,
    "start_time": "2022-11-17T14:02:22.802Z"
   },
   {
    "duration": 2355,
    "start_time": "2022-11-17T14:02:22.808Z"
   },
   {
    "duration": 18,
    "start_time": "2022-11-17T14:02:25.165Z"
   },
   {
    "duration": 10,
    "start_time": "2022-11-17T14:02:25.185Z"
   },
   {
    "duration": 10,
    "start_time": "2022-11-17T14:02:25.196Z"
   },
   {
    "duration": 27,
    "start_time": "2022-11-17T14:02:25.208Z"
   },
   {
    "duration": 16,
    "start_time": "2022-11-17T14:02:25.237Z"
   },
   {
    "duration": 35,
    "start_time": "2022-11-17T14:02:25.256Z"
   },
   {
    "duration": 47,
    "start_time": "2022-11-17T14:02:25.293Z"
   },
   {
    "duration": 39,
    "start_time": "2022-11-17T14:02:25.342Z"
   },
   {
    "duration": 37,
    "start_time": "2022-11-17T14:02:25.382Z"
   },
   {
    "duration": 23,
    "start_time": "2022-11-17T14:02:25.421Z"
   },
   {
    "duration": 24,
    "start_time": "2022-11-17T14:02:25.446Z"
   },
   {
    "duration": 28,
    "start_time": "2022-11-17T14:02:25.472Z"
   },
   {
    "duration": 28,
    "start_time": "2022-11-17T14:02:25.502Z"
   },
   {
    "duration": 38,
    "start_time": "2022-11-17T14:02:25.532Z"
   },
   {
    "duration": 12,
    "start_time": "2022-11-17T14:02:25.571Z"
   },
   {
    "duration": 94,
    "start_time": "2022-11-17T14:02:25.585Z"
   },
   {
    "duration": 8,
    "start_time": "2022-11-17T14:02:25.681Z"
   },
   {
    "duration": 5,
    "start_time": "2022-11-17T14:02:25.691Z"
   },
   {
    "duration": 25,
    "start_time": "2022-11-17T14:02:25.697Z"
   },
   {
    "duration": 8,
    "start_time": "2022-11-17T14:02:25.724Z"
   },
   {
    "duration": 18,
    "start_time": "2022-11-17T14:02:25.733Z"
   },
   {
    "duration": 34,
    "start_time": "2022-11-17T14:02:25.753Z"
   },
   {
    "duration": 10,
    "start_time": "2022-11-17T14:02:25.789Z"
   },
   {
    "duration": 4,
    "start_time": "2022-11-17T14:02:25.803Z"
   },
   {
    "duration": 6,
    "start_time": "2022-11-17T14:02:25.809Z"
   },
   {
    "duration": 16,
    "start_time": "2022-11-17T14:02:25.817Z"
   },
   {
    "duration": 27,
    "start_time": "2022-11-17T14:02:25.835Z"
   },
   {
    "duration": 11,
    "start_time": "2022-11-17T14:02:25.864Z"
   },
   {
    "duration": 12,
    "start_time": "2022-11-17T14:02:25.877Z"
   },
   {
    "duration": 18,
    "start_time": "2022-11-17T14:02:25.890Z"
   },
   {
    "duration": 13,
    "start_time": "2022-11-17T14:02:25.909Z"
   },
   {
    "duration": 14,
    "start_time": "2022-11-17T14:02:25.924Z"
   },
   {
    "duration": 11,
    "start_time": "2022-11-17T14:02:25.940Z"
   },
   {
    "duration": 12,
    "start_time": "2022-11-17T14:02:25.953Z"
   },
   {
    "duration": 29,
    "start_time": "2022-11-17T14:02:25.968Z"
   },
   {
    "duration": 16,
    "start_time": "2022-11-17T14:02:25.998Z"
   },
   {
    "duration": 7,
    "start_time": "2022-11-17T14:02:26.015Z"
   },
   {
    "duration": 6,
    "start_time": "2022-11-17T14:02:26.024Z"
   },
   {
    "duration": 17,
    "start_time": "2022-11-17T14:02:26.032Z"
   },
   {
    "duration": 13,
    "start_time": "2022-11-17T14:02:26.051Z"
   },
   {
    "duration": 7,
    "start_time": "2022-11-17T14:02:26.066Z"
   },
   {
    "duration": 31,
    "start_time": "2022-11-17T14:02:26.075Z"
   },
   {
    "duration": 9,
    "start_time": "2022-11-17T14:02:26.108Z"
   },
   {
    "duration": 346,
    "start_time": "2022-11-17T14:02:26.119Z"
   },
   {
    "duration": 221,
    "start_time": "2022-11-17T14:02:26.467Z"
   },
   {
    "duration": 178,
    "start_time": "2022-11-17T14:02:26.690Z"
   },
   {
    "duration": 163,
    "start_time": "2022-11-17T14:02:26.869Z"
   },
   {
    "duration": 180,
    "start_time": "2022-11-17T14:02:27.033Z"
   },
   {
    "duration": 176,
    "start_time": "2022-11-17T14:02:27.215Z"
   },
   {
    "duration": 356,
    "start_time": "2022-11-17T14:02:27.394Z"
   },
   {
    "duration": 186,
    "start_time": "2022-11-17T14:02:27.752Z"
   },
   {
    "duration": 169,
    "start_time": "2022-11-17T14:02:27.940Z"
   },
   {
    "duration": 174,
    "start_time": "2022-11-17T14:02:28.111Z"
   },
   {
    "duration": 162,
    "start_time": "2022-11-17T14:02:28.287Z"
   },
   {
    "duration": 177,
    "start_time": "2022-11-17T14:02:28.450Z"
   },
   {
    "duration": 170,
    "start_time": "2022-11-17T14:02:28.629Z"
   },
   {
    "duration": 175,
    "start_time": "2022-11-17T14:02:28.801Z"
   },
   {
    "duration": 5,
    "start_time": "2022-11-17T14:02:28.978Z"
   },
   {
    "duration": 157,
    "start_time": "2022-11-17T14:02:28.985Z"
   },
   {
    "duration": 6,
    "start_time": "2022-11-17T14:02:29.143Z"
   },
   {
    "duration": 10,
    "start_time": "2022-11-17T14:02:29.150Z"
   },
   {
    "duration": 171,
    "start_time": "2022-11-17T14:02:29.162Z"
   },
   {
    "duration": 142,
    "start_time": "2022-11-17T14:02:29.334Z"
   },
   {
    "duration": 142,
    "start_time": "2022-11-17T14:02:29.478Z"
   },
   {
    "duration": 119,
    "start_time": "2022-11-17T14:02:29.622Z"
   },
   {
    "duration": 117,
    "start_time": "2022-11-17T14:02:29.743Z"
   },
   {
    "duration": 555,
    "start_time": "2022-11-17T14:02:29.861Z"
   },
   {
    "duration": 0,
    "start_time": "2022-11-17T14:02:30.418Z"
   },
   {
    "duration": 0,
    "start_time": "2022-11-17T14:02:30.419Z"
   },
   {
    "duration": 0,
    "start_time": "2022-11-17T14:02:30.420Z"
   },
   {
    "duration": 0,
    "start_time": "2022-11-17T14:02:30.421Z"
   },
   {
    "duration": 0,
    "start_time": "2022-11-17T14:02:30.422Z"
   },
   {
    "duration": 140,
    "start_time": "2022-11-17T14:02:42.886Z"
   },
   {
    "duration": 144,
    "start_time": "2022-11-17T14:04:28.287Z"
   },
   {
    "duration": 113,
    "start_time": "2022-11-17T14:04:39.901Z"
   },
   {
    "duration": 14,
    "start_time": "2022-11-17T14:04:40.017Z"
   },
   {
    "duration": 21,
    "start_time": "2022-11-17T14:04:40.033Z"
   },
   {
    "duration": 2191,
    "start_time": "2022-11-17T14:04:40.078Z"
   },
   {
    "duration": 16,
    "start_time": "2022-11-17T14:04:42.270Z"
   },
   {
    "duration": 8,
    "start_time": "2022-11-17T14:04:42.287Z"
   },
   {
    "duration": 9,
    "start_time": "2022-11-17T14:04:42.297Z"
   },
   {
    "duration": 23,
    "start_time": "2022-11-17T14:04:42.307Z"
   },
   {
    "duration": 11,
    "start_time": "2022-11-17T14:04:42.331Z"
   },
   {
    "duration": 13,
    "start_time": "2022-11-17T14:04:42.345Z"
   },
   {
    "duration": 17,
    "start_time": "2022-11-17T14:04:42.359Z"
   },
   {
    "duration": 4,
    "start_time": "2022-11-17T14:04:42.378Z"
   },
   {
    "duration": 12,
    "start_time": "2022-11-17T14:04:42.383Z"
   },
   {
    "duration": 12,
    "start_time": "2022-11-17T14:04:42.397Z"
   },
   {
    "duration": 6,
    "start_time": "2022-11-17T14:04:42.410Z"
   },
   {
    "duration": 8,
    "start_time": "2022-11-17T14:04:42.417Z"
   },
   {
    "duration": 12,
    "start_time": "2022-11-17T14:04:42.427Z"
   },
   {
    "duration": 42,
    "start_time": "2022-11-17T14:04:42.441Z"
   },
   {
    "duration": 9,
    "start_time": "2022-11-17T14:04:42.485Z"
   },
   {
    "duration": 106,
    "start_time": "2022-11-17T14:04:42.495Z"
   },
   {
    "duration": 8,
    "start_time": "2022-11-17T14:04:42.602Z"
   },
   {
    "duration": 13,
    "start_time": "2022-11-17T14:04:42.612Z"
   },
   {
    "duration": 25,
    "start_time": "2022-11-17T14:04:42.627Z"
   },
   {
    "duration": 24,
    "start_time": "2022-11-17T14:04:42.654Z"
   },
   {
    "duration": 3,
    "start_time": "2022-11-17T14:04:42.680Z"
   },
   {
    "duration": 16,
    "start_time": "2022-11-17T14:04:42.685Z"
   },
   {
    "duration": 11,
    "start_time": "2022-11-17T14:04:42.702Z"
   },
   {
    "duration": 4,
    "start_time": "2022-11-17T14:04:42.717Z"
   },
   {
    "duration": 8,
    "start_time": "2022-11-17T14:04:42.723Z"
   },
   {
    "duration": 12,
    "start_time": "2022-11-17T14:04:42.733Z"
   },
   {
    "duration": 33,
    "start_time": "2022-11-17T14:04:42.747Z"
   },
   {
    "duration": 12,
    "start_time": "2022-11-17T14:04:42.783Z"
   },
   {
    "duration": 12,
    "start_time": "2022-11-17T14:04:42.797Z"
   },
   {
    "duration": 5,
    "start_time": "2022-11-17T14:04:42.811Z"
   },
   {
    "duration": 11,
    "start_time": "2022-11-17T14:04:42.818Z"
   },
   {
    "duration": 6,
    "start_time": "2022-11-17T14:04:42.831Z"
   },
   {
    "duration": 42,
    "start_time": "2022-11-17T14:04:42.839Z"
   },
   {
    "duration": 5,
    "start_time": "2022-11-17T14:04:42.883Z"
   },
   {
    "duration": 9,
    "start_time": "2022-11-17T14:04:42.890Z"
   },
   {
    "duration": 10,
    "start_time": "2022-11-17T14:04:42.901Z"
   },
   {
    "duration": 7,
    "start_time": "2022-11-17T14:04:42.913Z"
   },
   {
    "duration": 10,
    "start_time": "2022-11-17T14:04:42.922Z"
   },
   {
    "duration": 7,
    "start_time": "2022-11-17T14:04:42.934Z"
   },
   {
    "duration": 10,
    "start_time": "2022-11-17T14:04:42.976Z"
   },
   {
    "duration": 6,
    "start_time": "2022-11-17T14:04:42.988Z"
   },
   {
    "duration": 8,
    "start_time": "2022-11-17T14:04:42.995Z"
   },
   {
    "duration": 6,
    "start_time": "2022-11-17T14:04:43.005Z"
   },
   {
    "duration": 323,
    "start_time": "2022-11-17T14:04:43.013Z"
   },
   {
    "duration": 162,
    "start_time": "2022-11-17T14:04:43.338Z"
   },
   {
    "duration": 184,
    "start_time": "2022-11-17T14:04:43.502Z"
   },
   {
    "duration": 169,
    "start_time": "2022-11-17T14:04:43.688Z"
   },
   {
    "duration": 154,
    "start_time": "2022-11-17T14:04:43.859Z"
   },
   {
    "duration": 148,
    "start_time": "2022-11-17T14:04:44.015Z"
   },
   {
    "duration": 157,
    "start_time": "2022-11-17T14:04:44.165Z"
   },
   {
    "duration": 163,
    "start_time": "2022-11-17T14:04:44.324Z"
   },
   {
    "duration": 166,
    "start_time": "2022-11-17T14:04:44.489Z"
   },
   {
    "duration": 406,
    "start_time": "2022-11-17T14:04:44.657Z"
   },
   {
    "duration": 184,
    "start_time": "2022-11-17T14:04:45.065Z"
   },
   {
    "duration": 244,
    "start_time": "2022-11-17T14:04:45.251Z"
   },
   {
    "duration": 181,
    "start_time": "2022-11-17T14:04:45.497Z"
   },
   {
    "duration": 163,
    "start_time": "2022-11-17T14:04:45.679Z"
   },
   {
    "duration": 6,
    "start_time": "2022-11-17T14:04:45.844Z"
   },
   {
    "duration": 148,
    "start_time": "2022-11-17T14:04:45.851Z"
   },
   {
    "duration": 6,
    "start_time": "2022-11-17T14:04:46.001Z"
   },
   {
    "duration": 7,
    "start_time": "2022-11-17T14:04:46.008Z"
   },
   {
    "duration": 195,
    "start_time": "2022-11-17T14:04:46.017Z"
   },
   {
    "duration": 132,
    "start_time": "2022-11-17T14:04:46.213Z"
   },
   {
    "duration": 142,
    "start_time": "2022-11-17T14:04:46.347Z"
   },
   {
    "duration": 130,
    "start_time": "2022-11-17T14:04:46.491Z"
   },
   {
    "duration": 118,
    "start_time": "2022-11-17T14:04:46.623Z"
   },
   {
    "duration": 452,
    "start_time": "2022-11-17T14:04:46.743Z"
   },
   {
    "duration": 0,
    "start_time": "2022-11-17T14:04:47.197Z"
   },
   {
    "duration": 0,
    "start_time": "2022-11-17T14:04:47.198Z"
   },
   {
    "duration": 0,
    "start_time": "2022-11-17T14:04:47.199Z"
   },
   {
    "duration": 0,
    "start_time": "2022-11-17T14:04:47.200Z"
   },
   {
    "duration": 0,
    "start_time": "2022-11-17T14:04:47.202Z"
   },
   {
    "duration": 61,
    "start_time": "2022-11-17T14:05:21.089Z"
   },
   {
    "duration": 148,
    "start_time": "2022-11-17T14:05:53.144Z"
   },
   {
    "duration": 71,
    "start_time": "2022-11-17T14:09:06.354Z"
   },
   {
    "duration": 589,
    "start_time": "2022-11-17T14:10:19.305Z"
   },
   {
    "duration": 111,
    "start_time": "2022-11-17T14:10:32.594Z"
   },
   {
    "duration": 15,
    "start_time": "2022-11-17T14:10:32.708Z"
   },
   {
    "duration": 18,
    "start_time": "2022-11-17T14:10:32.725Z"
   },
   {
    "duration": 2315,
    "start_time": "2022-11-17T14:10:32.745Z"
   },
   {
    "duration": 22,
    "start_time": "2022-11-17T14:10:35.062Z"
   },
   {
    "duration": 29,
    "start_time": "2022-11-17T14:10:35.086Z"
   },
   {
    "duration": 31,
    "start_time": "2022-11-17T14:10:35.117Z"
   },
   {
    "duration": 19,
    "start_time": "2022-11-17T14:10:35.150Z"
   },
   {
    "duration": 28,
    "start_time": "2022-11-17T14:10:35.170Z"
   },
   {
    "duration": 21,
    "start_time": "2022-11-17T14:10:35.201Z"
   },
   {
    "duration": 43,
    "start_time": "2022-11-17T14:10:35.224Z"
   },
   {
    "duration": 25,
    "start_time": "2022-11-17T14:10:35.270Z"
   },
   {
    "duration": 47,
    "start_time": "2022-11-17T14:10:35.298Z"
   },
   {
    "duration": 15,
    "start_time": "2022-11-17T14:10:35.348Z"
   },
   {
    "duration": 9,
    "start_time": "2022-11-17T14:10:35.364Z"
   },
   {
    "duration": 9,
    "start_time": "2022-11-17T14:10:35.375Z"
   },
   {
    "duration": 21,
    "start_time": "2022-11-17T14:10:35.385Z"
   },
   {
    "duration": 22,
    "start_time": "2022-11-17T14:10:35.407Z"
   },
   {
    "duration": 17,
    "start_time": "2022-11-17T14:10:35.431Z"
   },
   {
    "duration": 101,
    "start_time": "2022-11-17T14:10:35.450Z"
   },
   {
    "duration": 24,
    "start_time": "2022-11-17T14:10:35.553Z"
   },
   {
    "duration": 7,
    "start_time": "2022-11-17T14:10:35.578Z"
   },
   {
    "duration": 46,
    "start_time": "2022-11-17T14:10:35.587Z"
   },
   {
    "duration": 9,
    "start_time": "2022-11-17T14:10:35.635Z"
   },
   {
    "duration": 17,
    "start_time": "2022-11-17T14:10:35.646Z"
   },
   {
    "duration": 38,
    "start_time": "2022-11-17T14:10:35.665Z"
   },
   {
    "duration": 42,
    "start_time": "2022-11-17T14:10:35.706Z"
   },
   {
    "duration": 6,
    "start_time": "2022-11-17T14:10:35.755Z"
   },
   {
    "duration": 22,
    "start_time": "2022-11-17T14:10:35.763Z"
   },
   {
    "duration": 17,
    "start_time": "2022-11-17T14:10:35.787Z"
   },
   {
    "duration": 13,
    "start_time": "2022-11-17T14:10:35.806Z"
   },
   {
    "duration": 13,
    "start_time": "2022-11-17T14:10:35.821Z"
   },
   {
    "duration": 13,
    "start_time": "2022-11-17T14:10:35.835Z"
   },
   {
    "duration": 7,
    "start_time": "2022-11-17T14:10:35.850Z"
   },
   {
    "duration": 17,
    "start_time": "2022-11-17T14:10:35.859Z"
   },
   {
    "duration": 6,
    "start_time": "2022-11-17T14:10:35.877Z"
   },
   {
    "duration": 16,
    "start_time": "2022-11-17T14:10:35.885Z"
   },
   {
    "duration": 7,
    "start_time": "2022-11-17T14:10:35.903Z"
   },
   {
    "duration": 11,
    "start_time": "2022-11-17T14:10:35.912Z"
   },
   {
    "duration": 14,
    "start_time": "2022-11-17T14:10:35.925Z"
   },
   {
    "duration": 7,
    "start_time": "2022-11-17T14:10:35.940Z"
   },
   {
    "duration": 28,
    "start_time": "2022-11-17T14:10:35.948Z"
   },
   {
    "duration": 5,
    "start_time": "2022-11-17T14:10:35.978Z"
   },
   {
    "duration": 13,
    "start_time": "2022-11-17T14:10:35.985Z"
   },
   {
    "duration": 6,
    "start_time": "2022-11-17T14:10:36.000Z"
   },
   {
    "duration": 12,
    "start_time": "2022-11-17T14:10:36.008Z"
   },
   {
    "duration": 51,
    "start_time": "2022-11-17T14:10:36.022Z"
   },
   {
    "duration": 352,
    "start_time": "2022-11-17T14:10:36.075Z"
   },
   {
    "duration": 158,
    "start_time": "2022-11-17T14:10:36.429Z"
   },
   {
    "duration": 148,
    "start_time": "2022-11-17T14:10:36.589Z"
   },
   {
    "duration": 156,
    "start_time": "2022-11-17T14:10:36.739Z"
   },
   {
    "duration": 163,
    "start_time": "2022-11-17T14:10:36.896Z"
   },
   {
    "duration": 159,
    "start_time": "2022-11-17T14:10:37.061Z"
   },
   {
    "duration": 194,
    "start_time": "2022-11-17T14:10:37.223Z"
   },
   {
    "duration": 163,
    "start_time": "2022-11-17T14:10:37.419Z"
   },
   {
    "duration": 170,
    "start_time": "2022-11-17T14:10:37.584Z"
   },
   {
    "duration": 153,
    "start_time": "2022-11-17T14:10:37.756Z"
   },
   {
    "duration": 163,
    "start_time": "2022-11-17T14:10:37.910Z"
   },
   {
    "duration": 167,
    "start_time": "2022-11-17T14:10:38.075Z"
   },
   {
    "duration": 162,
    "start_time": "2022-11-17T14:10:38.244Z"
   },
   {
    "duration": 170,
    "start_time": "2022-11-17T14:10:38.408Z"
   },
   {
    "duration": 5,
    "start_time": "2022-11-17T14:10:38.580Z"
   },
   {
    "duration": 171,
    "start_time": "2022-11-17T14:10:38.586Z"
   },
   {
    "duration": 4,
    "start_time": "2022-11-17T14:10:38.759Z"
   },
   {
    "duration": 6,
    "start_time": "2022-11-17T14:10:38.776Z"
   },
   {
    "duration": 165,
    "start_time": "2022-11-17T14:10:38.784Z"
   },
   {
    "duration": 138,
    "start_time": "2022-11-17T14:10:38.951Z"
   },
   {
    "duration": 159,
    "start_time": "2022-11-17T14:10:39.091Z"
   },
   {
    "duration": 160,
    "start_time": "2022-11-17T14:10:39.252Z"
   },
   {
    "duration": 137,
    "start_time": "2022-11-17T14:10:39.414Z"
   },
   {
    "duration": 425,
    "start_time": "2022-11-17T14:10:39.553Z"
   },
   {
    "duration": 0,
    "start_time": "2022-11-17T14:10:39.980Z"
   },
   {
    "duration": 0,
    "start_time": "2022-11-17T14:10:39.981Z"
   },
   {
    "duration": 0,
    "start_time": "2022-11-17T14:10:39.983Z"
   },
   {
    "duration": 0,
    "start_time": "2022-11-17T14:10:39.984Z"
   },
   {
    "duration": 0,
    "start_time": "2022-11-17T14:10:39.985Z"
   },
   {
    "duration": 494,
    "start_time": "2022-11-17T19:17:22.882Z"
   },
   {
    "duration": 14,
    "start_time": "2022-11-17T19:17:23.378Z"
   },
   {
    "duration": 4,
    "start_time": "2022-11-17T19:17:23.394Z"
   },
   {
    "duration": 2121,
    "start_time": "2022-11-17T19:17:23.399Z"
   },
   {
    "duration": 8,
    "start_time": "2022-11-17T19:17:25.526Z"
   },
   {
    "duration": 17,
    "start_time": "2022-11-17T19:17:25.536Z"
   },
   {
    "duration": 5,
    "start_time": "2022-11-17T19:17:25.555Z"
   },
   {
    "duration": 19,
    "start_time": "2022-11-17T19:17:25.562Z"
   },
   {
    "duration": 9,
    "start_time": "2022-11-17T19:17:25.583Z"
   },
   {
    "duration": 8,
    "start_time": "2022-11-17T19:17:25.595Z"
   },
   {
    "duration": 22,
    "start_time": "2022-11-17T19:17:25.605Z"
   },
   {
    "duration": 6,
    "start_time": "2022-11-17T19:17:25.629Z"
   },
   {
    "duration": 23,
    "start_time": "2022-11-17T19:17:25.637Z"
   },
   {
    "duration": 15,
    "start_time": "2022-11-17T19:17:25.663Z"
   },
   {
    "duration": 13,
    "start_time": "2022-11-17T19:17:25.679Z"
   },
   {
    "duration": 7,
    "start_time": "2022-11-17T19:17:25.693Z"
   },
   {
    "duration": 16,
    "start_time": "2022-11-17T19:17:25.702Z"
   },
   {
    "duration": 21,
    "start_time": "2022-11-17T19:17:25.719Z"
   },
   {
    "duration": 8,
    "start_time": "2022-11-17T19:17:25.741Z"
   },
   {
    "duration": 85,
    "start_time": "2022-11-17T19:17:25.751Z"
   },
   {
    "duration": 7,
    "start_time": "2022-11-17T19:17:25.838Z"
   },
   {
    "duration": 7,
    "start_time": "2022-11-17T19:17:25.847Z"
   },
   {
    "duration": 23,
    "start_time": "2022-11-17T19:17:25.856Z"
   },
   {
    "duration": 6,
    "start_time": "2022-11-17T19:17:25.881Z"
   },
   {
    "duration": 3,
    "start_time": "2022-11-17T19:17:25.889Z"
   },
   {
    "duration": 42,
    "start_time": "2022-11-17T19:17:25.893Z"
   },
   {
    "duration": 15,
    "start_time": "2022-11-17T19:17:25.937Z"
   },
   {
    "duration": 19,
    "start_time": "2022-11-17T19:17:25.953Z"
   },
   {
    "duration": 14,
    "start_time": "2022-11-17T19:17:25.974Z"
   },
   {
    "duration": 11,
    "start_time": "2022-11-17T19:17:25.990Z"
   },
   {
    "duration": 25,
    "start_time": "2022-11-17T19:17:26.003Z"
   },
   {
    "duration": 13,
    "start_time": "2022-11-17T19:17:26.030Z"
   },
   {
    "duration": 18,
    "start_time": "2022-11-17T19:17:26.045Z"
   },
   {
    "duration": 11,
    "start_time": "2022-11-17T19:17:26.065Z"
   },
   {
    "duration": 12,
    "start_time": "2022-11-17T19:17:26.077Z"
   },
   {
    "duration": 14,
    "start_time": "2022-11-17T19:17:26.090Z"
   },
   {
    "duration": 12,
    "start_time": "2022-11-17T19:17:26.105Z"
   },
   {
    "duration": 12,
    "start_time": "2022-11-17T19:17:26.119Z"
   },
   {
    "duration": 7,
    "start_time": "2022-11-17T19:17:26.133Z"
   },
   {
    "duration": 15,
    "start_time": "2022-11-17T19:17:26.141Z"
   },
   {
    "duration": 6,
    "start_time": "2022-11-17T19:17:26.160Z"
   },
   {
    "duration": 8,
    "start_time": "2022-11-17T19:17:26.168Z"
   },
   {
    "duration": 11,
    "start_time": "2022-11-17T19:17:26.177Z"
   },
   {
    "duration": 9,
    "start_time": "2022-11-17T19:17:26.189Z"
   },
   {
    "duration": 6,
    "start_time": "2022-11-17T19:17:26.199Z"
   },
   {
    "duration": 20,
    "start_time": "2022-11-17T19:17:26.206Z"
   },
   {
    "duration": 11,
    "start_time": "2022-11-17T19:17:26.228Z"
   },
   {
    "duration": 297,
    "start_time": "2022-11-17T19:17:26.241Z"
   },
   {
    "duration": 150,
    "start_time": "2022-11-17T19:17:26.540Z"
   },
   {
    "duration": 227,
    "start_time": "2022-11-17T19:17:26.691Z"
   },
   {
    "duration": 147,
    "start_time": "2022-11-17T19:17:26.919Z"
   },
   {
    "duration": 148,
    "start_time": "2022-11-17T19:17:27.068Z"
   },
   {
    "duration": 138,
    "start_time": "2022-11-17T19:17:27.217Z"
   },
   {
    "duration": 148,
    "start_time": "2022-11-17T19:17:27.357Z"
   },
   {
    "duration": 141,
    "start_time": "2022-11-17T19:17:27.507Z"
   },
   {
    "duration": 158,
    "start_time": "2022-11-17T19:17:27.650Z"
   },
   {
    "duration": 146,
    "start_time": "2022-11-17T19:17:27.809Z"
   },
   {
    "duration": 145,
    "start_time": "2022-11-17T19:17:27.957Z"
   },
   {
    "duration": 162,
    "start_time": "2022-11-17T19:17:28.104Z"
   },
   {
    "duration": 148,
    "start_time": "2022-11-17T19:17:28.267Z"
   },
   {
    "duration": 246,
    "start_time": "2022-11-17T19:17:28.417Z"
   },
   {
    "duration": 5,
    "start_time": "2022-11-17T19:17:28.665Z"
   },
   {
    "duration": 163,
    "start_time": "2022-11-17T19:17:28.671Z"
   },
   {
    "duration": 4,
    "start_time": "2022-11-17T19:17:28.835Z"
   },
   {
    "duration": 9,
    "start_time": "2022-11-17T19:17:28.841Z"
   },
   {
    "duration": 157,
    "start_time": "2022-11-17T19:17:28.851Z"
   },
   {
    "duration": 146,
    "start_time": "2022-11-17T19:17:29.010Z"
   },
   {
    "duration": 134,
    "start_time": "2022-11-17T19:17:29.157Z"
   },
   {
    "duration": 125,
    "start_time": "2022-11-17T19:17:29.293Z"
   },
   {
    "duration": 108,
    "start_time": "2022-11-17T19:17:29.425Z"
   },
   {
    "duration": 507,
    "start_time": "2022-11-17T19:17:29.535Z"
   },
   {
    "duration": 0,
    "start_time": "2022-11-17T19:17:30.044Z"
   },
   {
    "duration": 0,
    "start_time": "2022-11-17T19:17:30.045Z"
   },
   {
    "duration": 0,
    "start_time": "2022-11-17T19:17:30.046Z"
   },
   {
    "duration": 0,
    "start_time": "2022-11-17T19:17:30.047Z"
   },
   {
    "duration": 0,
    "start_time": "2022-11-17T19:17:30.049Z"
   },
   {
    "duration": 102,
    "start_time": "2022-11-17T19:25:54.297Z"
   },
   {
    "duration": 109,
    "start_time": "2022-11-17T19:25:55.153Z"
   },
   {
    "duration": 115,
    "start_time": "2022-11-17T19:25:56.019Z"
   },
   {
    "duration": 26,
    "start_time": "2022-11-17T19:25:57.910Z"
   },
   {
    "duration": 152,
    "start_time": "2022-11-17T19:25:58.678Z"
   },
   {
    "duration": 196,
    "start_time": "2022-11-17T19:28:09.894Z"
   }
  ],
  "kernelspec": {
   "display_name": "Python 3 (ipykernel)",
   "language": "python",
   "name": "python3"
  },
  "language_info": {
   "codemirror_mode": {
    "name": "ipython",
    "version": 3
   },
   "file_extension": ".py",
   "mimetype": "text/x-python",
   "name": "python",
   "nbconvert_exporter": "python",
   "pygments_lexer": "ipython3",
   "version": "3.9.13"
  },
  "toc": {
   "base_numbering": 1,
   "nav_menu": {},
   "number_sections": true,
   "sideBar": true,
   "skip_h1_title": true,
   "title_cell": "Table of Contents",
   "title_sidebar": "Contents",
   "toc_cell": false,
   "toc_position": {},
   "toc_section_display": true,
   "toc_window_display": false
  }
 },
 "nbformat": 4,
 "nbformat_minor": 5
}
